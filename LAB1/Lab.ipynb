{
 "cells": [
  {
   "attachments": {},
   "cell_type": "markdown",
   "metadata": {},
   "source": [
    "# Perfilamiento de datos\n"
   ]
  },
  {
   "cell_type": "code",
   "execution_count": 3,
   "metadata": {},
   "outputs": [
    {
     "ename": "ModuleNotFoundError",
     "evalue": "No module named 'pandas_profiling'",
     "output_type": "error",
     "traceback": [
      "\u001b[1;31m---------------------------------------------------------------------------\u001b[0m",
      "\u001b[1;31mModuleNotFoundError\u001b[0m                       Traceback (most recent call last)",
      "\u001b[1;32m~\\AppData\\Local\\Temp\\ipykernel_17212\\1774057532.py\u001b[0m in \u001b[0;36m<module>\u001b[1;34m\u001b[0m\n\u001b[0;32m      3\u001b[0m \u001b[0mpd\u001b[0m\u001b[1;33m.\u001b[0m\u001b[0mset_option\u001b[0m\u001b[1;33m(\u001b[0m\u001b[1;34m'display.max_rows'\u001b[0m\u001b[1;33m,\u001b[0m \u001b[1;36m50\u001b[0m\u001b[1;33m)\u001b[0m \u001b[1;31m# Número máximo de filas a mostar\u001b[0m\u001b[1;33m\u001b[0m\u001b[1;33m\u001b[0m\u001b[0m\n\u001b[0;32m      4\u001b[0m \u001b[1;33m\u001b[0m\u001b[0m\n\u001b[1;32m----> 5\u001b[1;33m \u001b[1;32mimport\u001b[0m \u001b[0mpandas_profiling\u001b[0m\u001b[1;33m\u001b[0m\u001b[1;33m\u001b[0m\u001b[0m\n\u001b[0m\u001b[0;32m      6\u001b[0m \u001b[1;33m\u001b[0m\u001b[0m\n\u001b[0;32m      7\u001b[0m \u001b[1;32mimport\u001b[0m \u001b[0mnumpy\u001b[0m \u001b[1;32mas\u001b[0m \u001b[0mnp\u001b[0m\u001b[1;33m\u001b[0m\u001b[1;33m\u001b[0m\u001b[0m\n",
      "\u001b[1;31mModuleNotFoundError\u001b[0m: No module named 'pandas_profiling'"
     ]
    }
   ],
   "source": [
    "import pandas as pd\n",
    "pd.set_option('display.max_columns', 25) # Número máximo de columnas a mostrar\n",
    "pd.set_option('display.max_rows', 50) # Número máximo de filas a mostar\n",
    "\n",
    "import pandas_profiling\n",
    "\n",
    "import numpy as np\n",
    "np.random.seed(3301)\n",
    "\n",
    "# Seaborn\n",
    "import seaborn as sns\n",
    "\n",
    "import matplotlib.pyplot as plt\n"
   ]
  },
  {
   "cell_type": "code",
   "execution_count": null,
   "metadata": {},
   "outputs": [],
   "source": [
    "\n",
    "# Ubicación de la base de datos\n",
    "db_location = r'C:\\Users\\user\\Desktop\\Andes\\8\\bi\\datos.csv'"
   ]
  },
  {
   "cell_type": "code",
   "execution_count": null,
   "metadata": {},
   "outputs": [],
   "source": [
    "# Cargar los datos\n",
    "df_lab=pd.read_csv(db_location, sep=';', encoding = \"ISO-8859-1\")"
   ]
  },
  {
   "cell_type": "code",
   "execution_count": null,
   "metadata": {},
   "outputs": [
    {
     "data": {
      "text/html": [
       "<div>\n",
       "<style scoped>\n",
       "    .dataframe tbody tr th:only-of-type {\n",
       "        vertical-align: middle;\n",
       "    }\n",
       "\n",
       "    .dataframe tbody tr th {\n",
       "        vertical-align: top;\n",
       "    }\n",
       "\n",
       "    .dataframe thead th {\n",
       "        text-align: right;\n",
       "    }\n",
       "</style>\n",
       "<table border=\"1\" class=\"dataframe\">\n",
       "  <thead>\n",
       "    <tr style=\"text-align: right;\">\n",
       "      <th></th>\n",
       "      <th>#</th>\n",
       "      <th>index</th>\n",
       "      <th>tconst</th>\n",
       "      <th>titleType</th>\n",
       "      <th>originalTitle</th>\n",
       "      <th>isAdult</th>\n",
       "      <th>startYear</th>\n",
       "      <th>runtimeMinutes</th>\n",
       "      <th>averageRating</th>\n",
       "      <th>numVotes</th>\n",
       "      <th>ordering</th>\n",
       "      <th>region</th>\n",
       "      <th>language</th>\n",
       "      <th>types</th>\n",
       "      <th>attributes</th>\n",
       "      <th>isOriginalTitle</th>\n",
       "      <th>main_genre</th>\n",
       "      <th>secondary_genre</th>\n",
       "    </tr>\n",
       "  </thead>\n",
       "  <tbody>\n",
       "    <tr>\n",
       "      <th>7270</th>\n",
       "      <td>7649</td>\n",
       "      <td>10031</td>\n",
       "      <td>tt6043142</td>\n",
       "      <td>movie</td>\n",
       "      <td>Skin</td>\n",
       "      <td>0.0</td>\n",
       "      <td>2018.0</td>\n",
       "      <td>118</td>\n",
       "      <td>6.8</td>\n",
       "      <td>17490.0</td>\n",
       "      <td>5.0</td>\n",
       "      <td>CA</td>\n",
       "      <td>en</td>\n",
       "      <td>imdbDisplay</td>\n",
       "      <td>\\N</td>\n",
       "      <td>0.0</td>\n",
       "      <td>Biography</td>\n",
       "      <td>Crime</td>\n",
       "    </tr>\n",
       "    <tr>\n",
       "      <th>6973</th>\n",
       "      <td>7349</td>\n",
       "      <td>9666</td>\n",
       "      <td>tt3083008</td>\n",
       "      <td>movie</td>\n",
       "      <td>The Program</td>\n",
       "      <td>0.0</td>\n",
       "      <td>2015.0</td>\n",
       "      <td>99</td>\n",
       "      <td>6.5</td>\n",
       "      <td>18429.0</td>\n",
       "      <td>34.0</td>\n",
       "      <td>CA</td>\n",
       "      <td>en</td>\n",
       "      <td>imdbDisplay</td>\n",
       "      <td>\\N</td>\n",
       "      <td>0.0</td>\n",
       "      <td>Biography</td>\n",
       "      <td>Drama</td>\n",
       "    </tr>\n",
       "    <tr>\n",
       "      <th>3374</th>\n",
       "      <td>3671</td>\n",
       "      <td>4974</td>\n",
       "      <td>tt2292625</td>\n",
       "      <td>movie</td>\n",
       "      <td>Chakravyuh</td>\n",
       "      <td>0.0</td>\n",
       "      <td>2012.0</td>\n",
       "      <td>152</td>\n",
       "      <td>6.8</td>\n",
       "      <td>3353.0</td>\n",
       "      <td>5.0</td>\n",
       "      <td>IN</td>\n",
       "      <td>en</td>\n",
       "      <td>imdbDisplay</td>\n",
       "      <td>\\N</td>\n",
       "      <td>0.0</td>\n",
       "      <td>Action</td>\n",
       "      <td>Drama</td>\n",
       "    </tr>\n",
       "    <tr>\n",
       "      <th>6297</th>\n",
       "      <td>6667</td>\n",
       "      <td>8796</td>\n",
       "      <td>tt0924129</td>\n",
       "      <td>movie</td>\n",
       "      <td>Crossing Over</td>\n",
       "      <td>0.0</td>\n",
       "      <td>2009.0</td>\n",
       "      <td>113</td>\n",
       "      <td>6.7</td>\n",
       "      <td>24084.0</td>\n",
       "      <td>31.0</td>\n",
       "      <td>CA</td>\n",
       "      <td>en</td>\n",
       "      <td>imdbDisplay</td>\n",
       "      <td>\\N</td>\n",
       "      <td>0.0</td>\n",
       "      <td>Crime</td>\n",
       "      <td>Drama</td>\n",
       "    </tr>\n",
       "    <tr>\n",
       "      <th>2428</th>\n",
       "      <td>2718</td>\n",
       "      <td>3788</td>\n",
       "      <td>tt14428598</td>\n",
       "      <td>movie</td>\n",
       "      <td>Qala</td>\n",
       "      <td>0.0</td>\n",
       "      <td>2022.0</td>\n",
       "      <td>119</td>\n",
       "      <td>7.2</td>\n",
       "      <td>6594.0</td>\n",
       "      <td>9.0</td>\n",
       "      <td>IN</td>\n",
       "      <td>en</td>\n",
       "      <td>imdbDisplay</td>\n",
       "      <td>\\N</td>\n",
       "      <td>0.0</td>\n",
       "      <td>Drama</td>\n",
       "      <td>Music</td>\n",
       "    </tr>\n",
       "    <tr>\n",
       "      <th>...</th>\n",
       "      <td>...</td>\n",
       "      <td>...</td>\n",
       "      <td>...</td>\n",
       "      <td>...</td>\n",
       "      <td>...</td>\n",
       "      <td>...</td>\n",
       "      <td>...</td>\n",
       "      <td>...</td>\n",
       "      <td>...</td>\n",
       "      <td>...</td>\n",
       "      <td>...</td>\n",
       "      <td>...</td>\n",
       "      <td>...</td>\n",
       "      <td>...</td>\n",
       "      <td>...</td>\n",
       "      <td>...</td>\n",
       "      <td>...</td>\n",
       "      <td>...</td>\n",
       "    </tr>\n",
       "    <tr>\n",
       "      <th>3670</th>\n",
       "      <td>3969</td>\n",
       "      <td>5339</td>\n",
       "      <td>tt2887954</td>\n",
       "      <td>tvSeries</td>\n",
       "      <td>Tokyo Vice</td>\n",
       "      <td>0.0</td>\n",
       "      <td>2022.0</td>\n",
       "      <td>60</td>\n",
       "      <td>8.0</td>\n",
       "      <td>32936.0</td>\n",
       "      <td>23.0</td>\n",
       "      <td>IN</td>\n",
       "      <td>en</td>\n",
       "      <td>imdbDisplay</td>\n",
       "      <td>\\N</td>\n",
       "      <td>0.0</td>\n",
       "      <td>Crime</td>\n",
       "      <td>Drama</td>\n",
       "    </tr>\n",
       "    <tr>\n",
       "      <th>6507</th>\n",
       "      <td>6879</td>\n",
       "      <td>9078</td>\n",
       "      <td>tt1325113</td>\n",
       "      <td>tvSeries</td>\n",
       "      <td>Childrens Hospital</td>\n",
       "      <td>0.0</td>\n",
       "      <td>2008.0</td>\n",
       "      <td>11</td>\n",
       "      <td>7.8</td>\n",
       "      <td>8012.0</td>\n",
       "      <td>9.0</td>\n",
       "      <td>CA</td>\n",
       "      <td>en</td>\n",
       "      <td>imdbDisplay</td>\n",
       "      <td>\\N</td>\n",
       "      <td>0.0</td>\n",
       "      <td>Comedy</td>\n",
       "      <td>Short</td>\n",
       "    </tr>\n",
       "    <tr>\n",
       "      <th>2765</th>\n",
       "      <td>3059</td>\n",
       "      <td>4206</td>\n",
       "      <td>tt1618447</td>\n",
       "      <td>movie</td>\n",
       "      <td>Un amour de jeunesse</td>\n",
       "      <td>0.0</td>\n",
       "      <td>2011.0</td>\n",
       "      <td>110</td>\n",
       "      <td>6.6</td>\n",
       "      <td>5568.0</td>\n",
       "      <td>22.0</td>\n",
       "      <td>IN</td>\n",
       "      <td>en</td>\n",
       "      <td>imdbDisplay</td>\n",
       "      <td>\\N</td>\n",
       "      <td>0.0</td>\n",
       "      <td>Drama</td>\n",
       "      <td>Romance</td>\n",
       "    </tr>\n",
       "    <tr>\n",
       "      <th>5844</th>\n",
       "      <td>6210</td>\n",
       "      <td>8158</td>\n",
       "      <td>tt0280477</td>\n",
       "      <td>movie</td>\n",
       "      <td>Better Luck Tomorrow</td>\n",
       "      <td>0.0</td>\n",
       "      <td>2002.0</td>\n",
       "      <td>101</td>\n",
       "      <td>7.0</td>\n",
       "      <td>10242.0</td>\n",
       "      <td>12.0</td>\n",
       "      <td>CA</td>\n",
       "      <td>en</td>\n",
       "      <td>imdbDisplay</td>\n",
       "      <td>\\N</td>\n",
       "      <td>0.0</td>\n",
       "      <td>Crime</td>\n",
       "      <td>Drama</td>\n",
       "    </tr>\n",
       "    <tr>\n",
       "      <th>7417</th>\n",
       "      <td>7796</td>\n",
       "      <td>10208</td>\n",
       "      <td>tt8299654</td>\n",
       "      <td>movie</td>\n",
       "      <td>At the Heart of Gold: Inside the USA Gymnastic...</td>\n",
       "      <td>0.0</td>\n",
       "      <td>2019.0</td>\n",
       "      <td>88</td>\n",
       "      <td>8.0</td>\n",
       "      <td>3310.0</td>\n",
       "      <td>9.0</td>\n",
       "      <td>CA</td>\n",
       "      <td>en</td>\n",
       "      <td>imdbDisplay</td>\n",
       "      <td>\\N</td>\n",
       "      <td>0.0</td>\n",
       "      <td>Crime</td>\n",
       "      <td>Documentary</td>\n",
       "    </tr>\n",
       "  </tbody>\n",
       "</table>\n",
       "<p>100 rows × 18 columns</p>\n",
       "</div>"
      ],
      "text/plain": [
       "         #  index      tconst titleType  \\\n",
       "7270  7649  10031   tt6043142     movie   \n",
       "6973  7349   9666   tt3083008     movie   \n",
       "3374  3671   4974   tt2292625     movie   \n",
       "6297  6667   8796   tt0924129     movie   \n",
       "2428  2718   3788  tt14428598     movie   \n",
       "...    ...    ...         ...       ...   \n",
       "3670  3969   5339   tt2887954  tvSeries   \n",
       "6507  6879   9078   tt1325113  tvSeries   \n",
       "2765  3059   4206   tt1618447     movie   \n",
       "5844  6210   8158   tt0280477     movie   \n",
       "7417  7796  10208   tt8299654     movie   \n",
       "\n",
       "                                          originalTitle  isAdult  startYear  \\\n",
       "7270                                               Skin      0.0     2018.0   \n",
       "6973                                        The Program      0.0     2015.0   \n",
       "3374                                         Chakravyuh      0.0     2012.0   \n",
       "6297                                      Crossing Over      0.0     2009.0   \n",
       "2428                                               Qala      0.0     2022.0   \n",
       "...                                                 ...      ...        ...   \n",
       "3670                                         Tokyo Vice      0.0     2022.0   \n",
       "6507                                 Childrens Hospital      0.0     2008.0   \n",
       "2765                               Un amour de jeunesse      0.0     2011.0   \n",
       "5844                               Better Luck Tomorrow      0.0     2002.0   \n",
       "7417  At the Heart of Gold: Inside the USA Gymnastic...      0.0     2019.0   \n",
       "\n",
       "     runtimeMinutes  averageRating  numVotes  ordering region language  \\\n",
       "7270            118            6.8   17490.0       5.0     CA       en   \n",
       "6973             99            6.5   18429.0      34.0     CA       en   \n",
       "3374            152            6.8    3353.0       5.0     IN       en   \n",
       "6297            113            6.7   24084.0      31.0     CA       en   \n",
       "2428            119            7.2    6594.0       9.0     IN       en   \n",
       "...             ...            ...       ...       ...    ...      ...   \n",
       "3670             60            8.0   32936.0      23.0     IN       en   \n",
       "6507             11            7.8    8012.0       9.0     CA       en   \n",
       "2765            110            6.6    5568.0      22.0     IN       en   \n",
       "5844            101            7.0   10242.0      12.0     CA       en   \n",
       "7417             88            8.0    3310.0       9.0     CA       en   \n",
       "\n",
       "            types attributes  isOriginalTitle main_genre secondary_genre  \n",
       "7270  imdbDisplay         \\N              0.0  Biography           Crime  \n",
       "6973  imdbDisplay         \\N              0.0  Biography           Drama  \n",
       "3374  imdbDisplay         \\N              0.0     Action           Drama  \n",
       "6297  imdbDisplay         \\N              0.0      Crime           Drama  \n",
       "2428  imdbDisplay         \\N              0.0      Drama           Music  \n",
       "...           ...        ...              ...        ...             ...  \n",
       "3670  imdbDisplay         \\N              0.0      Crime           Drama  \n",
       "6507  imdbDisplay         \\N              0.0     Comedy           Short  \n",
       "2765  imdbDisplay         \\N              0.0      Drama         Romance  \n",
       "5844  imdbDisplay         \\N              0.0      Crime           Drama  \n",
       "7417  imdbDisplay         \\N              0.0      Crime     Documentary  \n",
       "\n",
       "[100 rows x 18 columns]"
      ]
     },
     "metadata": {},
     "output_type": "display_data"
    }
   ],
   "source": [
    "# Ver los datos\n",
    "display(df_lab.sample(100)) # Muestra\n",
    "#display(df_bicis.head(5)) # Primeras Filas\n",
    "#display(df_bicis.tail(5)) # Ultimas Filas"
   ]
  },
  {
   "attachments": {},
   "cell_type": "markdown",
   "metadata": {},
   "source": [
    "# Tipos diferentes tipos de las columnas"
   ]
  },
  {
   "cell_type": "code",
   "execution_count": null,
   "metadata": {},
   "outputs": [
    {
     "data": {
      "text/plain": [
       "#                    int64\n",
       "index                int64\n",
       "tconst              object\n",
       "titleType           object\n",
       "originalTitle       object\n",
       "isAdult            float64\n",
       "startYear          float64\n",
       "runtimeMinutes      object\n",
       "averageRating      float64\n",
       "numVotes           float64\n",
       "ordering           float64\n",
       "region              object\n",
       "language            object\n",
       "types               object\n",
       "attributes          object\n",
       "isOriginalTitle    float64\n",
       "main_genre          object\n",
       "secondary_genre     object\n",
       "dtype: object"
      ]
     },
     "execution_count": 70,
     "metadata": {},
     "output_type": "execute_result"
    }
   ],
   "source": [
    "df_lab.dtypes"
   ]
  },
  {
   "cell_type": "code",
   "execution_count": null,
   "metadata": {},
   "outputs": [
    {
     "data": {
      "text/plain": [
       "(7471, 18)"
      ]
     },
     "execution_count": 71,
     "metadata": {},
     "output_type": "execute_result"
    }
   ],
   "source": [
    "# Revisemos y pensemos nuevamente en la dimensiones de los datos\n",
    "df_lab.shape"
   ]
  },
  {
   "cell_type": "code",
   "execution_count": null,
   "metadata": {},
   "outputs": [
    {
     "data": {
      "text/plain": [
       "Index(['#', 'index', 'isAdult', 'startYear', 'averageRating', 'numVotes',\n",
       "       'ordering', 'isOriginalTitle'],\n",
       "      dtype='object')"
      ]
     },
     "execution_count": 72,
     "metadata": {},
     "output_type": "execute_result"
    }
   ],
   "source": [
    "# Se obtienen las estadísticas principales de las columnas en general sin realizar ningun cambio\n",
    "# por el momento para los datos anomalos y columnas que no aportan informacion\n",
    "\n",
    "number_cols = df_lab.dtypes[(df_lab.dtypes == np.int64) | (df_lab.dtypes == np.float64)].index\n",
    "number_cols = df_lab.select_dtypes(include = ['int','float']).columns\n",
    "number_cols\n"
   ]
  },
  {
   "cell_type": "code",
   "execution_count": null,
   "metadata": {},
   "outputs": [
    {
     "data": {
      "text/plain": [
       "Index(['tconst', 'titleType', 'originalTitle', 'runtimeMinutes', 'region',\n",
       "       'language', 'types', 'attributes', 'main_genre', 'secondary_genre'],\n",
       "      dtype='object')"
      ]
     },
     "execution_count": 73,
     "metadata": {},
     "output_type": "execute_result"
    }
   ],
   "source": [
    "#Ahora realizamos lo mismo para las columnas con valor de objeto\n",
    "object_cols = df_lab.select_dtypes(include=['object']).columns\n",
    "object_cols"
   ]
  },
  {
   "cell_type": "code",
   "execution_count": null,
   "metadata": {},
   "outputs": [
    {
     "data": {
      "text/html": [
       "<div>\n",
       "<style scoped>\n",
       "    .dataframe tbody tr th:only-of-type {\n",
       "        vertical-align: middle;\n",
       "    }\n",
       "\n",
       "    .dataframe tbody tr th {\n",
       "        vertical-align: top;\n",
       "    }\n",
       "\n",
       "    .dataframe thead th {\n",
       "        text-align: right;\n",
       "    }\n",
       "</style>\n",
       "<table border=\"1\" class=\"dataframe\">\n",
       "  <thead>\n",
       "    <tr style=\"text-align: right;\">\n",
       "      <th></th>\n",
       "      <th>#</th>\n",
       "      <th>index</th>\n",
       "      <th>isAdult</th>\n",
       "      <th>startYear</th>\n",
       "      <th>averageRating</th>\n",
       "      <th>numVotes</th>\n",
       "      <th>ordering</th>\n",
       "      <th>isOriginalTitle</th>\n",
       "    </tr>\n",
       "  </thead>\n",
       "  <tbody>\n",
       "    <tr>\n",
       "      <th>count</th>\n",
       "      <td>7471.000000</td>\n",
       "      <td>7471.000000</td>\n",
       "      <td>7470.0</td>\n",
       "      <td>7470.000000</td>\n",
       "      <td>7470.000000</td>\n",
       "      <td>7.470000e+03</td>\n",
       "      <td>7470.000000</td>\n",
       "      <td>7470.0</td>\n",
       "    </tr>\n",
       "    <tr>\n",
       "      <th>mean</th>\n",
       "      <td>4043.482666</td>\n",
       "      <td>5440.458439</td>\n",
       "      <td>0.0</td>\n",
       "      <td>2013.157296</td>\n",
       "      <td>7.475676</td>\n",
       "      <td>7.282830e+04</td>\n",
       "      <td>16.567604</td>\n",
       "      <td>0.0</td>\n",
       "    </tr>\n",
       "    <tr>\n",
       "      <th>std</th>\n",
       "      <td>2192.753689</td>\n",
       "      <td>2752.820924</td>\n",
       "      <td>0.0</td>\n",
       "      <td>6.979151</td>\n",
       "      <td>2.771444</td>\n",
       "      <td>1.640233e+05</td>\n",
       "      <td>12.761147</td>\n",
       "      <td>0.0</td>\n",
       "    </tr>\n",
       "    <tr>\n",
       "      <th>min</th>\n",
       "      <td>1.000000</td>\n",
       "      <td>1.000000</td>\n",
       "      <td>0.0</td>\n",
       "      <td>1990.000000</td>\n",
       "      <td>6.500000</td>\n",
       "      <td>1.000000e+01</td>\n",
       "      <td>1.000000</td>\n",
       "      <td>0.0</td>\n",
       "    </tr>\n",
       "    <tr>\n",
       "      <th>25%</th>\n",
       "      <td>2152.500000</td>\n",
       "      <td>3073.500000</td>\n",
       "      <td>0.0</td>\n",
       "      <td>2008.000000</td>\n",
       "      <td>6.900000</td>\n",
       "      <td>6.265250e+03</td>\n",
       "      <td>6.000000</td>\n",
       "      <td>0.0</td>\n",
       "    </tr>\n",
       "    <tr>\n",
       "      <th>50%</th>\n",
       "      <td>4033.000000</td>\n",
       "      <td>5421.000000</td>\n",
       "      <td>0.0</td>\n",
       "      <td>2015.000000</td>\n",
       "      <td>7.300000</td>\n",
       "      <td>1.527900e+04</td>\n",
       "      <td>14.000000</td>\n",
       "      <td>0.0</td>\n",
       "    </tr>\n",
       "    <tr>\n",
       "      <th>75%</th>\n",
       "      <td>5914.500000</td>\n",
       "      <td>7641.500000</td>\n",
       "      <td>0.0</td>\n",
       "      <td>2019.000000</td>\n",
       "      <td>7.800000</td>\n",
       "      <td>5.641975e+04</td>\n",
       "      <td>24.000000</td>\n",
       "      <td>0.0</td>\n",
       "    </tr>\n",
       "    <tr>\n",
       "      <th>max</th>\n",
       "      <td>7849.000000</td>\n",
       "      <td>10274.000000</td>\n",
       "      <td>0.0</td>\n",
       "      <td>2023.000000</td>\n",
       "      <td>92.000000</td>\n",
       "      <td>2.197234e+06</td>\n",
       "      <td>119.000000</td>\n",
       "      <td>0.0</td>\n",
       "    </tr>\n",
       "  </tbody>\n",
       "</table>\n",
       "</div>"
      ],
      "text/plain": [
       "                 #         index  isAdult    startYear  averageRating  \\\n",
       "count  7471.000000   7471.000000   7470.0  7470.000000    7470.000000   \n",
       "mean   4043.482666   5440.458439      0.0  2013.157296       7.475676   \n",
       "std    2192.753689   2752.820924      0.0     6.979151       2.771444   \n",
       "min       1.000000      1.000000      0.0  1990.000000       6.500000   \n",
       "25%    2152.500000   3073.500000      0.0  2008.000000       6.900000   \n",
       "50%    4033.000000   5421.000000      0.0  2015.000000       7.300000   \n",
       "75%    5914.500000   7641.500000      0.0  2019.000000       7.800000   \n",
       "max    7849.000000  10274.000000      0.0  2023.000000      92.000000   \n",
       "\n",
       "           numVotes     ordering  isOriginalTitle  \n",
       "count  7.470000e+03  7470.000000           7470.0  \n",
       "mean   7.282830e+04    16.567604              0.0  \n",
       "std    1.640233e+05    12.761147              0.0  \n",
       "min    1.000000e+01     1.000000              0.0  \n",
       "25%    6.265250e+03     6.000000              0.0  \n",
       "50%    1.527900e+04    14.000000              0.0  \n",
       "75%    5.641975e+04    24.000000              0.0  \n",
       "max    2.197234e+06   119.000000              0.0  "
      ]
     },
     "execution_count": 74,
     "metadata": {},
     "output_type": "execute_result"
    }
   ],
   "source": [
    "#Esto se realizo debido a que las columnas con valores numericos no tienen sentido que a los objetos\n",
    "#se les saque un promedio ya que no son numericos\n",
    "\n",
    "df_lab[number_cols].describe()"
   ]
  },
  {
   "cell_type": "code",
   "execution_count": null,
   "metadata": {},
   "outputs": [
    {
     "name": "stdout",
     "output_type": "stream",
     "text": [
      "0.0    7470\n",
      "Name: isAdult, dtype: int64\n"
     ]
    }
   ],
   "source": [
    "#Ahora vamos a revisar los valores que son categoricos segun el diccinoario pero estan mal puestos\n",
    "#y tienen un tipo de dato incorrecto\n",
    "\n",
    "#Variables que deberian ser categoricas\n",
    "print(df_lab.isAdult.value_counts())\n",
    "\n",
    "\n"
   ]
  },
  {
   "cell_type": "code",
   "execution_count": null,
   "metadata": {},
   "outputs": [
    {
     "name": "stdout",
     "output_type": "stream",
     "text": [
      "0.0    7470\n",
      "Name: isOriginalTitle, dtype: int64\n"
     ]
    }
   ],
   "source": [
    "#Variables que deberian ser categoricas\n",
    "print(df_lab.isOriginalTitle.value_counts())"
   ]
  },
  {
   "cell_type": "code",
   "execution_count": null,
   "metadata": {},
   "outputs": [
    {
     "name": "stdout",
     "output_type": "stream",
     "text": [
      "60     534\n",
      "30     340\n",
      "45     184\n",
      "22     138\n",
      "43     114\n",
      "      ... \n",
      "257      1\n",
      "228      1\n",
      "275      1\n",
      "311      1\n",
      "460      1\n",
      "Name: runtimeMinutes, Length: 362, dtype: int64\n"
     ]
    }
   ],
   "source": [
    "#Variables que deberian ser numericas\n",
    "print(df_lab.runtimeMinutes.value_counts())"
   ]
  },
  {
   "attachments": {},
   "cell_type": "markdown",
   "metadata": {},
   "source": [
    "#### Visualización de Datos\n"
   ]
  },
  {
   "cell_type": "code",
   "execution_count": null,
   "metadata": {},
   "outputs": [
    {
     "data": {
      "text/html": [
       "<div>\n",
       "<style scoped>\n",
       "    .dataframe tbody tr th:only-of-type {\n",
       "        vertical-align: middle;\n",
       "    }\n",
       "\n",
       "    .dataframe tbody tr th {\n",
       "        vertical-align: top;\n",
       "    }\n",
       "\n",
       "    .dataframe thead th {\n",
       "        text-align: right;\n",
       "    }\n",
       "</style>\n",
       "<table border=\"1\" class=\"dataframe\">\n",
       "  <thead>\n",
       "    <tr style=\"text-align: right;\">\n",
       "      <th></th>\n",
       "      <th>averageRating</th>\n",
       "    </tr>\n",
       "    <tr>\n",
       "      <th>originalTitle</th>\n",
       "      <th></th>\n",
       "    </tr>\n",
       "  </thead>\n",
       "  <tbody>\n",
       "    <tr>\n",
       "      <th>ÃÂÃÂ§ Maymun</th>\n",
       "      <td>7.3</td>\n",
       "    </tr>\n",
       "    <tr>\n",
       "      <th>ÃÂlÃÂ¼mlÃÂ¼ DÃÂ¼nya</th>\n",
       "      <td>7.6</td>\n",
       "    </tr>\n",
       "    <tr>\n",
       "      <th>ÃÂsama Ranking</th>\n",
       "      <td>8.5</td>\n",
       "    </tr>\n",
       "    <tr>\n",
       "      <th>ÃÂnibus 174</th>\n",
       "      <td>7.8</td>\n",
       "    </tr>\n",
       "    <tr>\n",
       "      <th>ÃÂkami kodomo no Ame to Yuki</th>\n",
       "      <td>8.1</td>\n",
       "    </tr>\n",
       "    <tr>\n",
       "      <th>...</th>\n",
       "      <td>...</td>\n",
       "    </tr>\n",
       "    <tr>\n",
       "      <th>1</th>\n",
       "      <td>7.9</td>\n",
       "    </tr>\n",
       "    <tr>\n",
       "      <th>'Til Death</th>\n",
       "      <td>6.5</td>\n",
       "    </tr>\n",
       "    <tr>\n",
       "      <th>$9.99</th>\n",
       "      <td>6.7</td>\n",
       "    </tr>\n",
       "    <tr>\n",
       "      <th>#Home</th>\n",
       "      <td>8.8</td>\n",
       "    </tr>\n",
       "    <tr>\n",
       "      <th>#BlackAF</th>\n",
       "      <td>6.8</td>\n",
       "    </tr>\n",
       "  </tbody>\n",
       "</table>\n",
       "<p>7290 rows × 1 columns</p>\n",
       "</div>"
      ],
      "text/plain": [
       "                                averageRating\n",
       "originalTitle                                \n",
       "ÃÂÃÂ§ Maymun                           7.3\n",
       "ÃÂlÃÂ¼mlÃÂ¼ DÃÂ¼nya                  7.6\n",
       "ÃÂsama Ranking                          8.5\n",
       "ÃÂnibus 174                             7.8\n",
       "ÃÂkami kodomo no Ame to Yuki            8.1\n",
       "...                                       ...\n",
       "1                                         7.9\n",
       "'Til Death                                6.5\n",
       "$9.99                                     6.7\n",
       "#Home                                     8.8\n",
       "#BlackAF                                  6.8\n",
       "\n",
       "[7290 rows x 1 columns]"
      ]
     },
     "execution_count": 78,
     "metadata": {},
     "output_type": "execute_result"
    }
   ],
   "source": [
    "# Extraemos el número de vehiculos involucrados de acuerdo al número de victimas\n",
    "df_limit = df_lab[['originalTitle','averageRating']].groupby('originalTitle').sum().sort_values('originalTitle',ascending = False)\n",
    "df_limit"
   ]
  },
  {
   "attachments": {},
   "cell_type": "markdown",
   "metadata": {},
   "source": [
    "Podemos observar que existe un claro error en los datos debido a caracteres irreconocibles donde no se puede distinguir el titulo original de la pelicula\n"
   ]
  },
  {
   "attachments": {},
   "cell_type": "markdown",
   "metadata": {},
   "source": [
    "#### Diagrama de cajas\n"
   ]
  },
  {
   "cell_type": "code",
   "execution_count": null,
   "metadata": {},
   "outputs": [
    {
     "data": {
      "image/png": "[encoded data removed]",
      "text/plain": [
       "<Figure size 2000x800 with 1 Axes>"
      ]
     },
     "metadata": {},
     "output_type": "display_data"
    }
   ],
   "source": [
    "fig = plt.figure(figsize=(20, 8))\n",
    "ax = sns.boxplot(x=\"types\", y=\"startYear\", data=df_lab)\n",
    "d = ax.set_xticklabels(ax.get_xticklabels(), rotation = 70)\n",
    "plt.title('TipoPelicula Vs. Inicial Year')\n",
    "plt.xlabel('TipoPelicula')  \n",
    "plt.ylabel('Inicial Year')  \n",
    "plt.show()"
   ]
  },
  {
   "attachments": {},
   "cell_type": "markdown",
   "metadata": {},
   "source": [
    "El diagrama de Cajas nos muestra que se da una homocedasticidad entre los niveles del factor Tipo Pelicula y el \"year\" dado. \n",
    "Indicandonos que de los anios 90 a los 2010 tuvo un auge el dvd. \n"
   ]
  },
  {
   "attachments": {},
   "cell_type": "markdown",
   "metadata": {},
   "source": [
    "Despues de esto existieron nuevos tipos de peliculas que tuvieron menor varianza entre ellas, resaltando que fueron mas utilizadas del 2010 en adelante."
   ]
  },
  {
   "cell_type": "code",
   "execution_count": null,
   "metadata": {},
   "outputs": [
    {
     "data": {
      "image/png": "[encoded data removed]",
      "text/plain": [
       "<Figure size 1000x600 with 1 Axes>"
      ]
     },
     "metadata": {},
     "output_type": "display_data"
    }
   ],
   "source": [
    "\n",
    "genre_counts = df_lab['main_genre'].value_counts()\n",
    "\n",
    "plt.figure(figsize=(10, 6))\n",
    "\n",
    "plt.bar(genre_counts.index, genre_counts.values)\n",
    "\n",
    "# Agrega etiquetas y título\n",
    "plt.xlabel('Género Principal')\n",
    "plt.ylabel('Frecuencia')\n",
    "plt.title('Histograma de Géneros Principales')\n",
    "\n",
    "plt.xticks(rotation=45)\n",
    "\n",
    "# Muestra el histograma\n",
    "plt.show()\n"
   ]
  },
  {
   "cell_type": "code",
   "execution_count": null,
   "metadata": {},
   "outputs": [
    {
     "data": {
      "image/png": "[encoded data removed]",
      "text/plain": [
       "<Figure size 1000x600 with 1 Axes>"
      ]
     },
     "metadata": {},
     "output_type": "display_data"
    }
   ],
   "source": [
    "\n",
    "genre_counts = df_lab['language'].value_counts()\n",
    "\n",
    "plt.figure(figsize=(10, 6))\n",
    "\n",
    "plt.bar(genre_counts.index, genre_counts.values)\n",
    "\n",
    "# Agrega etiquetas y título\n",
    "plt.xlabel('language')\n",
    "plt.ylabel('Frecuencia')\n",
    "plt.title('Histograma de Lenguaje')\n",
    "\n",
    "plt.xticks(rotation=45)\n",
    "\n",
    "# Muestra el histograma\n",
    "plt.show()\n"
   ]
  },
  {
   "cell_type": "markdown",
   "metadata": {},
   "source": [
    "Como podemos darnos cuenta encontramos una columna que no nos esta aportando valor porque a pesar de ser una variable categorica solo tiene un nivel del factor"
   ]
  },
  {
   "cell_type": "markdown",
   "metadata": {},
   "source": [
    "## 3. Análisis de calidad de datos"
   ]
  },
  {
   "cell_type": "markdown",
   "metadata": {},
   "source": [
    "## 3.1 Completitud\n",
    "En este punto se identifican si existen problemas de completitud para reportarlos e identificar posibles soluciones que se trabajan en la etapa de preparación de datos\n"
   ]
  },
  {
   "cell_type": "code",
   "execution_count": null,
   "metadata": {},
   "outputs": [
    {
     "data": {
      "text/plain": [
       "numVotes           0.000134\n",
       "ordering           0.000134\n",
       "main_genre         0.000134\n",
       "isOriginalTitle    0.000134\n",
       "attributes         0.000134\n",
       "types              0.000134\n",
       "language           0.000134\n",
       "region             0.000134\n",
       "secondary_genre    0.000134\n",
       "averageRating      0.000134\n",
       "runtimeMinutes     0.000134\n",
       "startYear          0.000134\n",
       "isAdult            0.000134\n",
       "index              0.000000\n",
       "originalTitle      0.000000\n",
       "titleType          0.000000\n",
       "tconst             0.000000\n",
       "#                  0.000000\n",
       "dtype: float64"
      ]
     },
     "execution_count": 82,
     "metadata": {},
     "output_type": "execute_result"
    }
   ],
   "source": [
    "# Cálculo de porcentaje de valores nulos por columna\n",
    "((df_lab.isnull().sum()/df_lab.shape[0])).sort_values(ascending=False)"
   ]
  },
  {
   "cell_type": "markdown",
   "metadata": {},
   "source": [
    "Encontramos trece  columans con el problema de datos  con valores nulos\n",
    "ordering           \n",
    "main_genre         \n",
    "isOriginalTitle  \n",
    "attributes       \n",
    "types          \n",
    "language         \n",
    "region          \n",
    "secondary_genre   \n",
    "averageRating     \n",
    "runtimeMinutes   \n",
    "startYear         \n",
    "isAdult           "
   ]
  },
  {
   "cell_type": "code",
   "execution_count": null,
   "metadata": {},
   "outputs": [
    {
     "data": {
      "text/html": [
       "<div>\n",
       "<style scoped>\n",
       "    .dataframe tbody tr th:only-of-type {\n",
       "        vertical-align: middle;\n",
       "    }\n",
       "\n",
       "    .dataframe tbody tr th {\n",
       "        vertical-align: top;\n",
       "    }\n",
       "\n",
       "    .dataframe thead th {\n",
       "        text-align: right;\n",
       "    }\n",
       "</style>\n",
       "<table border=\"1\" class=\"dataframe\">\n",
       "  <thead>\n",
       "    <tr style=\"text-align: right;\">\n",
       "      <th></th>\n",
       "      <th>0</th>\n",
       "    </tr>\n",
       "  </thead>\n",
       "  <tbody>\n",
       "    <tr>\n",
       "      <th>numVotes</th>\n",
       "      <td>0.013385</td>\n",
       "    </tr>\n",
       "    <tr>\n",
       "      <th>ordering</th>\n",
       "      <td>0.013385</td>\n",
       "    </tr>\n",
       "    <tr>\n",
       "      <th>main_genre</th>\n",
       "      <td>0.013385</td>\n",
       "    </tr>\n",
       "    <tr>\n",
       "      <th>isOriginalTitle</th>\n",
       "      <td>0.013385</td>\n",
       "    </tr>\n",
       "    <tr>\n",
       "      <th>attributes</th>\n",
       "      <td>0.013385</td>\n",
       "    </tr>\n",
       "    <tr>\n",
       "      <th>types</th>\n",
       "      <td>0.013385</td>\n",
       "    </tr>\n",
       "    <tr>\n",
       "      <th>language</th>\n",
       "      <td>0.013385</td>\n",
       "    </tr>\n",
       "    <tr>\n",
       "      <th>region</th>\n",
       "      <td>0.013385</td>\n",
       "    </tr>\n",
       "    <tr>\n",
       "      <th>secondary_genre</th>\n",
       "      <td>0.013385</td>\n",
       "    </tr>\n",
       "    <tr>\n",
       "      <th>averageRating</th>\n",
       "      <td>0.013385</td>\n",
       "    </tr>\n",
       "    <tr>\n",
       "      <th>runtimeMinutes</th>\n",
       "      <td>0.013385</td>\n",
       "    </tr>\n",
       "    <tr>\n",
       "      <th>startYear</th>\n",
       "      <td>0.013385</td>\n",
       "    </tr>\n",
       "    <tr>\n",
       "      <th>isAdult</th>\n",
       "      <td>0.013385</td>\n",
       "    </tr>\n",
       "    <tr>\n",
       "      <th>index</th>\n",
       "      <td>0.000000</td>\n",
       "    </tr>\n",
       "    <tr>\n",
       "      <th>originalTitle</th>\n",
       "      <td>0.000000</td>\n",
       "    </tr>\n",
       "    <tr>\n",
       "      <th>titleType</th>\n",
       "      <td>0.000000</td>\n",
       "    </tr>\n",
       "    <tr>\n",
       "      <th>tconst</th>\n",
       "      <td>0.000000</td>\n",
       "    </tr>\n",
       "    <tr>\n",
       "      <th>#</th>\n",
       "      <td>0.000000</td>\n",
       "    </tr>\n",
       "  </tbody>\n",
       "</table>\n",
       "</div>"
      ],
      "text/plain": [
       "                        0\n",
       "numVotes         0.013385\n",
       "ordering         0.013385\n",
       "main_genre       0.013385\n",
       "isOriginalTitle  0.013385\n",
       "attributes       0.013385\n",
       "types            0.013385\n",
       "language         0.013385\n",
       "region           0.013385\n",
       "secondary_genre  0.013385\n",
       "averageRating    0.013385\n",
       "runtimeMinutes   0.013385\n",
       "startYear        0.013385\n",
       "isAdult          0.013385\n",
       "index            0.000000\n",
       "originalTitle    0.000000\n",
       "titleType        0.000000\n",
       "tconst           0.000000\n",
       "#                0.000000"
      ]
     },
     "execution_count": 83,
     "metadata": {},
     "output_type": "execute_result"
    }
   ],
   "source": [
    "# Ver el porcentaje de atributos vacios\n",
    "df_porcentajes = (100*df_lab.isna().sum()/len(df_lab)).to_frame()\n",
    "df_porcentajes.sort_values(0, ascending = False)"
   ]
  },
  {
   "cell_type": "markdown",
   "metadata": {},
   "source": [
    "### 3.2 Unicidad\n"
   ]
  },
  {
   "cell_type": "code",
   "execution_count": null,
   "metadata": {},
   "outputs": [
    {
     "data": {
      "text/plain": [
       "6"
      ]
     },
     "execution_count": 84,
     "metadata": {},
     "output_type": "execute_result"
    }
   ],
   "source": [
    "df_lab.duplicated(keep = False).sum()"
   ]
  },
  {
   "cell_type": "code",
   "execution_count": null,
   "metadata": {},
   "outputs": [
    {
     "name": "stdout",
     "output_type": "stream",
     "text": [
      "#: 4\n",
      "index: 4\n",
      "isAdult: 7469\n",
      "startYear: 7436\n",
      "averageRating: 7437\n",
      "numVotes: 657\n",
      "ordering: 7395\n",
      "isOriginalTitle: 7469\n"
     ]
    }
   ],
   "source": [
    "# Duplicados parciales en Numericas\n",
    "\n",
    "for col in number_cols:\n",
    "    num_duplicated = df_lab.duplicated(subset = col).sum()\n",
    "    print(f\"{col}: {num_duplicated}\")"
   ]
  },
  {
   "cell_type": "markdown",
   "metadata": {},
   "source": [
    "Esto nos sirve para saber cuales columnas son identificadores que nos nos aportan infomracion y cuales columnas debemos quitar porque son numeros no categoricos que se estan repitiendo\n",
    "y esto es un problema para el analisis de los datos. Sin embargo, debemos tener en cuenta que no hemos solucionado aun los tipos de datos. Por lo tanto segun el diccionario podriamos decir que tiene sentido que haya duplicados de startYear, isAdult, numVotes, isOriginalTitle, sin embargo se pueden estar escondiendo errores aqui como datos nulos."
   ]
  },
  {
   "cell_type": "code",
   "execution_count": null,
   "metadata": {},
   "outputs": [
    {
     "name": "stdout",
     "output_type": "stream",
     "text": [
      "tconst: 5\n",
      "titleType: 7464\n",
      "originalTitle: 181\n",
      "runtimeMinutes: 7108\n",
      "region: 7466\n",
      "language: 7469\n",
      "types: 7465\n",
      "attributes: 7469\n",
      "main_genre: 7448\n",
      "secondary_genre: 7444\n"
     ]
    }
   ],
   "source": [
    "# Duplicados parciales en Objetos\n",
    "\n",
    "for col in object_cols:\n",
    "    num_duplicated = df_lab.duplicated(subset = col).sum()\n",
    "    print(f\"{col}: {num_duplicated}\")"
   ]
  },
  {
   "cell_type": "markdown",
   "metadata": {},
   "source": [
    "### Solucion Completitud y Unicidad"
   ]
  },
  {
   "cell_type": "markdown",
   "metadata": {},
   "source": [
    "Para solucionarlo realizaremos la eliminacion de las siguientes columnas. Como pudimos observar, existen ciertas columnas con un porcentaje de datos\n",
    "nulos, ademas algunas de las columnas no nos proporcionan informacion ya que solo tienen un valor o son identificadores. Por lo tanto eliminaremos primero todos los datos que son nulos\n",
    "debido a que es un porcentaje bajo de los datos."
   ]
  },
  {
   "cell_type": "code",
   "execution_count": null,
   "metadata": {},
   "outputs": [],
   "source": [
    "#Arreglar los tt iniciales de tconst\n",
    "\n",
    "df_lab['tconst'] = df_lab['tconst'].str.replace('^tt', '', regex=True)"
   ]
  },
  {
   "cell_type": "code",
   "execution_count": null,
   "metadata": {},
   "outputs": [
    {
     "name": "stdout",
     "output_type": "stream",
     "text": [
      "         #  index   tconst titleType  \\\n",
      "0        1      1  0103064     movie   \n",
      "1       10     17  0231050  tvSeries   \n",
      "2       13     23  0253474     movie   \n",
      "3       21     55  0369339     movie   \n",
      "4       28     87  0439547     movie   \n",
      "...    ...    ...      ...       ...   \n",
      "7466  7845  10269  9789686     movie   \n",
      "7467  7846  10270  9814900  tvSeries   \n",
      "7468  7847  10271  9845110     movie   \n",
      "7469  7848  10272  9845398     movie   \n",
      "7470  7849  10274  9908860  tvSeries   \n",
      "\n",
      "                                          originalTitle  isAdult  startYear  \\\n",
      "0                            Terminator 2: Judgment Day      0.0     1991.0   \n",
      "1                       ToransufÃÂ´mÃÂ¢: KÃÂ¢robotto      0.0     2000.0   \n",
      "2                                           The Pianist      0.0     2002.0   \n",
      "3                                            Collateral      0.0     2004.0   \n",
      "4     2 Filhos de Francisco: A HistÃÂ³ria de ZezÃÂ...      0.0     2005.0   \n",
      "...                                                 ...      ...        ...   \n",
      "7466                                           Un rubio      0.0     2019.0   \n",
      "7467             Trailer Park Boys: The Animated Series      0.0     2019.0   \n",
      "7468                                               Deux      0.0     2019.0   \n",
      "7469                                       Fin de siglo      0.0     2019.0   \n",
      "7470                                         Blown Away      0.0     2019.0   \n",
      "\n",
      "     runtimeMinutes  averageRating   numVotes  ordering region language  \\\n",
      "0               137            8.6  1128166.0      17.0     US       en   \n",
      "1                22            6.6      577.0      16.0     US       en   \n",
      "2               150            8.5   860569.0       7.0     US       en   \n",
      "3               120            7.5   417391.0       6.0     US       en   \n",
      "4               132            6.9     5946.0       5.0     US       en   \n",
      "...             ...            ...        ...       ...    ...      ...   \n",
      "7466            108            7.3     3779.0      11.0     CA       en   \n",
      "7467             25            7.5     3318.0       4.0     CA       en   \n",
      "7468             99            7.2     3346.0      29.0     CA       en   \n",
      "7469             84            6.9     3646.0       6.0     CA       en   \n",
      "7470             23            7.2     3577.0      27.0     CA       en   \n",
      "\n",
      "            types attributes  isOriginalTitle  main_genre secondary_genre  \n",
      "0             dvd         \\N              0.0      Action          Sci-Fi  \n",
      "1     alternative         \\N              0.0      Action       Adventure  \n",
      "2     imdbDisplay         \\N              0.0   Biography           Drama  \n",
      "3     imdbDisplay         \\N              0.0      Action           Crime  \n",
      "4     imdbDisplay         \\N              0.0   Biography           Drama  \n",
      "...           ...        ...              ...         ...             ...  \n",
      "7466  imdbDisplay         \\N              0.0       Drama         Romance  \n",
      "7467  imdbDisplay         \\N              0.0   Animation          Comedy  \n",
      "7468  imdbDisplay         \\N              0.0       Drama         Romance  \n",
      "7469  imdbDisplay         \\N              0.0       Drama        No tiene  \n",
      "7470  imdbDisplay         \\N              0.0  Reality-TV        No tiene  \n",
      "\n",
      "[7470 rows x 18 columns]\n"
     ]
    }
   ],
   "source": [
    "# Especificar las columnas en las que deseas buscar valores nulos\n",
    "columns_to_check = df_lab.columns.tolist()\n",
    "\n",
    "# Eliminar filas con valores nulos en las columnas especificadas\n",
    "df_cleaned = df_lab.dropna(subset=columns_to_check)\n",
    "\n",
    "print(df_cleaned)"
   ]
  },
  {
   "cell_type": "code",
   "execution_count": null,
   "metadata": {},
   "outputs": [
    {
     "data": {
      "text/html": [
       "<div>\n",
       "<style scoped>\n",
       "    .dataframe tbody tr th:only-of-type {\n",
       "        vertical-align: middle;\n",
       "    }\n",
       "\n",
       "    .dataframe tbody tr th {\n",
       "        vertical-align: top;\n",
       "    }\n",
       "\n",
       "    .dataframe thead th {\n",
       "        text-align: right;\n",
       "    }\n",
       "</style>\n",
       "<table border=\"1\" class=\"dataframe\">\n",
       "  <thead>\n",
       "    <tr style=\"text-align: right;\">\n",
       "      <th></th>\n",
       "      <th>0</th>\n",
       "    </tr>\n",
       "  </thead>\n",
       "  <tbody>\n",
       "    <tr>\n",
       "      <th>#</th>\n",
       "      <td>0.0</td>\n",
       "    </tr>\n",
       "    <tr>\n",
       "      <th>index</th>\n",
       "      <td>0.0</td>\n",
       "    </tr>\n",
       "    <tr>\n",
       "      <th>main_genre</th>\n",
       "      <td>0.0</td>\n",
       "    </tr>\n",
       "    <tr>\n",
       "      <th>isOriginalTitle</th>\n",
       "      <td>0.0</td>\n",
       "    </tr>\n",
       "    <tr>\n",
       "      <th>attributes</th>\n",
       "      <td>0.0</td>\n",
       "    </tr>\n",
       "    <tr>\n",
       "      <th>types</th>\n",
       "      <td>0.0</td>\n",
       "    </tr>\n",
       "    <tr>\n",
       "      <th>language</th>\n",
       "      <td>0.0</td>\n",
       "    </tr>\n",
       "    <tr>\n",
       "      <th>region</th>\n",
       "      <td>0.0</td>\n",
       "    </tr>\n",
       "    <tr>\n",
       "      <th>ordering</th>\n",
       "      <td>0.0</td>\n",
       "    </tr>\n",
       "    <tr>\n",
       "      <th>numVotes</th>\n",
       "      <td>0.0</td>\n",
       "    </tr>\n",
       "    <tr>\n",
       "      <th>averageRating</th>\n",
       "      <td>0.0</td>\n",
       "    </tr>\n",
       "    <tr>\n",
       "      <th>runtimeMinutes</th>\n",
       "      <td>0.0</td>\n",
       "    </tr>\n",
       "    <tr>\n",
       "      <th>startYear</th>\n",
       "      <td>0.0</td>\n",
       "    </tr>\n",
       "    <tr>\n",
       "      <th>isAdult</th>\n",
       "      <td>0.0</td>\n",
       "    </tr>\n",
       "    <tr>\n",
       "      <th>originalTitle</th>\n",
       "      <td>0.0</td>\n",
       "    </tr>\n",
       "    <tr>\n",
       "      <th>titleType</th>\n",
       "      <td>0.0</td>\n",
       "    </tr>\n",
       "    <tr>\n",
       "      <th>tconst</th>\n",
       "      <td>0.0</td>\n",
       "    </tr>\n",
       "    <tr>\n",
       "      <th>secondary_genre</th>\n",
       "      <td>0.0</td>\n",
       "    </tr>\n",
       "  </tbody>\n",
       "</table>\n",
       "</div>"
      ],
      "text/plain": [
       "                   0\n",
       "#                0.0\n",
       "index            0.0\n",
       "main_genre       0.0\n",
       "isOriginalTitle  0.0\n",
       "attributes       0.0\n",
       "types            0.0\n",
       "language         0.0\n",
       "region           0.0\n",
       "ordering         0.0\n",
       "numVotes         0.0\n",
       "averageRating    0.0\n",
       "runtimeMinutes   0.0\n",
       "startYear        0.0\n",
       "isAdult          0.0\n",
       "originalTitle    0.0\n",
       "titleType        0.0\n",
       "tconst           0.0\n",
       "secondary_genre  0.0"
      ]
     },
     "execution_count": 136,
     "metadata": {},
     "output_type": "execute_result"
    }
   ],
   "source": [
    "# Ver el porcentaje de atributos vacios\n",
    "df_porcentajes = (100*df_cleaned.isna().sum()/len(df_cleaned)).to_frame()\n",
    "df_porcentajes.sort_values(0, ascending = False)"
   ]
  },
  {
   "cell_type": "markdown",
   "metadata": {},
   "source": [
    "Como podemos ver ya no hay ningun dato que sea nulo. Por lo tanto, ahora podemos ver que columnas realmente contienen informacion o no para eliminarlas."
   ]
  },
  {
   "cell_type": "markdown",
   "metadata": {},
   "source": [
    "## Revision columnas"
   ]
  },
  {
   "cell_type": "markdown",
   "metadata": {},
   "source": [
    "## \"#\""
   ]
  },
  {
   "cell_type": "markdown",
   "metadata": {},
   "source": [
    "Para la columna \"#\" no se debe tomar ya que no nos proporciona informacion porque tiene un valor unico para cada dato."
   ]
  },
  {
   "cell_type": "markdown",
   "metadata": {},
   "source": [
    "## \"Index\"\n"
   ]
  },
  {
   "cell_type": "markdown",
   "metadata": {},
   "source": [
    "Para la columna \"index\" no se debe tomar ya que no nos proporciona informacion porque tiene un valor unico para cada dato."
   ]
  },
  {
   "cell_type": "markdown",
   "metadata": {},
   "source": [
    "## \"main_genre\""
   ]
  },
  {
   "cell_type": "markdown",
   "metadata": {},
   "source": [
    "Esta columna se debe tener en cuenta ya que nos esta informando de la variablidad del genero de la pelicula"
   ]
  },
  {
   "cell_type": "markdown",
   "metadata": {},
   "source": [
    "## \"isOriginalTitle\""
   ]
  },
  {
   "cell_type": "markdown",
   "metadata": {},
   "source": [
    "Podemos observar que para todos los datos es el mismo valor, por lo tanto no se debe tomar, no nos aporta informacion."
   ]
  },
  {
   "cell_type": "markdown",
   "metadata": {},
   "source": [
    "## \"Attributes\""
   ]
  },
  {
   "cell_type": "markdown",
   "metadata": {},
   "source": [
    "Para esta columna sucede lo mismo que lo anterior, ademas no tiene sentido con el diccionario."
   ]
  },
  {
   "cell_type": "markdown",
   "metadata": {},
   "source": [
    "## \"Types\""
   ]
  },
  {
   "cell_type": "markdown",
   "metadata": {},
   "source": [
    "Para estos datos podemos darnos cuenta que hay variabilidad pero hay muy poca, sin embargo lo dejaremos por si algun algoritmo llegase a tener utilidad con este."
   ]
  },
  {
   "cell_type": "markdown",
   "metadata": {},
   "source": [
    "## \"Language\""
   ]
  },
  {
   "cell_type": "markdown",
   "metadata": {},
   "source": [
    "El lenguaje no tiene sentido ya que no aporta informacion"
   ]
  },
  {
   "cell_type": "markdown",
   "metadata": {},
   "source": [
    "## \"Region\""
   ]
  },
  {
   "cell_type": "markdown",
   "metadata": {},
   "source": [
    "La region tiene sentido y tiene variabilidad por lo tanto se tiene en cuenta."
   ]
  },
  {
   "cell_type": "markdown",
   "metadata": {},
   "source": [
    "## \"Ordering\""
   ]
  },
  {
   "cell_type": "markdown",
   "metadata": {},
   "source": [
    "La variable no esta ni siquiera en el diccionario, por lo tanto no se toma, ademas no esta para todos los datos."
   ]
  },
  {
   "cell_type": "markdown",
   "metadata": {},
   "source": [
    "## \"NumVotes\""
   ]
  },
  {
   "cell_type": "markdown",
   "metadata": {},
   "source": [
    "Esta variable es de las mas importantes porque nos indica que tan buena votacion tuvo la pelicula, tiene mucha variabilidad, se toma."
   ]
  },
  {
   "cell_type": "markdown",
   "metadata": {},
   "source": [
    "## \"AverageRating\""
   ]
  },
  {
   "cell_type": "markdown",
   "metadata": {},
   "source": [
    "Al igual que en el numero de votos tambien es muy importante esta variable en el modelo."
   ]
  },
  {
   "cell_type": "markdown",
   "metadata": {},
   "source": [
    "## \"RunTimeMinutes\""
   ]
  },
  {
   "cell_type": "markdown",
   "metadata": {},
   "source": [
    "Esta variable tambien tiene mucha variabilidad, tanta que los datos no son capaces de entrar todos en un histograma por esto haremos una revision por si no hay nigun duplicado no tomar la variable puesto que no nos daria informacion alguna."
   ]
  },
  {
   "cell_type": "markdown",
   "metadata": {},
   "source": [
    "Una vez revisado esto podemos entender que a pesar de que haya variabilidad alta, se repiten muchos datos y esto nos sirve para analizar mas adelante."
   ]
  },
  {
   "cell_type": "markdown",
   "metadata": {},
   "source": [
    "## \"StartYear\""
   ]
  },
  {
   "cell_type": "markdown",
   "metadata": {},
   "source": [
    "Alta variabilidad con repeticion, se cuentan los datos"
   ]
  },
  {
   "cell_type": "markdown",
   "metadata": {},
   "source": [
    "## \"isAdult\""
   ]
  },
  {
   "cell_type": "markdown",
   "metadata": {},
   "source": [
    "No se tienen en cuenta todos los datos son iguales. No da informacion la variable"
   ]
  },
  {
   "cell_type": "markdown",
   "metadata": {},
   "source": [
    "## \"OriginalTitle\""
   ]
  },
  {
   "cell_type": "markdown",
   "metadata": {},
   "source": [
    "Viendo la poca repeticion de los datos podemos darnos cuenta que nos va a aportar muy poca informacion por ser un titulo original."
   ]
  },
  {
   "cell_type": "markdown",
   "metadata": {},
   "source": [
    "## \"TitleType\""
   ]
  },
  {
   "cell_type": "markdown",
   "metadata": {},
   "source": [
    "Esta variable nos aporta buena informacion para el uso posterior de algoritmos"
   ]
  },
  {
   "cell_type": "markdown",
   "metadata": {},
   "source": [
    "## \"tconst\""
   ]
  },
  {
   "cell_type": "markdown",
   "metadata": {},
   "source": [
    "Tiene demasiada variabilidad indicandonos que es un dato unico y por tanto no aporta informacion."
   ]
  },
  {
   "cell_type": "markdown",
   "metadata": {},
   "source": [
    "## \"seconday_genre\""
   ]
  },
  {
   "cell_type": "markdown",
   "metadata": {},
   "source": [
    "El genero secundario tambien nos aporta un buen valor informativo"
   ]
  },
  {
   "cell_type": "code",
   "execution_count": null,
   "metadata": {},
   "outputs": [
    {
     "ename": "ModuleNotFoundError",
     "evalue": "No module named 'pandas_profiling'",
     "output_type": "error",
     "traceback": [
      "\u001b[1;31m---------------------------------------------------------------------------\u001b[0m",
      "\u001b[1;31mModuleNotFoundError\u001b[0m                       Traceback (most recent call last)",
      "Cell \u001b[1;32mIn[3], line 1\u001b[0m\n\u001b[1;32m----> 1\u001b[0m \u001b[39mimport\u001b[39;00m \u001b[39mpandas_profiling\u001b[39;00m \n\u001b[0;32m      3\u001b[0m profiling \u001b[39m=\u001b[39m pandas_profiling\u001b[39m.\u001b[39mProfileReport(df_lab)\n\u001b[0;32m      4\u001b[0m profiling\n",
      "\u001b[1;31mModuleNotFoundError\u001b[0m: No module named 'pandas_profiling'"
     ]
    }
   ],
   "source": [
    "profiling = pandas_profiling.ProfileReport(df_lab)\n",
    "profiling"
   ]
  },
  {
   "cell_type": "markdown",
   "metadata": {},
   "source": [
    "## Eliminar Columnas"
   ]
  },
  {
   "cell_type": "markdown",
   "metadata": {},
   "source": [
    "Esta seria nuestro data Frame con las columnas innecesarias eliminadas"
   ]
  }
 ],
 "metadata": {
  "kernelspec": {
   "display_name": "Python 3",
   "language": "python",
   "name": "python3"
  },
  "language_info": {
   "codemirror_mode": {
    "name": "ipython",
    "version": 3
   },
   "file_extension": ".py",
   "mimetype": "text/x-python",
   "name": "python",
   "nbconvert_exporter": "python",
   "pygments_lexer": "ipython3",
   "version": "3.9.13"
  },
  "orig_nbformat": 4
 },
 "nbformat": 4,
 "nbformat_minor": 2
}
