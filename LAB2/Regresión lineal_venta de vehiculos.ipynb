{
 "cells": [
  {
   "cell_type": "markdown",
   "metadata": {},
   "source": [
    "El objetivo de este notebook es mostrar cómo construir un modelo de regresión lineal y su evaluación con las métricas seleccionadas. Se explicará, paso a paso, como:\n",
    "1. Preparar los datos para el modelado.\n",
    "2. Construir el modelo de regresión lineal.\n",
    "3. Evaluar el modelo.\n",
    "4. Interpretar el modelo.\n",
    "\n",
    "Se utiliza un conjunto de datos drelacionado con ventas de vehículos.\n"
   ]
  },
  {
   "cell_type": "markdown",
   "metadata": {},
   "source": [
    "### 1. Importación de librerías \n",
    "\n",
    "En las siguientes líneas de código se importan las librerías y herramientas necesarias para desarrollar el caso de uso."
   ]
  },
  {
   "cell_type": "code",
   "execution_count": 1,
   "metadata": {},
   "outputs": [],
   "source": [
    "# Librería para comando de sistema\n",
    "import os\n",
    "# Librerías para manejo de datos\n",
    "import pandas as pd\n",
    "import numpy as np\n",
    "# Librerías de aprendizaje automático.\n",
    "# Para realizar la separación del conjunto de aprendizaje en entrenamiento y test.\n",
    "from sklearn.model_selection import train_test_split\n",
    "# Para construir un modelo con el algoritmo de regresión lineal\n",
    "from sklearn.linear_model import LinearRegression\n",
    "# Para determinar el rendimiento del modelo con las métricas MSE, MAE y R2\n",
    "from sklearn.metrics import mean_squared_error, mean_absolute_error, r2_score\n",
    "# Para sacar un reporte estadístico que podemos usar para determinar las importancia de las variables explicativas.\n",
    "import statsmodels.api as sm "
   ]
  },
  {
   "cell_type": "markdown",
   "metadata": {},
   "source": [
    "### 2. Carga de los datos\n",
    "A través de la librería **pandas** podemos realizar la carga de datos desde diferentes fuentes de información, en este caso se realizará la carga de un archivo plano csv (archivo separado por comas)."
   ]
  },
  {
   "cell_type": "code",
   "execution_count": 3,
   "metadata": {},
   "outputs": [],
   "source": [
    "# Se cargan los datos. \n",
    "data=pd.read_csv('Datos_venta_vehiculos.csv',sep=';')"
   ]
  },
  {
   "cell_type": "code",
   "execution_count": 4,
   "metadata": {},
   "outputs": [
    {
     "data": {
      "text/plain": [
       "(8128, 9)"
      ]
     },
     "execution_count": 4,
     "metadata": {},
     "output_type": "execute_result"
    }
   ],
   "source": [
    "# Cantidad de datos y número de variables\n",
    "data.shape"
   ]
  },
  {
   "cell_type": "code",
   "execution_count": 5,
   "metadata": {
    "scrolled": false
   },
   "outputs": [
    {
     "data": {
      "text/html": [
       "<div>\n",
       "<style scoped>\n",
       "    .dataframe tbody tr th:only-of-type {\n",
       "        vertical-align: middle;\n",
       "    }\n",
       "\n",
       "    .dataframe tbody tr th {\n",
       "        vertical-align: top;\n",
       "    }\n",
       "\n",
       "    .dataframe thead th {\n",
       "        text-align: right;\n",
       "    }\n",
       "</style>\n",
       "<table border=\"1\" class=\"dataframe\">\n",
       "  <thead>\n",
       "    <tr style=\"text-align: right;\">\n",
       "      <th></th>\n",
       "      <th>referencia</th>\n",
       "      <th>modelo</th>\n",
       "      <th>precio</th>\n",
       "      <th>kilometraje</th>\n",
       "      <th>combustible</th>\n",
       "      <th>propietario</th>\n",
       "      <th>motor</th>\n",
       "      <th>poder_maximo</th>\n",
       "      <th>asientos</th>\n",
       "    </tr>\n",
       "  </thead>\n",
       "  <tbody>\n",
       "    <tr>\n",
       "      <th>0</th>\n",
       "      <td>Maruti Swift Dzire VDI</td>\n",
       "      <td>2014</td>\n",
       "      <td>450000</td>\n",
       "      <td>145500</td>\n",
       "      <td>Diesel</td>\n",
       "      <td>First Owner</td>\n",
       "      <td>1248.0</td>\n",
       "      <td>74.00</td>\n",
       "      <td>5.0</td>\n",
       "    </tr>\n",
       "    <tr>\n",
       "      <th>1</th>\n",
       "      <td>Skoda Rapid 1.5 TDI Ambition</td>\n",
       "      <td>2014</td>\n",
       "      <td>370000</td>\n",
       "      <td>120000</td>\n",
       "      <td>Diesel</td>\n",
       "      <td>Second Owner</td>\n",
       "      <td>1498.0</td>\n",
       "      <td>103.52</td>\n",
       "      <td>5.0</td>\n",
       "    </tr>\n",
       "    <tr>\n",
       "      <th>2</th>\n",
       "      <td>Honda City 2017-2020 EXi</td>\n",
       "      <td>2006</td>\n",
       "      <td>158000</td>\n",
       "      <td>140000</td>\n",
       "      <td>Petrol</td>\n",
       "      <td>Third Owner</td>\n",
       "      <td>1497.0</td>\n",
       "      <td>78.00</td>\n",
       "      <td>5.0</td>\n",
       "    </tr>\n",
       "    <tr>\n",
       "      <th>3</th>\n",
       "      <td>Hyundai i20 Sportz Diesel</td>\n",
       "      <td>2010</td>\n",
       "      <td>225000</td>\n",
       "      <td>127000</td>\n",
       "      <td>Diesel</td>\n",
       "      <td>First Owner</td>\n",
       "      <td>1396.0</td>\n",
       "      <td>90.00</td>\n",
       "      <td>5.0</td>\n",
       "    </tr>\n",
       "    <tr>\n",
       "      <th>4</th>\n",
       "      <td>Maruti Swift VXI BSIII</td>\n",
       "      <td>2007</td>\n",
       "      <td>130000</td>\n",
       "      <td>120000</td>\n",
       "      <td>Petrol</td>\n",
       "      <td>First Owner</td>\n",
       "      <td>1298.0</td>\n",
       "      <td>NaN</td>\n",
       "      <td>5.0</td>\n",
       "    </tr>\n",
       "  </tbody>\n",
       "</table>\n",
       "</div>"
      ],
      "text/plain": [
       "                     referencia  modelo  precio  kilometraje combustible  \\\n",
       "0        Maruti Swift Dzire VDI    2014  450000       145500      Diesel   \n",
       "1  Skoda Rapid 1.5 TDI Ambition    2014  370000       120000      Diesel   \n",
       "2      Honda City 2017-2020 EXi    2006  158000       140000      Petrol   \n",
       "3     Hyundai i20 Sportz Diesel    2010  225000       127000      Diesel   \n",
       "4        Maruti Swift VXI BSIII    2007  130000       120000      Petrol   \n",
       "\n",
       "    propietario   motor  poder_maximo  asientos  \n",
       "0   First Owner  1248.0         74.00       5.0  \n",
       "1  Second Owner  1498.0        103.52       5.0  \n",
       "2   Third Owner  1497.0         78.00       5.0  \n",
       "3   First Owner  1396.0         90.00       5.0  \n",
       "4   First Owner  1298.0           NaN       5.0  "
      ]
     },
     "execution_count": 5,
     "metadata": {},
     "output_type": "execute_result"
    }
   ],
   "source": [
    "# Mostrar los datos\n",
    "data.head()"
   ]
  },
  {
   "cell_type": "markdown",
   "metadata": {},
   "source": [
    "### 3. Preparación de los datos\n",
    "\n",
    "Antes de realizar cualquier paso de preparación de datos es importante asegurar que estos no contienen errores, como datos faltantes (missing) o duplicados. La exploración realizada en el notebook del módulo 1 evidenció que algunos registros no tienen valores para algunas variables. Es necesario tratar estas ausencias ya que, en general, los algoritmos de aprendizaje no son robustos ante ellas. "
   ]
  },
  {
   "cell_type": "code",
   "execution_count": 6,
   "metadata": {},
   "outputs": [],
   "source": [
    "# Es recomendable que todos los pasos preparación se realicen sobre otro archivo.\n",
    "data_t = data.copy()"
   ]
  },
  {
   "cell_type": "code",
   "execution_count": 7,
   "metadata": {},
   "outputs": [
    {
     "data": {
      "text/plain": [
       "referencia      0.000000\n",
       "modelo          0.000000\n",
       "precio          0.000000\n",
       "kilometraje     0.000000\n",
       "combustible     0.000000\n",
       "propietario     0.000000\n",
       "motor           0.027190\n",
       "poder_maximo    0.027436\n",
       "asientos        0.027190\n",
       "dtype: float64"
      ]
     },
     "execution_count": 7,
     "metadata": {},
     "output_type": "execute_result"
    }
   ],
   "source": [
    "# Podemos comprobar las ausencias con esta línea de código. \n",
    "data_t.isna().sum()/len(data_t)"
   ]
  },
  {
   "cell_type": "markdown",
   "metadata": {},
   "source": [
    "Aproximadamante un 2% del total de los datos tienen ausencias. Dado el bajo porcentaje se puede realizar la eliminación de estos registros."
   ]
  },
  {
   "cell_type": "code",
   "execution_count": 8,
   "metadata": {},
   "outputs": [],
   "source": [
    "# Eliminación de registros con ausencias. \n",
    "data_t=data_t.dropna()"
   ]
  },
  {
   "cell_type": "code",
   "execution_count": 9,
   "metadata": {},
   "outputs": [
    {
     "data": {
      "text/plain": [
       "(7905, 9)"
      ]
     },
     "execution_count": 9,
     "metadata": {},
     "output_type": "execute_result"
    }
   ],
   "source": [
    "# Podemos ver el tamaño del conjunto de datos después de este paso de limpieza de datos.\n",
    "data_t.shape"
   ]
  },
  {
   "cell_type": "markdown",
   "metadata": {},
   "source": [
    "También la exploración mostró que existen registros duplicados. Es conveniente también eliminar estos del conjunto de datos. "
   ]
  },
  {
   "cell_type": "code",
   "execution_count": 10,
   "metadata": {},
   "outputs": [],
   "source": [
    "# Eliminación de registros duplicados.\n",
    "data_t=data_t.drop_duplicates()"
   ]
  },
  {
   "cell_type": "code",
   "execution_count": 11,
   "metadata": {},
   "outputs": [
    {
     "data": {
      "text/plain": [
       "(6716, 9)"
      ]
     },
     "execution_count": 11,
     "metadata": {},
     "output_type": "execute_result"
    }
   ],
   "source": [
    "# Podemos ver el tamaño del conjunto de datos después de este paso de limpieza de datos.\n",
    "data_t.shape"
   ]
  },
  {
   "cell_type": "markdown",
   "metadata": {},
   "source": [
    "Un aspecto muy importante para tener en cuenta son los requerimientos de entrada de los algoritmos de aprendizaje. Cada uno de estos puede trabajar con un tipo de variable. Por ejemplo, para el algoritmo de regresión lineal todas las variables en el conjunto de datos deben ser numéricas. ¿Que pasa si en el conjunto de datos hay variables categóricas? Pues que se debe realizar una transformación de estas variables a un formato numérico.\n",
    "\n",
    "Esta tranformación se puede realizar de dos formas: asignado un número a cada categoría o representado cada categoría como una variable binaria. Esta útima transformación se conoce como 1-de-n y construye lo que se conoce como variables dummies. En general, es la más recomendada ya que no genera una relación de orden entre las categorías.\n",
    "\n",
    "Esta numerización es la que se aplica a la variable \"nombre_categoria_producto\" la cual, a su vez, nos permitirá establecer la influencia de cada categoría en la variable objetivo."
   ]
  },
  {
   "cell_type": "code",
   "execution_count": 12,
   "metadata": {
    "scrolled": false
   },
   "outputs": [
    {
     "data": {
      "text/plain": [
       "First Owner             5289\n",
       "Second Owner            2105\n",
       "Third Owner              555\n",
       "Fourth & Above Owner     174\n",
       "Test Drive Car             5\n",
       "Name: propietario, dtype: int64"
      ]
     },
     "execution_count": 12,
     "metadata": {},
     "output_type": "execute_result"
    }
   ],
   "source": [
    "# Se muestran las categorías de la variable \"propietario\" con sus frecuencias\n",
    "pd.value_counts(data['propietario'])"
   ]
  },
  {
   "cell_type": "code",
   "execution_count": 13,
   "metadata": {},
   "outputs": [
    {
     "data": {
      "text/plain": [
       "Diesel    4402\n",
       "Petrol    3631\n",
       "CNG         57\n",
       "LPG         38\n",
       "Name: combustible, dtype: int64"
      ]
     },
     "execution_count": 13,
     "metadata": {},
     "output_type": "execute_result"
    }
   ],
   "source": [
    "# Se muestran las categorías de la variable \"combustible\" con sus frecuencias\n",
    "pd.value_counts(data['combustible'])"
   ]
  },
  {
   "cell_type": "code",
   "execution_count": 14,
   "metadata": {
    "scrolled": true
   },
   "outputs": [],
   "source": [
    "# Se realiza la transformación de estas variables a dummies.\n",
    "data_t = pd.get_dummies(data_t, columns=['combustible','propietario'])"
   ]
  },
  {
   "cell_type": "code",
   "execution_count": 15,
   "metadata": {},
   "outputs": [
    {
     "data": {
      "text/plain": [
       "(6716, 16)"
      ]
     },
     "execution_count": 15,
     "metadata": {},
     "output_type": "execute_result"
    }
   ],
   "source": [
    "# Cantidad de datos y número de variables después de esta transformación.\n",
    "data_t.shape"
   ]
  },
  {
   "cell_type": "code",
   "execution_count": 16,
   "metadata": {},
   "outputs": [
    {
     "data": {
      "text/html": [
       "<div>\n",
       "<style scoped>\n",
       "    .dataframe tbody tr th:only-of-type {\n",
       "        vertical-align: middle;\n",
       "    }\n",
       "\n",
       "    .dataframe tbody tr th {\n",
       "        vertical-align: top;\n",
       "    }\n",
       "\n",
       "    .dataframe thead th {\n",
       "        text-align: right;\n",
       "    }\n",
       "</style>\n",
       "<table border=\"1\" class=\"dataframe\">\n",
       "  <thead>\n",
       "    <tr style=\"text-align: right;\">\n",
       "      <th></th>\n",
       "      <th>referencia</th>\n",
       "      <th>modelo</th>\n",
       "      <th>precio</th>\n",
       "      <th>kilometraje</th>\n",
       "      <th>motor</th>\n",
       "      <th>poder_maximo</th>\n",
       "      <th>asientos</th>\n",
       "      <th>combustible_CNG</th>\n",
       "      <th>combustible_Diesel</th>\n",
       "      <th>combustible_LPG</th>\n",
       "      <th>combustible_Petrol</th>\n",
       "      <th>propietario_First Owner</th>\n",
       "      <th>propietario_Fourth &amp; Above Owner</th>\n",
       "      <th>propietario_Second Owner</th>\n",
       "      <th>propietario_Test Drive Car</th>\n",
       "      <th>propietario_Third Owner</th>\n",
       "    </tr>\n",
       "  </thead>\n",
       "  <tbody>\n",
       "    <tr>\n",
       "      <th>0</th>\n",
       "      <td>Maruti Swift Dzire VDI</td>\n",
       "      <td>2014</td>\n",
       "      <td>450000</td>\n",
       "      <td>145500</td>\n",
       "      <td>1248.0</td>\n",
       "      <td>74.00</td>\n",
       "      <td>5.0</td>\n",
       "      <td>0</td>\n",
       "      <td>1</td>\n",
       "      <td>0</td>\n",
       "      <td>0</td>\n",
       "      <td>1</td>\n",
       "      <td>0</td>\n",
       "      <td>0</td>\n",
       "      <td>0</td>\n",
       "      <td>0</td>\n",
       "    </tr>\n",
       "    <tr>\n",
       "      <th>1</th>\n",
       "      <td>Skoda Rapid 1.5 TDI Ambition</td>\n",
       "      <td>2014</td>\n",
       "      <td>370000</td>\n",
       "      <td>120000</td>\n",
       "      <td>1498.0</td>\n",
       "      <td>103.52</td>\n",
       "      <td>5.0</td>\n",
       "      <td>0</td>\n",
       "      <td>1</td>\n",
       "      <td>0</td>\n",
       "      <td>0</td>\n",
       "      <td>0</td>\n",
       "      <td>0</td>\n",
       "      <td>1</td>\n",
       "      <td>0</td>\n",
       "      <td>0</td>\n",
       "    </tr>\n",
       "    <tr>\n",
       "      <th>2</th>\n",
       "      <td>Honda City 2017-2020 EXi</td>\n",
       "      <td>2006</td>\n",
       "      <td>158000</td>\n",
       "      <td>140000</td>\n",
       "      <td>1497.0</td>\n",
       "      <td>78.00</td>\n",
       "      <td>5.0</td>\n",
       "      <td>0</td>\n",
       "      <td>0</td>\n",
       "      <td>0</td>\n",
       "      <td>1</td>\n",
       "      <td>0</td>\n",
       "      <td>0</td>\n",
       "      <td>0</td>\n",
       "      <td>0</td>\n",
       "      <td>1</td>\n",
       "    </tr>\n",
       "    <tr>\n",
       "      <th>3</th>\n",
       "      <td>Hyundai i20 Sportz Diesel</td>\n",
       "      <td>2010</td>\n",
       "      <td>225000</td>\n",
       "      <td>127000</td>\n",
       "      <td>1396.0</td>\n",
       "      <td>90.00</td>\n",
       "      <td>5.0</td>\n",
       "      <td>0</td>\n",
       "      <td>1</td>\n",
       "      <td>0</td>\n",
       "      <td>0</td>\n",
       "      <td>1</td>\n",
       "      <td>0</td>\n",
       "      <td>0</td>\n",
       "      <td>0</td>\n",
       "      <td>0</td>\n",
       "    </tr>\n",
       "    <tr>\n",
       "      <th>5</th>\n",
       "      <td>Hyundai Xcent 1.2 VTVT E Plus</td>\n",
       "      <td>2017</td>\n",
       "      <td>440000</td>\n",
       "      <td>45000</td>\n",
       "      <td>1197.0</td>\n",
       "      <td>81.86</td>\n",
       "      <td>50.0</td>\n",
       "      <td>0</td>\n",
       "      <td>0</td>\n",
       "      <td>0</td>\n",
       "      <td>1</td>\n",
       "      <td>1</td>\n",
       "      <td>0</td>\n",
       "      <td>0</td>\n",
       "      <td>0</td>\n",
       "      <td>0</td>\n",
       "    </tr>\n",
       "  </tbody>\n",
       "</table>\n",
       "</div>"
      ],
      "text/plain": [
       "                      referencia  modelo  precio  kilometraje   motor  \\\n",
       "0         Maruti Swift Dzire VDI    2014  450000       145500  1248.0   \n",
       "1   Skoda Rapid 1.5 TDI Ambition    2014  370000       120000  1498.0   \n",
       "2       Honda City 2017-2020 EXi    2006  158000       140000  1497.0   \n",
       "3      Hyundai i20 Sportz Diesel    2010  225000       127000  1396.0   \n",
       "5  Hyundai Xcent 1.2 VTVT E Plus    2017  440000        45000  1197.0   \n",
       "\n",
       "   poder_maximo  asientos  combustible_CNG  combustible_Diesel  \\\n",
       "0         74.00       5.0                0                   1   \n",
       "1        103.52       5.0                0                   1   \n",
       "2         78.00       5.0                0                   0   \n",
       "3         90.00       5.0                0                   1   \n",
       "5         81.86      50.0                0                   0   \n",
       "\n",
       "   combustible_LPG  combustible_Petrol  propietario_First Owner  \\\n",
       "0                0                   0                        1   \n",
       "1                0                   0                        0   \n",
       "2                0                   1                        0   \n",
       "3                0                   0                        1   \n",
       "5                0                   1                        1   \n",
       "\n",
       "   propietario_Fourth & Above Owner  propietario_Second Owner  \\\n",
       "0                                 0                         0   \n",
       "1                                 0                         1   \n",
       "2                                 0                         0   \n",
       "3                                 0                         0   \n",
       "5                                 0                         0   \n",
       "\n",
       "   propietario_Test Drive Car  propietario_Third Owner  \n",
       "0                           0                        0  \n",
       "1                           0                        0  \n",
       "2                           0                        1  \n",
       "3                           0                        0  \n",
       "5                           0                        0  "
      ]
     },
     "execution_count": 16,
     "metadata": {},
     "output_type": "execute_result"
    }
   ],
   "source": [
    "# Ahora el conjunto de datos tiene 14 variables.Veamos las primeras filas de este nuevo conjunto de datos.\n",
    "data_t.head()"
   ]
  },
  {
   "cell_type": "code",
   "execution_count": 17,
   "metadata": {},
   "outputs": [],
   "source": [
    "data_t.to_csv(\"precio.csv\")"
   ]
  },
  {
   "cell_type": "markdown",
   "metadata": {},
   "source": [
    "Otro aspecto a que debemos considerar es la eliminación de variables que no aportan a la solución. Por ejemplo, identificadores como \"referencia\" no son informativos. Es importante que las eliminemos del conjunto de datos ya que pueden afectar el rendimiento de los modelos generados."
   ]
  },
  {
   "cell_type": "code",
   "execution_count": 18,
   "metadata": {},
   "outputs": [],
   "source": [
    "# Eliminación del indentoficador de fila.\n",
    "data_t=data_t.drop(['referencia'], axis=1)"
   ]
  },
  {
   "cell_type": "markdown",
   "metadata": {},
   "source": [
    "Con los datos preparados ya podemos construir nuestro modelo de regresión lineal."
   ]
  },
  {
   "cell_type": "markdown",
   "metadata": {},
   "source": [
    "### 4. Construcción del modelo\n",
    "\n",
    "Los algoritmos supervisados implementados en scikit-learn requieren que las variables de entrada estén separadas de la variable objetivo. En este caso, nuestra variable objetivo es el precio."
   ]
  },
  {
   "cell_type": "code",
   "execution_count": 31,
   "metadata": {},
   "outputs": [],
   "source": [
    "# Se selecciona la variable objetivo, en este caso \"precio\".\n",
    "Y=data_t['precio']\n",
    "# Del conjunto de datos se elimina la variable \"precio\".\n",
    "X=data_t.drop(['precio'], axis=1)"
   ]
  },
  {
   "cell_type": "code",
   "execution_count": 32,
   "metadata": {},
   "outputs": [
    {
     "data": {
      "text/html": [
       "<div>\n",
       "<style scoped>\n",
       "    .dataframe tbody tr th:only-of-type {\n",
       "        vertical-align: middle;\n",
       "    }\n",
       "\n",
       "    .dataframe tbody tr th {\n",
       "        vertical-align: top;\n",
       "    }\n",
       "\n",
       "    .dataframe thead th {\n",
       "        text-align: right;\n",
       "    }\n",
       "</style>\n",
       "<table border=\"1\" class=\"dataframe\">\n",
       "  <thead>\n",
       "    <tr style=\"text-align: right;\">\n",
       "      <th></th>\n",
       "      <th>modelo</th>\n",
       "      <th>kilometraje</th>\n",
       "      <th>motor</th>\n",
       "      <th>poder_maximo</th>\n",
       "      <th>asientos</th>\n",
       "      <th>combustible_CNG</th>\n",
       "      <th>combustible_Diesel</th>\n",
       "      <th>combustible_LPG</th>\n",
       "      <th>combustible_Petrol</th>\n",
       "      <th>propietario_First Owner</th>\n",
       "      <th>propietario_Fourth &amp; Above Owner</th>\n",
       "      <th>propietario_Second Owner</th>\n",
       "      <th>propietario_Test Drive Car</th>\n",
       "      <th>propietario_Third Owner</th>\n",
       "    </tr>\n",
       "  </thead>\n",
       "  <tbody>\n",
       "    <tr>\n",
       "      <th>0</th>\n",
       "      <td>2014</td>\n",
       "      <td>145500</td>\n",
       "      <td>1248.0</td>\n",
       "      <td>74.00</td>\n",
       "      <td>5.0</td>\n",
       "      <td>0</td>\n",
       "      <td>1</td>\n",
       "      <td>0</td>\n",
       "      <td>0</td>\n",
       "      <td>1</td>\n",
       "      <td>0</td>\n",
       "      <td>0</td>\n",
       "      <td>0</td>\n",
       "      <td>0</td>\n",
       "    </tr>\n",
       "    <tr>\n",
       "      <th>1</th>\n",
       "      <td>2014</td>\n",
       "      <td>120000</td>\n",
       "      <td>1498.0</td>\n",
       "      <td>103.52</td>\n",
       "      <td>5.0</td>\n",
       "      <td>0</td>\n",
       "      <td>1</td>\n",
       "      <td>0</td>\n",
       "      <td>0</td>\n",
       "      <td>0</td>\n",
       "      <td>0</td>\n",
       "      <td>1</td>\n",
       "      <td>0</td>\n",
       "      <td>0</td>\n",
       "    </tr>\n",
       "    <tr>\n",
       "      <th>2</th>\n",
       "      <td>2006</td>\n",
       "      <td>140000</td>\n",
       "      <td>1497.0</td>\n",
       "      <td>78.00</td>\n",
       "      <td>5.0</td>\n",
       "      <td>0</td>\n",
       "      <td>0</td>\n",
       "      <td>0</td>\n",
       "      <td>1</td>\n",
       "      <td>0</td>\n",
       "      <td>0</td>\n",
       "      <td>0</td>\n",
       "      <td>0</td>\n",
       "      <td>1</td>\n",
       "    </tr>\n",
       "    <tr>\n",
       "      <th>3</th>\n",
       "      <td>2010</td>\n",
       "      <td>127000</td>\n",
       "      <td>1396.0</td>\n",
       "      <td>90.00</td>\n",
       "      <td>5.0</td>\n",
       "      <td>0</td>\n",
       "      <td>1</td>\n",
       "      <td>0</td>\n",
       "      <td>0</td>\n",
       "      <td>1</td>\n",
       "      <td>0</td>\n",
       "      <td>0</td>\n",
       "      <td>0</td>\n",
       "      <td>0</td>\n",
       "    </tr>\n",
       "    <tr>\n",
       "      <th>5</th>\n",
       "      <td>2017</td>\n",
       "      <td>45000</td>\n",
       "      <td>1197.0</td>\n",
       "      <td>81.86</td>\n",
       "      <td>50.0</td>\n",
       "      <td>0</td>\n",
       "      <td>0</td>\n",
       "      <td>0</td>\n",
       "      <td>1</td>\n",
       "      <td>1</td>\n",
       "      <td>0</td>\n",
       "      <td>0</td>\n",
       "      <td>0</td>\n",
       "      <td>0</td>\n",
       "    </tr>\n",
       "  </tbody>\n",
       "</table>\n",
       "</div>"
      ],
      "text/plain": [
       "   modelo  kilometraje   motor  poder_maximo  asientos  combustible_CNG  \\\n",
       "0    2014       145500  1248.0         74.00       5.0                0   \n",
       "1    2014       120000  1498.0        103.52       5.0                0   \n",
       "2    2006       140000  1497.0         78.00       5.0                0   \n",
       "3    2010       127000  1396.0         90.00       5.0                0   \n",
       "5    2017        45000  1197.0         81.86      50.0                0   \n",
       "\n",
       "   combustible_Diesel  combustible_LPG  combustible_Petrol  \\\n",
       "0                   1                0                   0   \n",
       "1                   1                0                   0   \n",
       "2                   0                0                   1   \n",
       "3                   1                0                   0   \n",
       "5                   0                0                   1   \n",
       "\n",
       "   propietario_First Owner  propietario_Fourth & Above Owner  \\\n",
       "0                        1                                 0   \n",
       "1                        0                                 0   \n",
       "2                        0                                 0   \n",
       "3                        1                                 0   \n",
       "5                        1                                 0   \n",
       "\n",
       "   propietario_Second Owner  propietario_Test Drive Car  \\\n",
       "0                         0                           0   \n",
       "1                         1                           0   \n",
       "2                         0                           0   \n",
       "3                         0                           0   \n",
       "5                         0                           0   \n",
       "\n",
       "   propietario_Third Owner  \n",
       "0                        0  \n",
       "1                        0  \n",
       "2                        1  \n",
       "3                        0  \n",
       "5                        0  "
      ]
     },
     "execution_count": 32,
     "metadata": {},
     "output_type": "execute_result"
    }
   ],
   "source": [
    "# Mostramos nuestros datos\n",
    "X.head()"
   ]
  },
  {
   "cell_type": "code",
   "execution_count": 21,
   "metadata": {},
   "outputs": [
    {
     "data": {
      "text/plain": [
       "0    450000\n",
       "1    370000\n",
       "2    158000\n",
       "3    225000\n",
       "5    440000\n",
       "Name: precio, dtype: int64"
      ]
     },
     "execution_count": 21,
     "metadata": {},
     "output_type": "execute_result"
    }
   ],
   "source": [
    "Y.head()"
   ]
  },
  {
   "cell_type": "markdown",
   "metadata": {},
   "source": [
    "A continuación debemos hacer la separación de nuestros datos en un conjunto para el entrenamiento y otro para el test. Recuerda que esta división nos permitirá determinar el rendimiento de generalización del modelo sobre nuevos datos.\n",
    "\n",
    "El conjunto de entrenamiento se utiliza para ajustar (entrenar) un modelo. Luego, se utiliza el conjunto test para hacer predicciones, las cuales se comparan con los valores esperados para determinar su rendimiento utilizando la métrica seleccionada. \n",
    "\n",
    "1. **Train data:** se utiliza para entrenar el modelo con el algoritmo de aprendizaje.\n",
    "2. **Test data:** se utiliza para evaluar el ajuste del modelo."
   ]
  },
  {
   "cell_type": "code",
   "execution_count": 33,
   "metadata": {},
   "outputs": [],
   "source": [
    "# Se realiza la división entrenamiento - test. Se deja 20% de los datos para el test.\n",
    "X_train, X_test, Y_train, Y_test = train_test_split(X, Y, test_size=0.2, random_state=10)"
   ]
  },
  {
   "cell_type": "markdown",
   "metadata": {},
   "source": [
    "Antes de construir el modelo debemos crear un objeto de la clase LinearRegression."
   ]
  },
  {
   "cell_type": "code",
   "execution_count": 34,
   "metadata": {},
   "outputs": [
    {
     "data": {
      "text/plain": [
       "LinearRegression()"
      ]
     },
     "execution_count": 34,
     "metadata": {},
     "output_type": "execute_result"
    }
   ],
   "source": [
    "# Primero se crea el objeto para construir el modelo\n",
    "modelo_regresion = LinearRegression()\n",
    "# Podemos verificar que lo hemos construido.\n",
    "modelo_regresion"
   ]
  },
  {
   "cell_type": "markdown",
   "metadata": {},
   "source": [
    "A continuación, procedemos a entrenar el modelo utilizando el conjunto de entrenamiento."
   ]
  },
  {
   "cell_type": "code",
   "execution_count": 35,
   "metadata": {
    "scrolled": true
   },
   "outputs": [
    {
     "data": {
      "text/plain": [
       "LinearRegression()"
      ]
     },
     "execution_count": 35,
     "metadata": {},
     "output_type": "execute_result"
    }
   ],
   "source": [
    "# Ajustar el modelo con los datos de entrenamiento\n",
    "modelo_regresion.fit(X_train,Y_train)"
   ]
  },
  {
   "cell_type": "markdown",
   "metadata": {},
   "source": [
    "### 5. Evaluación del modelo\n",
    "Las métricas de evaluación nos van a permitir determinar qué tan bien se desempeña un modelo; es decir, cómo se ajusta a los datos. En esta sección se utilizan las siguientes métricas\n",
    "\n",
    "1. Mean-Squared-Error(MSE). Error medio cuadrático\n",
    "2. Mean-Absolute-Error(MAE). Error absoluto medio\n",
    "3. R² or Coeficiente de determinación."
   ]
  },
  {
   "cell_type": "code",
   "execution_count": 36,
   "metadata": {},
   "outputs": [
    {
     "name": "stdout",
     "output_type": "stream",
     "text": [
      "RMSE: 331557.41\n",
      "MAE: 179490.05\n",
      "R²: 0.61\n"
     ]
    }
   ],
   "source": [
    "# Se obtienen las predicciones del modelo sobre el conjunto de entrenamiento.\n",
    "y_pred = modelo_regresion.predict(X_train)\n",
    "# Se obtienen las métricas a partir de la predicción y la base de evaluación (valores reales).\n",
    "print(\"RMSE: %.2f\" % mean_squared_error(Y_train, y_pred, squared=False))\n",
    "print(\"MAE: %.2f\" % mean_absolute_error(Y_train, y_pred))\n",
    "print('R²: %.2f' % r2_score(Y_train, y_pred))"
   ]
  },
  {
   "cell_type": "code",
   "execution_count": 37,
   "metadata": {
    "scrolled": true
   },
   "outputs": [
    {
     "name": "stdout",
     "output_type": "stream",
     "text": [
      "RMSE: 296420.56\n",
      "MAE: 181448.78\n",
      "R²: 0.64\n"
     ]
    }
   ],
   "source": [
    "# Se obtienen las predicciones del modelo sobre el conjunto test.\n",
    "y_pred = modelo_regresion.predict(X_test)\n",
    "# Se obtienen las métricas a partir de la predicción y la base de evaluación (valores reales).\n",
    "print(\"RMSE: %.2f\" % mean_squared_error(Y_test, y_pred, squared=False))\n",
    "print(\"MAE: %.2f\" % mean_absolute_error(Y_test, y_pred))\n",
    "print('R²: %.2f' % r2_score(Y_test, y_pred))"
   ]
  },
  {
   "cell_type": "markdown",
   "metadata": {},
   "source": [
    "Una vez determinado el rendimiento de generalización utilizando el conjunto test podemos tomar todos los datos y construir el modelo final."
   ]
  },
  {
   "cell_type": "code",
   "execution_count": 38,
   "metadata": {},
   "outputs": [
    {
     "data": {
      "text/plain": [
       "LinearRegression()"
      ]
     },
     "execution_count": 38,
     "metadata": {},
     "output_type": "execute_result"
    }
   ],
   "source": [
    "# Ajustar el modelo con los datos de entrenamiento\n",
    "modelo_regresion.fit(X,Y)"
   ]
  },
  {
   "cell_type": "code",
   "execution_count": 39,
   "metadata": {},
   "outputs": [
    {
     "data": {
      "text/plain": [
       "array([ 3.47808867e+04, -7.45643628e-01,  6.74865686e-01,  1.02812711e+04,\n",
       "       -6.52778170e+03, -2.68394303e+04,  9.18335668e+03,  8.18682230e+04,\n",
       "       -6.42121493e+04, -5.38259298e+05, -5.88979497e+05, -6.05227541e+05,\n",
       "        2.34226702e+06, -6.09800685e+05])"
      ]
     },
     "execution_count": 39,
     "metadata": {},
     "output_type": "execute_result"
    }
   ],
   "source": [
    "# Podemos visualizar los parámetros del modelos (coeficientes de regresión)\n",
    "modelo_regresion.coef_"
   ]
  },
  {
   "cell_type": "markdown",
   "metadata": {},
   "source": [
    "### 6. Interpretación del modelo\n",
    "También podemos sacar un reporte que nos va a permitir analizar estadísticos del modelo."
   ]
  },
  {
   "cell_type": "code",
   "execution_count": 40,
   "metadata": {},
   "outputs": [
    {
     "data": {
      "text/html": [
       "<table class=\"simpletable\">\n",
       "<caption>OLS Regression Results</caption>\n",
       "<tr>\n",
       "  <th>Dep. Variable:</th>         <td>precio</td>      <th>  R-squared:         </th> <td>   0.616</td> \n",
       "</tr>\n",
       "<tr>\n",
       "  <th>Model:</th>                   <td>OLS</td>       <th>  Adj. R-squared:    </th> <td>   0.615</td> \n",
       "</tr>\n",
       "<tr>\n",
       "  <th>Method:</th>             <td>Least Squares</td>  <th>  F-statistic:       </th> <td>   894.2</td> \n",
       "</tr>\n",
       "<tr>\n",
       "  <th>Date:</th>             <td>Wed, 06 Sep 2023</td> <th>  Prob (F-statistic):</th>  <td>  0.00</td>  \n",
       "</tr>\n",
       "<tr>\n",
       "  <th>Time:</th>                 <td>21:53:23</td>     <th>  Log-Likelihood:    </th> <td> -94758.</td> \n",
       "</tr>\n",
       "<tr>\n",
       "  <th>No. Observations:</th>      <td>  6716</td>      <th>  AIC:               </th> <td>1.895e+05</td>\n",
       "</tr>\n",
       "<tr>\n",
       "  <th>Df Residuals:</th>          <td>  6703</td>      <th>  BIC:               </th> <td>1.896e+05</td>\n",
       "</tr>\n",
       "<tr>\n",
       "  <th>Df Model:</th>              <td>    12</td>      <th>                     </th>     <td> </td>    \n",
       "</tr>\n",
       "<tr>\n",
       "  <th>Covariance Type:</th>      <td>nonrobust</td>    <th>                     </th>     <td> </td>    \n",
       "</tr>\n",
       "</table>\n",
       "<table class=\"simpletable\">\n",
       "<tr>\n",
       "                  <td></td>                    <th>coef</th>     <th>std err</th>      <th>t</th>      <th>P>|t|</th>  <th>[0.025</th>    <th>0.975]</th>  \n",
       "</tr>\n",
       "<tr>\n",
       "  <th>modelo</th>                           <td> 3.478e+04</td> <td> 1266.860</td> <td>   27.454</td> <td> 0.000</td> <td> 3.23e+04</td> <td> 3.73e+04</td>\n",
       "</tr>\n",
       "<tr>\n",
       "  <th>kilometraje</th>                      <td>   -0.7456</td> <td>    0.078</td> <td>   -9.504</td> <td> 0.000</td> <td>   -0.899</td> <td>   -0.592</td>\n",
       "</tr>\n",
       "<tr>\n",
       "  <th>motor</th>                            <td>    0.6749</td> <td>    0.409</td> <td>    1.649</td> <td> 0.099</td> <td>   -0.127</td> <td>    1.477</td>\n",
       "</tr>\n",
       "<tr>\n",
       "  <th>poder_maximo</th>                     <td> 1.028e+04</td> <td>  135.797</td> <td>   75.711</td> <td> 0.000</td> <td>    1e+04</td> <td> 1.05e+04</td>\n",
       "</tr>\n",
       "<tr>\n",
       "  <th>asientos</th>                         <td>-6527.7817</td> <td> 3773.754</td> <td>   -1.730</td> <td> 0.084</td> <td>-1.39e+04</td> <td>  869.977</td>\n",
       "</tr>\n",
       "<tr>\n",
       "  <th>combustible_CNG</th>                  <td>-3.877e+07</td> <td> 1.42e+06</td> <td>  -27.311</td> <td> 0.000</td> <td>-4.16e+07</td> <td> -3.6e+07</td>\n",
       "</tr>\n",
       "<tr>\n",
       "  <th>combustible_Diesel</th>               <td>-3.873e+07</td> <td> 1.42e+06</td> <td>  -27.330</td> <td> 0.000</td> <td>-4.15e+07</td> <td> -3.6e+07</td>\n",
       "</tr>\n",
       "<tr>\n",
       "  <th>combustible_LPG</th>                  <td>-3.866e+07</td> <td> 1.42e+06</td> <td>  -27.319</td> <td> 0.000</td> <td>-4.14e+07</td> <td>-3.59e+07</td>\n",
       "</tr>\n",
       "<tr>\n",
       "  <th>combustible_Petrol</th>               <td>-3.881e+07</td> <td> 1.42e+06</td> <td>  -27.404</td> <td> 0.000</td> <td>-4.16e+07</td> <td> -3.6e+07</td>\n",
       "</tr>\n",
       "<tr>\n",
       "  <th>propietario_First Owner</th>          <td>-3.153e+07</td> <td> 1.14e+06</td> <td>  -27.760</td> <td> 0.000</td> <td>-3.38e+07</td> <td>-2.93e+07</td>\n",
       "</tr>\n",
       "<tr>\n",
       "  <th>propietario_Fourth & Above Owner</th> <td>-3.158e+07</td> <td> 1.13e+06</td> <td>  -27.975</td> <td> 0.000</td> <td>-3.38e+07</td> <td>-2.94e+07</td>\n",
       "</tr>\n",
       "<tr>\n",
       "  <th>propietario_Second Owner</th>         <td> -3.16e+07</td> <td> 1.13e+06</td> <td>  -27.899</td> <td> 0.000</td> <td>-3.38e+07</td> <td>-2.94e+07</td>\n",
       "</tr>\n",
       "<tr>\n",
       "  <th>propietario_Test Drive Car</th>       <td>-2.865e+07</td> <td> 1.15e+06</td> <td>  -24.998</td> <td> 0.000</td> <td>-3.09e+07</td> <td>-2.64e+07</td>\n",
       "</tr>\n",
       "<tr>\n",
       "  <th>propietario_Third Owner</th>          <td> -3.16e+07</td> <td> 1.13e+06</td> <td>  -27.949</td> <td> 0.000</td> <td>-3.38e+07</td> <td>-2.94e+07</td>\n",
       "</tr>\n",
       "</table>\n",
       "<table class=\"simpletable\">\n",
       "<tr>\n",
       "  <th>Omnibus:</th>       <td>7130.935</td> <th>  Durbin-Watson:     </th>  <td>   1.698</td>  \n",
       "</tr>\n",
       "<tr>\n",
       "  <th>Prob(Omnibus):</th>  <td> 0.000</td>  <th>  Jarque-Bera (JB):  </th> <td>1038004.616</td>\n",
       "</tr>\n",
       "<tr>\n",
       "  <th>Skew:</th>           <td> 5.065</td>  <th>  Prob(JB):          </th>  <td>    0.00</td>  \n",
       "</tr>\n",
       "<tr>\n",
       "  <th>Kurtosis:</th>       <td>63.056</td>  <th>  Cond. No.          </th>  <td>1.16e+21</td>  \n",
       "</tr>\n",
       "</table><br/><br/>Notes:<br/>[1] Standard Errors assume that the covariance matrix of the errors is correctly specified.<br/>[2] The smallest eigenvalue is 4.4e-29. This might indicate that there are<br/>strong multicollinearity problems or that the design matrix is singular."
      ],
      "text/plain": [
       "<class 'statsmodels.iolib.summary.Summary'>\n",
       "\"\"\"\n",
       "                            OLS Regression Results                            \n",
       "==============================================================================\n",
       "Dep. Variable:                 precio   R-squared:                       0.616\n",
       "Model:                            OLS   Adj. R-squared:                  0.615\n",
       "Method:                 Least Squares   F-statistic:                     894.2\n",
       "Date:                Wed, 06 Sep 2023   Prob (F-statistic):               0.00\n",
       "Time:                        21:53:23   Log-Likelihood:                -94758.\n",
       "No. Observations:                6716   AIC:                         1.895e+05\n",
       "Df Residuals:                    6703   BIC:                         1.896e+05\n",
       "Df Model:                          12                                         \n",
       "Covariance Type:            nonrobust                                         \n",
       "====================================================================================================\n",
       "                                       coef    std err          t      P>|t|      [0.025      0.975]\n",
       "----------------------------------------------------------------------------------------------------\n",
       "modelo                            3.478e+04   1266.860     27.454      0.000    3.23e+04    3.73e+04\n",
       "kilometraje                         -0.7456      0.078     -9.504      0.000      -0.899      -0.592\n",
       "motor                                0.6749      0.409      1.649      0.099      -0.127       1.477\n",
       "poder_maximo                      1.028e+04    135.797     75.711      0.000       1e+04    1.05e+04\n",
       "asientos                         -6527.7817   3773.754     -1.730      0.084   -1.39e+04     869.977\n",
       "combustible_CNG                  -3.877e+07   1.42e+06    -27.311      0.000   -4.16e+07    -3.6e+07\n",
       "combustible_Diesel               -3.873e+07   1.42e+06    -27.330      0.000   -4.15e+07    -3.6e+07\n",
       "combustible_LPG                  -3.866e+07   1.42e+06    -27.319      0.000   -4.14e+07   -3.59e+07\n",
       "combustible_Petrol               -3.881e+07   1.42e+06    -27.404      0.000   -4.16e+07    -3.6e+07\n",
       "propietario_First Owner          -3.153e+07   1.14e+06    -27.760      0.000   -3.38e+07   -2.93e+07\n",
       "propietario_Fourth & Above Owner -3.158e+07   1.13e+06    -27.975      0.000   -3.38e+07   -2.94e+07\n",
       "propietario_Second Owner          -3.16e+07   1.13e+06    -27.899      0.000   -3.38e+07   -2.94e+07\n",
       "propietario_Test Drive Car       -2.865e+07   1.15e+06    -24.998      0.000   -3.09e+07   -2.64e+07\n",
       "propietario_Third Owner           -3.16e+07   1.13e+06    -27.949      0.000   -3.38e+07   -2.94e+07\n",
       "==============================================================================\n",
       "Omnibus:                     7130.935   Durbin-Watson:                   1.698\n",
       "Prob(Omnibus):                  0.000   Jarque-Bera (JB):          1038004.616\n",
       "Skew:                           5.065   Prob(JB):                         0.00\n",
       "Kurtosis:                      63.056   Cond. No.                     1.16e+21\n",
       "==============================================================================\n",
       "\n",
       "Notes:\n",
       "[1] Standard Errors assume that the covariance matrix of the errors is correctly specified.\n",
       "[2] The smallest eigenvalue is 4.4e-29. This might indicate that there are\n",
       "strong multicollinearity problems or that the design matrix is singular.\n",
       "\"\"\""
      ]
     },
     "execution_count": 40,
     "metadata": {},
     "output_type": "execute_result"
    }
   ],
   "source": [
    "# Ajustar el modelo para ver el reporte\n",
    "model = sm.OLS(Y, X).fit() ## sm.OLS(output, input)\n",
    "# Mostrar las estadísticas del modelo\n",
    "model.summary()"
   ]
  },
  {
   "cell_type": "markdown",
   "metadata": {},
   "source": [
    "### 7. Almacenamiento  del modelo.\n",
    "Puedes guardar tu modelo para que lo puedas recuperar cuando lo desees o llevarlo a producción."
   ]
  },
  {
   "cell_type": "code",
   "execution_count": 41,
   "metadata": {},
   "outputs": [],
   "source": [
    "# Una forma de guardar el modelo es a través de la funcionalidad joblib.\n",
    "import joblib"
   ]
  },
  {
   "cell_type": "code",
   "execution_count": 29,
   "metadata": {},
   "outputs": [
    {
     "data": {
      "text/plain": [
       "['ModeloRegresion.joblib']"
      ]
     },
     "execution_count": 29,
     "metadata": {},
     "output_type": "execute_result"
    }
   ],
   "source": [
    "# Ahora guardamos el modelo con el nombre que selecciones.\n",
    "joblib.dump(modelo_regresion, 'ModeloRegresion.joblib')\n",
    "# Si lo quieres recuperar más tarde puedes utilizar la siguiente instrucción:\n",
    "# modelo = load('ModeloRegresion.joblib') "
   ]
  }
 ],
 "metadata": {
  "kernelspec": {
   "display_name": "Python 3 (ipykernel)",
   "language": "python",
   "name": "python3"
  },
  "language_info": {
   "codemirror_mode": {
    "name": "ipython",
    "version": 3
   },
   "file_extension": ".py",
   "mimetype": "text/x-python",
   "name": "python",
   "nbconvert_exporter": "python",
   "pygments_lexer": "ipython3",
   "version": "3.9.13"
  }
 },
 "nbformat": 4,
 "nbformat_minor": 2
}
