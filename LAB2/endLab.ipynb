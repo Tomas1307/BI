{
 "cells": [
  {
   "cell_type": "code",
   "execution_count": 1,
   "metadata": {},
   "outputs": [
    {
     "name": "stderr",
     "output_type": "stream",
     "text": [
      "C:\\Users\\user\\AppData\\Local\\Temp\\ipykernel_14424\\4286805479.py:6: DeprecationWarning: `import pandas_profiling` is going to be deprecated by April 1st. Please use `import ydata_profiling` instead.\n",
      "  import pandas_profiling\n"
     ]
    }
   ],
   "source": [
    "# Librería para comando de sistema\n",
    "import os\n",
    "# Librerías para manejo de datos\n",
    "import pandas as pd\n",
    "import numpy as np\n",
    "import pandas_profiling\n",
    "import seaborn as sns\n",
    "import matplotlib.pyplot as plt\n",
    "# Librerías de aprendizaje automático.\n",
    "# Para realizar la separación del conjunto de aprendizaje en entrenamiento y test.\n",
    "from sklearn.model_selection import train_test_split\n",
    "# Para construir un modelo con el algoritmo de regresión lineal\n",
    "from sklearn.linear_model import LinearRegression\n",
    "# Para determinar el rendimiento del modelo con las métricas MSE, MAE y R2\n",
    "from sklearn.metrics import mean_squared_error, mean_absolute_error, r2_score\n",
    "# Para sacar un reporte estadístico que podemos usar para determinar las importancia de las variables explicativas.\n",
    "import statsmodels.api as sm \n",
    "\n",
    "from scipy import stats\n",
    "##Import pipeline\n",
    "\n",
    "from sklearn.svm import SVC\n",
    "from sklearn.preprocessing import StandardScaler\n",
    "from sklearn.datasets import make_classification\n",
    "from sklearn.model_selection import train_test_split\n",
    "from sklearn.pipeline import Pipeline\n",
    "from sklearn.preprocessing import StandardScaler, OneHotEncoder\n",
    "from sklearn.compose import ColumnTransformer\n",
    "from sklearn.impute import SimpleImputer\n"
   ]
  },
  {
   "cell_type": "code",
   "execution_count": 2,
   "metadata": {},
   "outputs": [
    {
     "name": "stdout",
     "output_type": "stream",
     "text": [
      "(1216, 14)\n",
      "(64, 14)\n"
     ]
    },
    {
     "data": {
      "text/html": [
       "<div>\n",
       "<style scoped>\n",
       "    .dataframe tbody tr th:only-of-type {\n",
       "        vertical-align: middle;\n",
       "    }\n",
       "\n",
       "    .dataframe tbody tr th {\n",
       "        vertical-align: top;\n",
       "    }\n",
       "\n",
       "    .dataframe thead th {\n",
       "        text-align: right;\n",
       "    }\n",
       "</style>\n",
       "<table border=\"1\" class=\"dataframe\">\n",
       "  <thead>\n",
       "    <tr style=\"text-align: right;\">\n",
       "      <th></th>\n",
       "      <th>id</th>\n",
       "      <th>Company</th>\n",
       "      <th>TypeName</th>\n",
       "      <th>Ram</th>\n",
       "      <th>Weight</th>\n",
       "      <th>Price</th>\n",
       "      <th>TouchScreen</th>\n",
       "      <th>Ips</th>\n",
       "      <th>Ppi</th>\n",
       "      <th>Cpu_brand</th>\n",
       "      <th>HDD</th>\n",
       "      <th>SSD</th>\n",
       "      <th>Gpu_brand</th>\n",
       "      <th>Os</th>\n",
       "    </tr>\n",
       "  </thead>\n",
       "  <tbody>\n",
       "    <tr>\n",
       "      <th>0</th>\n",
       "      <td>704</td>\n",
       "      <td>Lenovo</td>\n",
       "      <td>Notebook</td>\n",
       "      <td>4</td>\n",
       "      <td>1.90</td>\n",
       "      <td>10.084809</td>\n",
       "      <td>0</td>\n",
       "      <td>0</td>\n",
       "      <td>100.454670</td>\n",
       "      <td>Intel Core i3</td>\n",
       "      <td>500.0</td>\n",
       "      <td>0</td>\n",
       "      <td>Intel</td>\n",
       "      <td>Others</td>\n",
       "    </tr>\n",
       "    <tr>\n",
       "      <th>1</th>\n",
       "      <td>712</td>\n",
       "      <td>Dell</td>\n",
       "      <td>Notebook</td>\n",
       "      <td>8</td>\n",
       "      <td>1.98</td>\n",
       "      <td>10.563111</td>\n",
       "      <td>0</td>\n",
       "      <td>0</td>\n",
       "      <td>141.211998</td>\n",
       "      <td>Intel Core i5</td>\n",
       "      <td>1000.0</td>\n",
       "      <td>0</td>\n",
       "      <td>Intel</td>\n",
       "      <td>Others</td>\n",
       "    </tr>\n",
       "    <tr>\n",
       "      <th>2</th>\n",
       "      <td>1072</td>\n",
       "      <td>HP</td>\n",
       "      <td>Ultrabook</td>\n",
       "      <td>8</td>\n",
       "      <td>1.26</td>\n",
       "      <td>11.064804</td>\n",
       "      <td>0</td>\n",
       "      <td>0</td>\n",
       "      <td>176.232574</td>\n",
       "      <td>Intel Core i5</td>\n",
       "      <td>0.0</td>\n",
       "      <td>256</td>\n",
       "      <td>Intel</td>\n",
       "      <td>Windows</td>\n",
       "    </tr>\n",
       "    <tr>\n",
       "      <th>3</th>\n",
       "      <td>370</td>\n",
       "      <td>Asus</td>\n",
       "      <td>2 in 1 Convertible</td>\n",
       "      <td>12</td>\n",
       "      <td>2.26</td>\n",
       "      <td>10.977717</td>\n",
       "      <td>1</td>\n",
       "      <td>0</td>\n",
       "      <td>141.211998</td>\n",
       "      <td>Intel Core i7</td>\n",
       "      <td>2000.0</td>\n",
       "      <td>512</td>\n",
       "      <td>Nvidia</td>\n",
       "      <td>Windows</td>\n",
       "    </tr>\n",
       "    <tr>\n",
       "      <th>4</th>\n",
       "      <td>207</td>\n",
       "      <td>Dell</td>\n",
       "      <td>Ultrabook</td>\n",
       "      <td>8</td>\n",
       "      <td>1.21</td>\n",
       "      <td>11.550633</td>\n",
       "      <td>1</td>\n",
       "      <td>1</td>\n",
       "      <td>331.264236</td>\n",
       "      <td>Intel Core i7</td>\n",
       "      <td>0.0</td>\n",
       "      <td>256</td>\n",
       "      <td>Intel</td>\n",
       "      <td>Windows</td>\n",
       "    </tr>\n",
       "    <tr>\n",
       "      <th>...</th>\n",
       "      <td>...</td>\n",
       "      <td>...</td>\n",
       "      <td>...</td>\n",
       "      <td>...</td>\n",
       "      <td>...</td>\n",
       "      <td>...</td>\n",
       "      <td>...</td>\n",
       "      <td>...</td>\n",
       "      <td>...</td>\n",
       "      <td>...</td>\n",
       "      <td>...</td>\n",
       "      <td>...</td>\n",
       "      <td>...</td>\n",
       "      <td>...</td>\n",
       "    </tr>\n",
       "    <tr>\n",
       "      <th>1211</th>\n",
       "      <td>1039</td>\n",
       "      <td>HP</td>\n",
       "      <td>Notebook</td>\n",
       "      <td>8</td>\n",
       "      <td>1.64</td>\n",
       "      <td>10.893771</td>\n",
       "      <td>0</td>\n",
       "      <td>0</td>\n",
       "      <td>157.350512</td>\n",
       "      <td>Intel Core i5</td>\n",
       "      <td>0.0</td>\n",
       "      <td>256</td>\n",
       "      <td>Intel</td>\n",
       "      <td>Windows</td>\n",
       "    </tr>\n",
       "    <tr>\n",
       "      <th>1212</th>\n",
       "      <td>1090</td>\n",
       "      <td>Dell</td>\n",
       "      <td>Notebook</td>\n",
       "      <td>4</td>\n",
       "      <td>2.20</td>\n",
       "      <td>9.950617</td>\n",
       "      <td>0</td>\n",
       "      <td>0</td>\n",
       "      <td>100.454670</td>\n",
       "      <td>Other Intel Processor</td>\n",
       "      <td>500.0</td>\n",
       "      <td>0</td>\n",
       "      <td>Intel</td>\n",
       "      <td>Others</td>\n",
       "    </tr>\n",
       "    <tr>\n",
       "      <th>1213</th>\n",
       "      <td>1125</td>\n",
       "      <td>Lenovo</td>\n",
       "      <td>2 in 1 Convertible</td>\n",
       "      <td>8</td>\n",
       "      <td>1.80</td>\n",
       "      <td>11.395541</td>\n",
       "      <td>1</td>\n",
       "      <td>1</td>\n",
       "      <td>157.350512</td>\n",
       "      <td>Intel Core i7</td>\n",
       "      <td>0.0</td>\n",
       "      <td>256</td>\n",
       "      <td>Intel</td>\n",
       "      <td>Windows</td>\n",
       "    </tr>\n",
       "    <tr>\n",
       "      <th>1214</th>\n",
       "      <td>856</td>\n",
       "      <td>Asus</td>\n",
       "      <td>Notebook</td>\n",
       "      <td>4</td>\n",
       "      <td>2.00</td>\n",
       "      <td>10.082584</td>\n",
       "      <td>0</td>\n",
       "      <td>0</td>\n",
       "      <td>100.454670</td>\n",
       "      <td>Other Intel Processor</td>\n",
       "      <td>1000.0</td>\n",
       "      <td>0</td>\n",
       "      <td>Intel</td>\n",
       "      <td>Windows</td>\n",
       "    </tr>\n",
       "    <tr>\n",
       "      <th>1215</th>\n",
       "      <td>1121</td>\n",
       "      <td>HP</td>\n",
       "      <td>Notebook</td>\n",
       "      <td>8</td>\n",
       "      <td>1.16</td>\n",
       "      <td>11.408045</td>\n",
       "      <td>0</td>\n",
       "      <td>0</td>\n",
       "      <td>165.632118</td>\n",
       "      <td>Intel Core i5</td>\n",
       "      <td>0.0</td>\n",
       "      <td>256</td>\n",
       "      <td>Intel</td>\n",
       "      <td>Windows</td>\n",
       "    </tr>\n",
       "  </tbody>\n",
       "</table>\n",
       "<p>1216 rows × 14 columns</p>\n",
       "</div>"
      ],
      "text/plain": [
       "        id Company            TypeName  Ram  Weight      Price  TouchScreen  \\\n",
       "0      704  Lenovo            Notebook    4    1.90  10.084809            0   \n",
       "1      712    Dell            Notebook    8    1.98  10.563111            0   \n",
       "2     1072      HP           Ultrabook    8    1.26  11.064804            0   \n",
       "3      370    Asus  2 in 1 Convertible   12    2.26  10.977717            1   \n",
       "4      207    Dell           Ultrabook    8    1.21  11.550633            1   \n",
       "...    ...     ...                 ...  ...     ...        ...          ...   \n",
       "1211  1039      HP            Notebook    8    1.64  10.893771            0   \n",
       "1212  1090    Dell            Notebook    4    2.20   9.950617            0   \n",
       "1213  1125  Lenovo  2 in 1 Convertible    8    1.80  11.395541            1   \n",
       "1214   856    Asus            Notebook    4    2.00  10.082584            0   \n",
       "1215  1121      HP            Notebook    8    1.16  11.408045            0   \n",
       "\n",
       "      Ips         Ppi              Cpu_brand     HDD  SSD Gpu_brand       Os  \n",
       "0       0  100.454670          Intel Core i3   500.0    0     Intel   Others  \n",
       "1       0  141.211998          Intel Core i5  1000.0    0     Intel   Others  \n",
       "2       0  176.232574          Intel Core i5     0.0  256     Intel  Windows  \n",
       "3       0  141.211998          Intel Core i7  2000.0  512    Nvidia  Windows  \n",
       "4       1  331.264236          Intel Core i7     0.0  256     Intel  Windows  \n",
       "...   ...         ...                    ...     ...  ...       ...      ...  \n",
       "1211    0  157.350512          Intel Core i5     0.0  256     Intel  Windows  \n",
       "1212    0  100.454670  Other Intel Processor   500.0    0     Intel   Others  \n",
       "1213    1  157.350512          Intel Core i7     0.0  256     Intel  Windows  \n",
       "1214    0  100.454670  Other Intel Processor  1000.0    0     Intel  Windows  \n",
       "1215    0  165.632118          Intel Core i5     0.0  256     Intel  Windows  \n",
       "\n",
       "[1216 rows x 14 columns]"
      ]
     },
     "execution_count": 2,
     "metadata": {},
     "output_type": "execute_result"
    }
   ],
   "source": [
    "# Se cargan los datos. \n",
    "\n",
    "test=pd.read_csv('laptop_data_test_unlabeled.csv')\n",
    "train=pd.read_csv('laptop_data_train.csv')\n",
    "print(train.shape)\n",
    "print(test.shape)\n",
    "train"
   ]
  },
  {
   "cell_type": "code",
   "execution_count": 3,
   "metadata": {},
   "outputs": [
    {
     "data": {
      "text/plain": [
       "['id',\n",
       " 'Company',\n",
       " 'TypeName',\n",
       " 'Ram',\n",
       " 'Weight',\n",
       " 'Price',\n",
       " 'TouchScreen',\n",
       " 'Ips',\n",
       " 'Ppi',\n",
       " 'Cpu_brand',\n",
       " 'HDD',\n",
       " 'SSD',\n",
       " 'Gpu_brand',\n",
       " 'Os']"
      ]
     },
     "execution_count": 3,
     "metadata": {},
     "output_type": "execute_result"
    }
   ],
   "source": [
    "train.columns\n",
    "features =[]\n",
    "for i in train.columns:\n",
    "    if i != \"Precio\":\n",
    "        features.append(i)\n",
    "\n",
    "features"
   ]
  },
  {
   "cell_type": "code",
   "execution_count": 4,
   "metadata": {},
   "outputs": [
    {
     "data": {
      "text/plain": [
       "<seaborn.axisgrid.PairGrid at 0x24da1f135b0>"
      ]
     },
     "execution_count": 4,
     "metadata": {},
     "output_type": "execute_result"
    },
    {
     "data": {
      "image/png": "[encoded data removed]",
      "text/plain": [
       "<Figure size 5600x400 with 15 Axes>"
      ]
     },
     "metadata": {},
     "output_type": "display_data"
    }
   ],
   "source": [
    "sns.pairplot(train.sample(frac=0.2), height=4, y_vars=\"Price\", x_vars=features, kind=\"scatter\")"
   ]
  },
  {
   "cell_type": "code",
   "execution_count": 5,
   "metadata": {},
   "outputs": [
    {
     "name": "stderr",
     "output_type": "stream",
     "text": [
      "C:\\Users\\user\\AppData\\Local\\Temp\\ipykernel_14424\\1491552344.py:2: FutureWarning: The default value of numeric_only in DataFrame.corr is deprecated. In a future version, it will default to False. Select only valid columns or specify the value of numeric_only to silence this warning.\n",
      "  sns.heatmap(train[features].corr(), cmap=\"Blues\", vmin=0, vmax=1)\n"
     ]
    },
    {
     "data": {
      "text/plain": [
       "<Axes: >"
      ]
     },
     "execution_count": 5,
     "metadata": {},
     "output_type": "execute_result"
    },
    {
     "data": {
      "image/png": "[encoded data removed]",
      "text/plain": [
       "<Figure size 1200x1000 with 2 Axes>"
      ]
     },
     "metadata": {},
     "output_type": "display_data"
    }
   ],
   "source": [
    "plt.figure(figsize=(12, 10))\n",
    "sns.heatmap(train[features].corr(), cmap=\"Blues\", vmin=0, vmax=1)"
   ]
  },
  {
   "cell_type": "markdown",
   "metadata": {},
   "source": [
    "Correlacion -> Ram"
   ]
  },
  {
   "cell_type": "code",
   "execution_count": 6,
   "metadata": {},
   "outputs": [
    {
     "data": {
      "text/html": [
       "<div>\n",
       "<style scoped>\n",
       "    .dataframe tbody tr th:only-of-type {\n",
       "        vertical-align: middle;\n",
       "    }\n",
       "\n",
       "    .dataframe tbody tr th {\n",
       "        vertical-align: top;\n",
       "    }\n",
       "\n",
       "    .dataframe thead th {\n",
       "        text-align: right;\n",
       "    }\n",
       "</style>\n",
       "<table border=\"1\" class=\"dataframe\">\n",
       "  <thead>\n",
       "    <tr style=\"text-align: right;\">\n",
       "      <th></th>\n",
       "      <th>id</th>\n",
       "      <th>Company</th>\n",
       "      <th>TypeName</th>\n",
       "      <th>Ram</th>\n",
       "      <th>Weight</th>\n",
       "      <th>Price</th>\n",
       "      <th>TouchScreen</th>\n",
       "      <th>Ips</th>\n",
       "      <th>Ppi</th>\n",
       "      <th>Cpu_brand</th>\n",
       "      <th>HDD</th>\n",
       "      <th>SSD</th>\n",
       "      <th>Gpu_brand</th>\n",
       "      <th>Os</th>\n",
       "    </tr>\n",
       "  </thead>\n",
       "  <tbody>\n",
       "    <tr>\n",
       "      <th>0</th>\n",
       "      <td>704</td>\n",
       "      <td>Lenovo</td>\n",
       "      <td>Notebook</td>\n",
       "      <td>4</td>\n",
       "      <td>1.90</td>\n",
       "      <td>10.084809</td>\n",
       "      <td>0</td>\n",
       "      <td>0</td>\n",
       "      <td>100.454670</td>\n",
       "      <td>Intel Core i3</td>\n",
       "      <td>500.0</td>\n",
       "      <td>0</td>\n",
       "      <td>Intel</td>\n",
       "      <td>Others</td>\n",
       "    </tr>\n",
       "    <tr>\n",
       "      <th>1</th>\n",
       "      <td>712</td>\n",
       "      <td>Dell</td>\n",
       "      <td>Notebook</td>\n",
       "      <td>8</td>\n",
       "      <td>1.98</td>\n",
       "      <td>10.563111</td>\n",
       "      <td>0</td>\n",
       "      <td>0</td>\n",
       "      <td>141.211998</td>\n",
       "      <td>Intel Core i5</td>\n",
       "      <td>1000.0</td>\n",
       "      <td>0</td>\n",
       "      <td>Intel</td>\n",
       "      <td>Others</td>\n",
       "    </tr>\n",
       "    <tr>\n",
       "      <th>2</th>\n",
       "      <td>1072</td>\n",
       "      <td>HP</td>\n",
       "      <td>Ultrabook</td>\n",
       "      <td>8</td>\n",
       "      <td>1.26</td>\n",
       "      <td>11.064804</td>\n",
       "      <td>0</td>\n",
       "      <td>0</td>\n",
       "      <td>176.232574</td>\n",
       "      <td>Intel Core i5</td>\n",
       "      <td>0.0</td>\n",
       "      <td>256</td>\n",
       "      <td>Intel</td>\n",
       "      <td>Windows</td>\n",
       "    </tr>\n",
       "    <tr>\n",
       "      <th>3</th>\n",
       "      <td>370</td>\n",
       "      <td>Asus</td>\n",
       "      <td>2 in 1 Convertible</td>\n",
       "      <td>12</td>\n",
       "      <td>2.26</td>\n",
       "      <td>10.977717</td>\n",
       "      <td>1</td>\n",
       "      <td>0</td>\n",
       "      <td>141.211998</td>\n",
       "      <td>Intel Core i7</td>\n",
       "      <td>2000.0</td>\n",
       "      <td>512</td>\n",
       "      <td>Nvidia</td>\n",
       "      <td>Windows</td>\n",
       "    </tr>\n",
       "    <tr>\n",
       "      <th>4</th>\n",
       "      <td>207</td>\n",
       "      <td>Dell</td>\n",
       "      <td>Ultrabook</td>\n",
       "      <td>8</td>\n",
       "      <td>1.21</td>\n",
       "      <td>11.550633</td>\n",
       "      <td>1</td>\n",
       "      <td>1</td>\n",
       "      <td>331.264236</td>\n",
       "      <td>Intel Core i7</td>\n",
       "      <td>0.0</td>\n",
       "      <td>256</td>\n",
       "      <td>Intel</td>\n",
       "      <td>Windows</td>\n",
       "    </tr>\n",
       "    <tr>\n",
       "      <th>...</th>\n",
       "      <td>...</td>\n",
       "      <td>...</td>\n",
       "      <td>...</td>\n",
       "      <td>...</td>\n",
       "      <td>...</td>\n",
       "      <td>...</td>\n",
       "      <td>...</td>\n",
       "      <td>...</td>\n",
       "      <td>...</td>\n",
       "      <td>...</td>\n",
       "      <td>...</td>\n",
       "      <td>...</td>\n",
       "      <td>...</td>\n",
       "      <td>...</td>\n",
       "    </tr>\n",
       "    <tr>\n",
       "      <th>1211</th>\n",
       "      <td>1039</td>\n",
       "      <td>HP</td>\n",
       "      <td>Notebook</td>\n",
       "      <td>8</td>\n",
       "      <td>1.64</td>\n",
       "      <td>10.893771</td>\n",
       "      <td>0</td>\n",
       "      <td>0</td>\n",
       "      <td>157.350512</td>\n",
       "      <td>Intel Core i5</td>\n",
       "      <td>0.0</td>\n",
       "      <td>256</td>\n",
       "      <td>Intel</td>\n",
       "      <td>Windows</td>\n",
       "    </tr>\n",
       "    <tr>\n",
       "      <th>1212</th>\n",
       "      <td>1090</td>\n",
       "      <td>Dell</td>\n",
       "      <td>Notebook</td>\n",
       "      <td>4</td>\n",
       "      <td>2.20</td>\n",
       "      <td>9.950617</td>\n",
       "      <td>0</td>\n",
       "      <td>0</td>\n",
       "      <td>100.454670</td>\n",
       "      <td>Other Intel Processor</td>\n",
       "      <td>500.0</td>\n",
       "      <td>0</td>\n",
       "      <td>Intel</td>\n",
       "      <td>Others</td>\n",
       "    </tr>\n",
       "    <tr>\n",
       "      <th>1213</th>\n",
       "      <td>1125</td>\n",
       "      <td>Lenovo</td>\n",
       "      <td>2 in 1 Convertible</td>\n",
       "      <td>8</td>\n",
       "      <td>1.80</td>\n",
       "      <td>11.395541</td>\n",
       "      <td>1</td>\n",
       "      <td>1</td>\n",
       "      <td>157.350512</td>\n",
       "      <td>Intel Core i7</td>\n",
       "      <td>0.0</td>\n",
       "      <td>256</td>\n",
       "      <td>Intel</td>\n",
       "      <td>Windows</td>\n",
       "    </tr>\n",
       "    <tr>\n",
       "      <th>1214</th>\n",
       "      <td>856</td>\n",
       "      <td>Asus</td>\n",
       "      <td>Notebook</td>\n",
       "      <td>4</td>\n",
       "      <td>2.00</td>\n",
       "      <td>10.082584</td>\n",
       "      <td>0</td>\n",
       "      <td>0</td>\n",
       "      <td>100.454670</td>\n",
       "      <td>Other Intel Processor</td>\n",
       "      <td>1000.0</td>\n",
       "      <td>0</td>\n",
       "      <td>Intel</td>\n",
       "      <td>Windows</td>\n",
       "    </tr>\n",
       "    <tr>\n",
       "      <th>1215</th>\n",
       "      <td>1121</td>\n",
       "      <td>HP</td>\n",
       "      <td>Notebook</td>\n",
       "      <td>8</td>\n",
       "      <td>1.16</td>\n",
       "      <td>11.408045</td>\n",
       "      <td>0</td>\n",
       "      <td>0</td>\n",
       "      <td>165.632118</td>\n",
       "      <td>Intel Core i5</td>\n",
       "      <td>0.0</td>\n",
       "      <td>256</td>\n",
       "      <td>Intel</td>\n",
       "      <td>Windows</td>\n",
       "    </tr>\n",
       "  </tbody>\n",
       "</table>\n",
       "<p>1170 rows × 14 columns</p>\n",
       "</div>"
      ],
      "text/plain": [
       "        id Company            TypeName  Ram  Weight      Price  TouchScreen  \\\n",
       "0      704  Lenovo            Notebook    4    1.90  10.084809            0   \n",
       "1      712    Dell            Notebook    8    1.98  10.563111            0   \n",
       "2     1072      HP           Ultrabook    8    1.26  11.064804            0   \n",
       "3      370    Asus  2 in 1 Convertible   12    2.26  10.977717            1   \n",
       "4      207    Dell           Ultrabook    8    1.21  11.550633            1   \n",
       "...    ...     ...                 ...  ...     ...        ...          ...   \n",
       "1211  1039      HP            Notebook    8    1.64  10.893771            0   \n",
       "1212  1090    Dell            Notebook    4    2.20   9.950617            0   \n",
       "1213  1125  Lenovo  2 in 1 Convertible    8    1.80  11.395541            1   \n",
       "1214   856    Asus            Notebook    4    2.00  10.082584            0   \n",
       "1215  1121      HP            Notebook    8    1.16  11.408045            0   \n",
       "\n",
       "      Ips         Ppi              Cpu_brand     HDD  SSD Gpu_brand       Os  \n",
       "0       0  100.454670          Intel Core i3   500.0    0     Intel   Others  \n",
       "1       0  141.211998          Intel Core i5  1000.0    0     Intel   Others  \n",
       "2       0  176.232574          Intel Core i5     0.0  256     Intel  Windows  \n",
       "3       0  141.211998          Intel Core i7  2000.0  512    Nvidia  Windows  \n",
       "4       1  331.264236          Intel Core i7     0.0  256     Intel  Windows  \n",
       "...   ...         ...                    ...     ...  ...       ...      ...  \n",
       "1211    0  157.350512          Intel Core i5     0.0  256     Intel  Windows  \n",
       "1212    0  100.454670  Other Intel Processor   500.0    0     Intel   Others  \n",
       "1213    1  157.350512          Intel Core i7     0.0  256     Intel  Windows  \n",
       "1214    0  100.454670  Other Intel Processor  1000.0    0     Intel  Windows  \n",
       "1215    0  165.632118          Intel Core i5     0.0  256     Intel  Windows  \n",
       "\n",
       "[1170 rows x 14 columns]"
      ]
     },
     "execution_count": 6,
     "metadata": {},
     "output_type": "execute_result"
    }
   ],
   "source": [
    "train = train.dropna(subset=[\"Price\"]+features)\n",
    "train"
   ]
  },
  {
   "cell_type": "code",
   "execution_count": 7,
   "metadata": {},
   "outputs": [
    {
     "data": {
      "text/plain": [
       "(1170, 14)"
      ]
     },
     "execution_count": 7,
     "metadata": {},
     "output_type": "execute_result"
    }
   ],
   "source": [
    "train.shape"
   ]
  },
  {
   "cell_type": "code",
   "execution_count": 8,
   "metadata": {},
   "outputs": [
    {
     "data": {
      "text/plain": [
       "Price          0.0\n",
       "id             0.0\n",
       "Company        0.0\n",
       "TypeName       0.0\n",
       "Ram            0.0\n",
       "Weight         0.0\n",
       "Price          0.0\n",
       "TouchScreen    0.0\n",
       "Ips            0.0\n",
       "Ppi            0.0\n",
       "Cpu_brand      0.0\n",
       "HDD            0.0\n",
       "SSD            0.0\n",
       "Gpu_brand      0.0\n",
       "Os             0.0\n",
       "dtype: float64"
      ]
     },
     "execution_count": 8,
     "metadata": {},
     "output_type": "execute_result"
    }
   ],
   "source": [
    "train[[\"Price\"]+features].isnull().sum() / train.shape[0]"
   ]
  },
  {
   "cell_type": "code",
   "execution_count": 9,
   "metadata": {},
   "outputs": [
    {
     "data": {
      "text/html": [
       "<div>\n",
       "<style scoped>\n",
       "    .dataframe tbody tr th:only-of-type {\n",
       "        vertical-align: middle;\n",
       "    }\n",
       "\n",
       "    .dataframe tbody tr th {\n",
       "        vertical-align: top;\n",
       "    }\n",
       "\n",
       "    .dataframe thead th {\n",
       "        text-align: right;\n",
       "    }\n",
       "</style>\n",
       "<table border=\"1\" class=\"dataframe\">\n",
       "  <thead>\n",
       "    <tr style=\"text-align: right;\">\n",
       "      <th></th>\n",
       "      <th>id</th>\n",
       "      <th>Company</th>\n",
       "      <th>TypeName</th>\n",
       "      <th>Ram</th>\n",
       "      <th>Weight</th>\n",
       "      <th>Price</th>\n",
       "      <th>TouchScreen</th>\n",
       "      <th>Ips</th>\n",
       "      <th>Ppi</th>\n",
       "      <th>Cpu_brand</th>\n",
       "      <th>HDD</th>\n",
       "      <th>SSD</th>\n",
       "      <th>Gpu_brand</th>\n",
       "      <th>Os</th>\n",
       "    </tr>\n",
       "  </thead>\n",
       "  <tbody>\n",
       "    <tr>\n",
       "      <th>128</th>\n",
       "      <td>645</td>\n",
       "      <td>Lenovo</td>\n",
       "      <td>Notebook</td>\n",
       "      <td>4</td>\n",
       "      <td>1.43</td>\n",
       "      <td>9.588689</td>\n",
       "      <td>0</td>\n",
       "      <td>0</td>\n",
       "      <td>111.935204</td>\n",
       "      <td>Other Intel Processor</td>\n",
       "      <td>0.0</td>\n",
       "      <td>0</td>\n",
       "      <td>Intel</td>\n",
       "      <td>Windows</td>\n",
       "    </tr>\n",
       "    <tr>\n",
       "      <th>317</th>\n",
       "      <td>12</td>\n",
       "      <td>Apple</td>\n",
       "      <td>Ultrabook</td>\n",
       "      <td>16</td>\n",
       "      <td>1.83</td>\n",
       "      <td>11.775302</td>\n",
       "      <td>0</td>\n",
       "      <td>1</td>\n",
       "      <td>220.534624</td>\n",
       "      <td>Intel Core i7</td>\n",
       "      <td>0.0</td>\n",
       "      <td>256</td>\n",
       "      <td>AMD</td>\n",
       "      <td>Mac</td>\n",
       "    </tr>\n",
       "    <tr>\n",
       "      <th>363</th>\n",
       "      <td>12</td>\n",
       "      <td>Apple</td>\n",
       "      <td>Ultrabook</td>\n",
       "      <td>16</td>\n",
       "      <td>1.83</td>\n",
       "      <td>11.775302</td>\n",
       "      <td>0</td>\n",
       "      <td>1</td>\n",
       "      <td>220.534624</td>\n",
       "      <td>Intel Core i7</td>\n",
       "      <td>0.0</td>\n",
       "      <td>256</td>\n",
       "      <td>AMD</td>\n",
       "      <td>Mac</td>\n",
       "    </tr>\n",
       "  </tbody>\n",
       "</table>\n",
       "</div>"
      ],
      "text/plain": [
       "      id Company   TypeName  Ram  Weight      Price  TouchScreen  Ips  \\\n",
       "128  645  Lenovo   Notebook    4    1.43   9.588689            0    0   \n",
       "317   12   Apple  Ultrabook   16    1.83  11.775302            0    1   \n",
       "363   12   Apple  Ultrabook   16    1.83  11.775302            0    1   \n",
       "\n",
       "            Ppi              Cpu_brand  HDD  SSD Gpu_brand       Os  \n",
       "128  111.935204  Other Intel Processor  0.0    0     Intel  Windows  \n",
       "317  220.534624          Intel Core i7  0.0  256       AMD      Mac  \n",
       "363  220.534624          Intel Core i7  0.0  256       AMD      Mac  "
      ]
     },
     "execution_count": 9,
     "metadata": {},
     "output_type": "execute_result"
    }
   ],
   "source": [
    "train.loc[train.duplicated(subset=features, keep=False)].head(3)"
   ]
  },
  {
   "cell_type": "code",
   "execution_count": 10,
   "metadata": {},
   "outputs": [
    {
     "data": {
      "text/plain": [
       "7"
      ]
     },
     "execution_count": 10,
     "metadata": {},
     "output_type": "execute_result"
    }
   ],
   "source": [
    "duplicated_rows = train.loc[train.duplicated(subset=features, keep=False)].shape[0]\n",
    "duplicated_rows"
   ]
  },
  {
   "cell_type": "code",
   "execution_count": 11,
   "metadata": {},
   "outputs": [
    {
     "name": "stdout",
     "output_type": "stream",
     "text": [
      "Duplicates: 0.5983%\n"
     ]
    }
   ],
   "source": [
    "print(f\"Duplicates: {(duplicated_rows/train.shape[0])*100:.4f}%\")"
   ]
  },
  {
   "cell_type": "code",
   "execution_count": 12,
   "metadata": {},
   "outputs": [
    {
     "data": {
      "text/html": [
       "<div>\n",
       "<style scoped>\n",
       "    .dataframe tbody tr th:only-of-type {\n",
       "        vertical-align: middle;\n",
       "    }\n",
       "\n",
       "    .dataframe tbody tr th {\n",
       "        vertical-align: top;\n",
       "    }\n",
       "\n",
       "    .dataframe thead th {\n",
       "        text-align: right;\n",
       "    }\n",
       "</style>\n",
       "<table border=\"1\" class=\"dataframe\">\n",
       "  <thead>\n",
       "    <tr style=\"text-align: right;\">\n",
       "      <th></th>\n",
       "      <th>id</th>\n",
       "      <th>Company</th>\n",
       "      <th>TypeName</th>\n",
       "      <th>Ram</th>\n",
       "      <th>Weight</th>\n",
       "      <th>Price</th>\n",
       "      <th>TouchScreen</th>\n",
       "      <th>Ips</th>\n",
       "      <th>Ppi</th>\n",
       "      <th>Cpu_brand</th>\n",
       "      <th>HDD</th>\n",
       "      <th>SSD</th>\n",
       "      <th>Gpu_brand</th>\n",
       "      <th>Os</th>\n",
       "    </tr>\n",
       "  </thead>\n",
       "  <tbody>\n",
       "    <tr>\n",
       "      <th>658</th>\n",
       "      <td>182</td>\n",
       "      <td>Lenovo</td>\n",
       "      <td>2 in 1 Convertible</td>\n",
       "      <td>16</td>\n",
       "      <td>1.40</td>\n",
       "      <td>11.497961</td>\n",
       "      <td>1</td>\n",
       "      <td>1</td>\n",
       "      <td>316.965060</td>\n",
       "      <td>Intel Core i7</td>\n",
       "      <td>0.0</td>\n",
       "      <td>512</td>\n",
       "      <td>Intel</td>\n",
       "      <td>Windows</td>\n",
       "    </tr>\n",
       "    <tr>\n",
       "      <th>775</th>\n",
       "      <td>12</td>\n",
       "      <td>Apple</td>\n",
       "      <td>Ultrabook</td>\n",
       "      <td>16</td>\n",
       "      <td>1.83</td>\n",
       "      <td>11.775302</td>\n",
       "      <td>0</td>\n",
       "      <td>1</td>\n",
       "      <td>220.534624</td>\n",
       "      <td>Intel Core i7</td>\n",
       "      <td>0.0</td>\n",
       "      <td>256</td>\n",
       "      <td>AMD</td>\n",
       "      <td>Mac</td>\n",
       "    </tr>\n",
       "    <tr>\n",
       "      <th>798</th>\n",
       "      <td>182</td>\n",
       "      <td>Lenovo</td>\n",
       "      <td>2 in 1 Convertible</td>\n",
       "      <td>16</td>\n",
       "      <td>1.40</td>\n",
       "      <td>11.497961</td>\n",
       "      <td>1</td>\n",
       "      <td>1</td>\n",
       "      <td>316.965060</td>\n",
       "      <td>Intel Core i7</td>\n",
       "      <td>0.0</td>\n",
       "      <td>512</td>\n",
       "      <td>Intel</td>\n",
       "      <td>Windows</td>\n",
       "    </tr>\n",
       "    <tr>\n",
       "      <th>1096</th>\n",
       "      <td>645</td>\n",
       "      <td>Lenovo</td>\n",
       "      <td>Notebook</td>\n",
       "      <td>4</td>\n",
       "      <td>1.43</td>\n",
       "      <td>9.588689</td>\n",
       "      <td>0</td>\n",
       "      <td>0</td>\n",
       "      <td>111.935204</td>\n",
       "      <td>Other Intel Processor</td>\n",
       "      <td>0.0</td>\n",
       "      <td>0</td>\n",
       "      <td>Intel</td>\n",
       "      <td>Windows</td>\n",
       "    </tr>\n",
       "  </tbody>\n",
       "</table>\n",
       "</div>"
      ],
      "text/plain": [
       "       id Company            TypeName  Ram  Weight      Price  TouchScreen  \\\n",
       "658   182  Lenovo  2 in 1 Convertible   16    1.40  11.497961            1   \n",
       "775    12   Apple           Ultrabook   16    1.83  11.775302            0   \n",
       "798   182  Lenovo  2 in 1 Convertible   16    1.40  11.497961            1   \n",
       "1096  645  Lenovo            Notebook    4    1.43   9.588689            0   \n",
       "\n",
       "      Ips         Ppi              Cpu_brand  HDD  SSD Gpu_brand       Os  \n",
       "658     1  316.965060          Intel Core i7  0.0  512     Intel  Windows  \n",
       "775     1  220.534624          Intel Core i7  0.0  256       AMD      Mac  \n",
       "798     1  316.965060          Intel Core i7  0.0  512     Intel  Windows  \n",
       "1096    0  111.935204  Other Intel Processor  0.0    0     Intel  Windows  "
      ]
     },
     "execution_count": 12,
     "metadata": {},
     "output_type": "execute_result"
    }
   ],
   "source": [
    "train.loc[train.duplicated(subset=features+[\"Price\"], keep=False)].tail(4)"
   ]
  },
  {
   "cell_type": "code",
   "execution_count": 13,
   "metadata": {},
   "outputs": [
    {
     "data": {
      "text/plain": [
       "7"
      ]
     },
     "execution_count": 13,
     "metadata": {},
     "output_type": "execute_result"
    }
   ],
   "source": [
    "duplicated_rows = train.loc[train.duplicated(subset=features+[\"Price\"], keep=False)].shape[0]\n",
    "duplicated_rows"
   ]
  },
  {
   "cell_type": "code",
   "execution_count": 14,
   "metadata": {},
   "outputs": [
    {
     "name": "stdout",
     "output_type": "stream",
     "text": [
      "Duplicates: 0.5983%\n"
     ]
    }
   ],
   "source": [
    "print(f\"Duplicates: {(duplicated_rows/train.shape[0])*100:.4f}%\")"
   ]
  },
  {
   "cell_type": "markdown",
   "metadata": {},
   "source": [
    "Son iguales en dupliocados con la variable objetivo ingresada y sin la variable objetivo ingresada"
   ]
  },
  {
   "cell_type": "code",
   "execution_count": 15,
   "metadata": {},
   "outputs": [
    {
     "name": "stderr",
     "output_type": "stream",
     "text": [
      "C:\\Users\\user\\AppData\\Local\\Temp\\ipykernel_14424\\4192124644.py:1: SettingWithCopyWarning: \n",
      "A value is trying to be set on a copy of a slice from a DataFrame\n",
      "\n",
      "See the caveats in the documentation: https://pandas.pydata.org/pandas-docs/stable/user_guide/indexing.html#returning-a-view-versus-a-copy\n",
      "  train.drop_duplicates(subset=features, inplace=True)\n"
     ]
    }
   ],
   "source": [
    "train.drop_duplicates(subset=features, inplace=True)\n"
   ]
  },
  {
   "cell_type": "code",
   "execution_count": 16,
   "metadata": {},
   "outputs": [
    {
     "data": {
      "text/plain": [
       "(1166, 14)"
      ]
     },
     "execution_count": 16,
     "metadata": {},
     "output_type": "execute_result"
    }
   ],
   "source": [
    "train.shape"
   ]
  },
  {
   "cell_type": "code",
   "execution_count": 17,
   "metadata": {},
   "outputs": [
    {
     "data": {
      "text/plain": [
       "['Company', 'TypeName', 'Cpu_brand', 'Gpu_brand', 'Os']"
      ]
     },
     "execution_count": 17,
     "metadata": {},
     "output_type": "execute_result"
    }
   ],
   "source": [
    "numerical = train.select_dtypes(include=np.number).columns.tolist()\n",
    "numerical.remove(\"id\")\n",
    "numerical.remove(\"Price\")\n",
    "numerical\n",
    "\n",
    "categoricas = train.select_dtypes(exclude = np.number).columns.tolist()\n",
    "categoricas"
   ]
  },
  {
   "cell_type": "code",
   "execution_count": 18,
   "metadata": {},
   "outputs": [],
   "source": [
    "x = train[numerical + categoricas]\n",
    "y = train[\"Price\"]\n",
    "x_train, x_test, y_train, y_test = train_test_split(x, y, random_state=0)\n",
    "x_REAL_test = test[numerical+ categoricas]"
   ]
  },
  {
   "cell_type": "code",
   "execution_count": 19,
   "metadata": {},
   "outputs": [
    {
     "data": {
      "text/plain": [
       "((874, 12), (874, 12))"
      ]
     },
     "execution_count": 19,
     "metadata": {},
     "output_type": "execute_result"
    }
   ],
   "source": [
    "x_train.shape, x_train.shape"
   ]
  },
  {
   "cell_type": "code",
   "execution_count": 20,
   "metadata": {},
   "outputs": [
    {
     "data": {
      "text/plain": [
       "((292, 12), (292, 12))"
      ]
     },
     "execution_count": 20,
     "metadata": {},
     "output_type": "execute_result"
    }
   ],
   "source": [
    "x_test.shape, x_test.shape"
   ]
  },
  {
   "cell_type": "code",
   "execution_count": 21,
   "metadata": {},
   "outputs": [],
   "source": [
    "\n",
    "\n",
    "numerical_pipeline = Pipeline([\n",
    "    (\"imputer\", SimpleImputer(strategy=\"mean\")),\n",
    "    (\"encoder\", StandardScaler())\n",
    "])\n",
    "\n",
    "categorical_pipeline = Pipeline([\n",
    "    (\"imputer\", SimpleImputer(strategy=\"most_frequent\")),\n",
    "    (\"encoder\", OneHotEncoder(sparse=True, handle_unknown=\"ignore\"))\n",
    "])\n",
    "\n",
    "preprocessing_pipeline = ColumnTransformer([\n",
    "    (\"numerical_preprocessor\", numerical_pipeline, numerical),\n",
    "    (\"categorical_preprocessor\", categorical_pipeline, categoricas)\n",
    "])\n",
    "\n",
    "\n"
   ]
  },
  {
   "cell_type": "code",
   "execution_count": 22,
   "metadata": {},
   "outputs": [
    {
     "data": {
      "text/html": [
       "<style>#sk-container-id-1 {color: black;}#sk-container-id-1 pre{padding: 0;}#sk-container-id-1 div.sk-toggleable {background-color: white;}#sk-container-id-1 label.sk-toggleable__label {cursor: pointer;display: block;width: 100%;margin-bottom: 0;padding: 0.3em;box-sizing: border-box;text-align: center;}#sk-container-id-1 label.sk-toggleable__label-arrow:before {content: \"▸\";float: left;margin-right: 0.25em;color: #696969;}#sk-container-id-1 label.sk-toggleable__label-arrow:hover:before {color: black;}#sk-container-id-1 div.sk-estimator:hover label.sk-toggleable__label-arrow:before {color: black;}#sk-container-id-1 div.sk-toggleable__content {max-height: 0;max-width: 0;overflow: hidden;text-align: left;background-color: #f0f8ff;}#sk-container-id-1 div.sk-toggleable__content pre {margin: 0.2em;color: black;border-radius: 0.25em;background-color: #f0f8ff;}#sk-container-id-1 input.sk-toggleable__control:checked~div.sk-toggleable__content {max-height: 200px;max-width: 100%;overflow: auto;}#sk-container-id-1 input.sk-toggleable__control:checked~label.sk-toggleable__label-arrow:before {content: \"▾\";}#sk-container-id-1 div.sk-estimator input.sk-toggleable__control:checked~label.sk-toggleable__label {background-color: #d4ebff;}#sk-container-id-1 div.sk-label input.sk-toggleable__control:checked~label.sk-toggleable__label {background-color: #d4ebff;}#sk-container-id-1 input.sk-hidden--visually {border: 0;clip: rect(1px 1px 1px 1px);clip: rect(1px, 1px, 1px, 1px);height: 1px;margin: -1px;overflow: hidden;padding: 0;position: absolute;width: 1px;}#sk-container-id-1 div.sk-estimator {font-family: monospace;background-color: #f0f8ff;border: 1px dotted black;border-radius: 0.25em;box-sizing: border-box;margin-bottom: 0.5em;}#sk-container-id-1 div.sk-estimator:hover {background-color: #d4ebff;}#sk-container-id-1 div.sk-parallel-item::after {content: \"\";width: 100%;border-bottom: 1px solid gray;flex-grow: 1;}#sk-container-id-1 div.sk-label:hover label.sk-toggleable__label {background-color: #d4ebff;}#sk-container-id-1 div.sk-serial::before {content: \"\";position: absolute;border-left: 1px solid gray;box-sizing: border-box;top: 0;bottom: 0;left: 50%;z-index: 0;}#sk-container-id-1 div.sk-serial {display: flex;flex-direction: column;align-items: center;background-color: white;padding-right: 0.2em;padding-left: 0.2em;position: relative;}#sk-container-id-1 div.sk-item {position: relative;z-index: 1;}#sk-container-id-1 div.sk-parallel {display: flex;align-items: stretch;justify-content: center;background-color: white;position: relative;}#sk-container-id-1 div.sk-item::before, #sk-container-id-1 div.sk-parallel-item::before {content: \"\";position: absolute;border-left: 1px solid gray;box-sizing: border-box;top: 0;bottom: 0;left: 50%;z-index: -1;}#sk-container-id-1 div.sk-parallel-item {display: flex;flex-direction: column;z-index: 1;position: relative;background-color: white;}#sk-container-id-1 div.sk-parallel-item:first-child::after {align-self: flex-end;width: 50%;}#sk-container-id-1 div.sk-parallel-item:last-child::after {align-self: flex-start;width: 50%;}#sk-container-id-1 div.sk-parallel-item:only-child::after {width: 0;}#sk-container-id-1 div.sk-dashed-wrapped {border: 1px dashed gray;margin: 0 0.4em 0.5em 0.4em;box-sizing: border-box;padding-bottom: 0.4em;background-color: white;}#sk-container-id-1 div.sk-label label {font-family: monospace;font-weight: bold;display: inline-block;line-height: 1.2em;}#sk-container-id-1 div.sk-label-container {text-align: center;}#sk-container-id-1 div.sk-container {/* jupyter's `normalize.less` sets `[hidden] { display: none; }` but bootstrap.min.css set `[hidden] { display: none !important; }` so we also need the `!important` here to be able to override the default hidden behavior on the sphinx rendered scikit-learn.org. See: https://github.com/scikit-learn/scikit-learn/issues/21755 */display: inline-block !important;position: relative;}#sk-container-id-1 div.sk-text-repr-fallback {display: none;}</style><div id=\"sk-container-id-1\" class=\"sk-top-container\"><div class=\"sk-text-repr-fallback\"><pre>ColumnTransformer(transformers=[(&#x27;numerical_preprocessor&#x27;,\n",
       "                                 Pipeline(steps=[(&#x27;imputer&#x27;, SimpleImputer()),\n",
       "                                                 (&#x27;encoder&#x27;,\n",
       "                                                  StandardScaler())]),\n",
       "                                 [&#x27;Ram&#x27;, &#x27;Weight&#x27;, &#x27;TouchScreen&#x27;, &#x27;Ips&#x27;, &#x27;Ppi&#x27;,\n",
       "                                  &#x27;HDD&#x27;, &#x27;SSD&#x27;]),\n",
       "                                (&#x27;categorical_preprocessor&#x27;,\n",
       "                                 Pipeline(steps=[(&#x27;imputer&#x27;,\n",
       "                                                  SimpleImputer(strategy=&#x27;most_frequent&#x27;)),\n",
       "                                                 (&#x27;encoder&#x27;,\n",
       "                                                  OneHotEncoder(handle_unknown=&#x27;ignore&#x27;,\n",
       "                                                                sparse=True))]),\n",
       "                                 [&#x27;Company&#x27;, &#x27;TypeName&#x27;, &#x27;Cpu_brand&#x27;,\n",
       "                                  &#x27;Gpu_brand&#x27;, &#x27;Os&#x27;])])</pre><b>In a Jupyter environment, please rerun this cell to show the HTML representation or trust the notebook. <br />On GitHub, the HTML representation is unable to render, please try loading this page with nbviewer.org.</b></div><div class=\"sk-container\" hidden><div class=\"sk-item sk-dashed-wrapped\"><div class=\"sk-label-container\"><div class=\"sk-label sk-toggleable\"><input class=\"sk-toggleable__control sk-hidden--visually\" id=\"sk-estimator-id-1\" type=\"checkbox\" ><label for=\"sk-estimator-id-1\" class=\"sk-toggleable__label sk-toggleable__label-arrow\">ColumnTransformer</label><div class=\"sk-toggleable__content\"><pre>ColumnTransformer(transformers=[(&#x27;numerical_preprocessor&#x27;,\n",
       "                                 Pipeline(steps=[(&#x27;imputer&#x27;, SimpleImputer()),\n",
       "                                                 (&#x27;encoder&#x27;,\n",
       "                                                  StandardScaler())]),\n",
       "                                 [&#x27;Ram&#x27;, &#x27;Weight&#x27;, &#x27;TouchScreen&#x27;, &#x27;Ips&#x27;, &#x27;Ppi&#x27;,\n",
       "                                  &#x27;HDD&#x27;, &#x27;SSD&#x27;]),\n",
       "                                (&#x27;categorical_preprocessor&#x27;,\n",
       "                                 Pipeline(steps=[(&#x27;imputer&#x27;,\n",
       "                                                  SimpleImputer(strategy=&#x27;most_frequent&#x27;)),\n",
       "                                                 (&#x27;encoder&#x27;,\n",
       "                                                  OneHotEncoder(handle_unknown=&#x27;ignore&#x27;,\n",
       "                                                                sparse=True))]),\n",
       "                                 [&#x27;Company&#x27;, &#x27;TypeName&#x27;, &#x27;Cpu_brand&#x27;,\n",
       "                                  &#x27;Gpu_brand&#x27;, &#x27;Os&#x27;])])</pre></div></div></div><div class=\"sk-parallel\"><div class=\"sk-parallel-item\"><div class=\"sk-item\"><div class=\"sk-label-container\"><div class=\"sk-label sk-toggleable\"><input class=\"sk-toggleable__control sk-hidden--visually\" id=\"sk-estimator-id-2\" type=\"checkbox\" ><label for=\"sk-estimator-id-2\" class=\"sk-toggleable__label sk-toggleable__label-arrow\">numerical_preprocessor</label><div class=\"sk-toggleable__content\"><pre>[&#x27;Ram&#x27;, &#x27;Weight&#x27;, &#x27;TouchScreen&#x27;, &#x27;Ips&#x27;, &#x27;Ppi&#x27;, &#x27;HDD&#x27;, &#x27;SSD&#x27;]</pre></div></div></div><div class=\"sk-serial\"><div class=\"sk-item\"><div class=\"sk-serial\"><div class=\"sk-item\"><div class=\"sk-estimator sk-toggleable\"><input class=\"sk-toggleable__control sk-hidden--visually\" id=\"sk-estimator-id-3\" type=\"checkbox\" ><label for=\"sk-estimator-id-3\" class=\"sk-toggleable__label sk-toggleable__label-arrow\">SimpleImputer</label><div class=\"sk-toggleable__content\"><pre>SimpleImputer()</pre></div></div></div><div class=\"sk-item\"><div class=\"sk-estimator sk-toggleable\"><input class=\"sk-toggleable__control sk-hidden--visually\" id=\"sk-estimator-id-4\" type=\"checkbox\" ><label for=\"sk-estimator-id-4\" class=\"sk-toggleable__label sk-toggleable__label-arrow\">StandardScaler</label><div class=\"sk-toggleable__content\"><pre>StandardScaler()</pre></div></div></div></div></div></div></div></div><div class=\"sk-parallel-item\"><div class=\"sk-item\"><div class=\"sk-label-container\"><div class=\"sk-label sk-toggleable\"><input class=\"sk-toggleable__control sk-hidden--visually\" id=\"sk-estimator-id-5\" type=\"checkbox\" ><label for=\"sk-estimator-id-5\" class=\"sk-toggleable__label sk-toggleable__label-arrow\">categorical_preprocessor</label><div class=\"sk-toggleable__content\"><pre>[&#x27;Company&#x27;, &#x27;TypeName&#x27;, &#x27;Cpu_brand&#x27;, &#x27;Gpu_brand&#x27;, &#x27;Os&#x27;]</pre></div></div></div><div class=\"sk-serial\"><div class=\"sk-item\"><div class=\"sk-serial\"><div class=\"sk-item\"><div class=\"sk-estimator sk-toggleable\"><input class=\"sk-toggleable__control sk-hidden--visually\" id=\"sk-estimator-id-6\" type=\"checkbox\" ><label for=\"sk-estimator-id-6\" class=\"sk-toggleable__label sk-toggleable__label-arrow\">SimpleImputer</label><div class=\"sk-toggleable__content\"><pre>SimpleImputer(strategy=&#x27;most_frequent&#x27;)</pre></div></div></div><div class=\"sk-item\"><div class=\"sk-estimator sk-toggleable\"><input class=\"sk-toggleable__control sk-hidden--visually\" id=\"sk-estimator-id-7\" type=\"checkbox\" ><label for=\"sk-estimator-id-7\" class=\"sk-toggleable__label sk-toggleable__label-arrow\">OneHotEncoder</label><div class=\"sk-toggleable__content\"><pre>OneHotEncoder(handle_unknown=&#x27;ignore&#x27;, sparse=True)</pre></div></div></div></div></div></div></div></div></div></div></div></div>"
      ],
      "text/plain": [
       "ColumnTransformer(transformers=[('numerical_preprocessor',\n",
       "                                 Pipeline(steps=[('imputer', SimpleImputer()),\n",
       "                                                 ('encoder',\n",
       "                                                  StandardScaler())]),\n",
       "                                 ['Ram', 'Weight', 'TouchScreen', 'Ips', 'Ppi',\n",
       "                                  'HDD', 'SSD']),\n",
       "                                ('categorical_preprocessor',\n",
       "                                 Pipeline(steps=[('imputer',\n",
       "                                                  SimpleImputer(strategy='most_frequent')),\n",
       "                                                 ('encoder',\n",
       "                                                  OneHotEncoder(handle_unknown='ignore',\n",
       "                                                                sparse=True))]),\n",
       "                                 ['Company', 'TypeName', 'Cpu_brand',\n",
       "                                  'Gpu_brand', 'Os'])])"
      ]
     },
     "execution_count": 22,
     "metadata": {},
     "output_type": "execute_result"
    }
   ],
   "source": [
    "preprocessing_pipeline"
   ]
  },
  {
   "cell_type": "code",
   "execution_count": 23,
   "metadata": {},
   "outputs": [],
   "source": [
    "#Todo en un pipeline\n",
    "\n",
    "ML_model = LinearRegression()\n",
    "complete_pipeline = Pipeline([\n",
    "    (\"preprocessor\", preprocessing_pipeline),\n",
    "    (\"estimator\", ML_model)\n",
    "])"
   ]
  },
  {
   "cell_type": "code",
   "execution_count": 24,
   "metadata": {},
   "outputs": [],
   "source": [
    "complete_pipeline = Pipeline([\n",
    "    (\"preprocessor\", preprocessing_pipeline),\n",
    "    (\"estimator\", ML_model)\n",
    "])"
   ]
  },
  {
   "cell_type": "code",
   "execution_count": 25,
   "metadata": {},
   "outputs": [
    {
     "name": "stderr",
     "output_type": "stream",
     "text": [
      "c:\\Users\\user\\AppData\\Local\\Programs\\Python\\Python310\\lib\\site-packages\\sklearn\\preprocessing\\_encoders.py:972: FutureWarning: `sparse` was renamed to `sparse_output` in version 1.2 and will be removed in 1.4. `sparse_output` is ignored unless you leave `sparse` to its default value.\n",
      "  warnings.warn(\n"
     ]
    },
    {
     "data": {
      "text/html": [
       "<style>#sk-container-id-2 {color: black;}#sk-container-id-2 pre{padding: 0;}#sk-container-id-2 div.sk-toggleable {background-color: white;}#sk-container-id-2 label.sk-toggleable__label {cursor: pointer;display: block;width: 100%;margin-bottom: 0;padding: 0.3em;box-sizing: border-box;text-align: center;}#sk-container-id-2 label.sk-toggleable__label-arrow:before {content: \"▸\";float: left;margin-right: 0.25em;color: #696969;}#sk-container-id-2 label.sk-toggleable__label-arrow:hover:before {color: black;}#sk-container-id-2 div.sk-estimator:hover label.sk-toggleable__label-arrow:before {color: black;}#sk-container-id-2 div.sk-toggleable__content {max-height: 0;max-width: 0;overflow: hidden;text-align: left;background-color: #f0f8ff;}#sk-container-id-2 div.sk-toggleable__content pre {margin: 0.2em;color: black;border-radius: 0.25em;background-color: #f0f8ff;}#sk-container-id-2 input.sk-toggleable__control:checked~div.sk-toggleable__content {max-height: 200px;max-width: 100%;overflow: auto;}#sk-container-id-2 input.sk-toggleable__control:checked~label.sk-toggleable__label-arrow:before {content: \"▾\";}#sk-container-id-2 div.sk-estimator input.sk-toggleable__control:checked~label.sk-toggleable__label {background-color: #d4ebff;}#sk-container-id-2 div.sk-label input.sk-toggleable__control:checked~label.sk-toggleable__label {background-color: #d4ebff;}#sk-container-id-2 input.sk-hidden--visually {border: 0;clip: rect(1px 1px 1px 1px);clip: rect(1px, 1px, 1px, 1px);height: 1px;margin: -1px;overflow: hidden;padding: 0;position: absolute;width: 1px;}#sk-container-id-2 div.sk-estimator {font-family: monospace;background-color: #f0f8ff;border: 1px dotted black;border-radius: 0.25em;box-sizing: border-box;margin-bottom: 0.5em;}#sk-container-id-2 div.sk-estimator:hover {background-color: #d4ebff;}#sk-container-id-2 div.sk-parallel-item::after {content: \"\";width: 100%;border-bottom: 1px solid gray;flex-grow: 1;}#sk-container-id-2 div.sk-label:hover label.sk-toggleable__label {background-color: #d4ebff;}#sk-container-id-2 div.sk-serial::before {content: \"\";position: absolute;border-left: 1px solid gray;box-sizing: border-box;top: 0;bottom: 0;left: 50%;z-index: 0;}#sk-container-id-2 div.sk-serial {display: flex;flex-direction: column;align-items: center;background-color: white;padding-right: 0.2em;padding-left: 0.2em;position: relative;}#sk-container-id-2 div.sk-item {position: relative;z-index: 1;}#sk-container-id-2 div.sk-parallel {display: flex;align-items: stretch;justify-content: center;background-color: white;position: relative;}#sk-container-id-2 div.sk-item::before, #sk-container-id-2 div.sk-parallel-item::before {content: \"\";position: absolute;border-left: 1px solid gray;box-sizing: border-box;top: 0;bottom: 0;left: 50%;z-index: -1;}#sk-container-id-2 div.sk-parallel-item {display: flex;flex-direction: column;z-index: 1;position: relative;background-color: white;}#sk-container-id-2 div.sk-parallel-item:first-child::after {align-self: flex-end;width: 50%;}#sk-container-id-2 div.sk-parallel-item:last-child::after {align-self: flex-start;width: 50%;}#sk-container-id-2 div.sk-parallel-item:only-child::after {width: 0;}#sk-container-id-2 div.sk-dashed-wrapped {border: 1px dashed gray;margin: 0 0.4em 0.5em 0.4em;box-sizing: border-box;padding-bottom: 0.4em;background-color: white;}#sk-container-id-2 div.sk-label label {font-family: monospace;font-weight: bold;display: inline-block;line-height: 1.2em;}#sk-container-id-2 div.sk-label-container {text-align: center;}#sk-container-id-2 div.sk-container {/* jupyter's `normalize.less` sets `[hidden] { display: none; }` but bootstrap.min.css set `[hidden] { display: none !important; }` so we also need the `!important` here to be able to override the default hidden behavior on the sphinx rendered scikit-learn.org. See: https://github.com/scikit-learn/scikit-learn/issues/21755 */display: inline-block !important;position: relative;}#sk-container-id-2 div.sk-text-repr-fallback {display: none;}</style><div id=\"sk-container-id-2\" class=\"sk-top-container\"><div class=\"sk-text-repr-fallback\"><pre>Pipeline(steps=[(&#x27;preprocessor&#x27;,\n",
       "                 ColumnTransformer(transformers=[(&#x27;numerical_preprocessor&#x27;,\n",
       "                                                  Pipeline(steps=[(&#x27;imputer&#x27;,\n",
       "                                                                   SimpleImputer()),\n",
       "                                                                  (&#x27;encoder&#x27;,\n",
       "                                                                   StandardScaler())]),\n",
       "                                                  [&#x27;Ram&#x27;, &#x27;Weight&#x27;,\n",
       "                                                   &#x27;TouchScreen&#x27;, &#x27;Ips&#x27;, &#x27;Ppi&#x27;,\n",
       "                                                   &#x27;HDD&#x27;, &#x27;SSD&#x27;]),\n",
       "                                                 (&#x27;categorical_preprocessor&#x27;,\n",
       "                                                  Pipeline(steps=[(&#x27;imputer&#x27;,\n",
       "                                                                   SimpleImputer(strategy=&#x27;most_frequent&#x27;)),\n",
       "                                                                  (&#x27;encoder&#x27;,\n",
       "                                                                   OneHotEncoder(handle_unknown=&#x27;ignore&#x27;,\n",
       "                                                                                 sparse=True))]),\n",
       "                                                  [&#x27;Company&#x27;, &#x27;TypeName&#x27;,\n",
       "                                                   &#x27;Cpu_brand&#x27;, &#x27;Gpu_brand&#x27;,\n",
       "                                                   &#x27;Os&#x27;])])),\n",
       "                (&#x27;estimator&#x27;, LinearRegression())])</pre><b>In a Jupyter environment, please rerun this cell to show the HTML representation or trust the notebook. <br />On GitHub, the HTML representation is unable to render, please try loading this page with nbviewer.org.</b></div><div class=\"sk-container\" hidden><div class=\"sk-item sk-dashed-wrapped\"><div class=\"sk-label-container\"><div class=\"sk-label sk-toggleable\"><input class=\"sk-toggleable__control sk-hidden--visually\" id=\"sk-estimator-id-8\" type=\"checkbox\" ><label for=\"sk-estimator-id-8\" class=\"sk-toggleable__label sk-toggleable__label-arrow\">Pipeline</label><div class=\"sk-toggleable__content\"><pre>Pipeline(steps=[(&#x27;preprocessor&#x27;,\n",
       "                 ColumnTransformer(transformers=[(&#x27;numerical_preprocessor&#x27;,\n",
       "                                                  Pipeline(steps=[(&#x27;imputer&#x27;,\n",
       "                                                                   SimpleImputer()),\n",
       "                                                                  (&#x27;encoder&#x27;,\n",
       "                                                                   StandardScaler())]),\n",
       "                                                  [&#x27;Ram&#x27;, &#x27;Weight&#x27;,\n",
       "                                                   &#x27;TouchScreen&#x27;, &#x27;Ips&#x27;, &#x27;Ppi&#x27;,\n",
       "                                                   &#x27;HDD&#x27;, &#x27;SSD&#x27;]),\n",
       "                                                 (&#x27;categorical_preprocessor&#x27;,\n",
       "                                                  Pipeline(steps=[(&#x27;imputer&#x27;,\n",
       "                                                                   SimpleImputer(strategy=&#x27;most_frequent&#x27;)),\n",
       "                                                                  (&#x27;encoder&#x27;,\n",
       "                                                                   OneHotEncoder(handle_unknown=&#x27;ignore&#x27;,\n",
       "                                                                                 sparse=True))]),\n",
       "                                                  [&#x27;Company&#x27;, &#x27;TypeName&#x27;,\n",
       "                                                   &#x27;Cpu_brand&#x27;, &#x27;Gpu_brand&#x27;,\n",
       "                                                   &#x27;Os&#x27;])])),\n",
       "                (&#x27;estimator&#x27;, LinearRegression())])</pre></div></div></div><div class=\"sk-serial\"><div class=\"sk-item sk-dashed-wrapped\"><div class=\"sk-label-container\"><div class=\"sk-label sk-toggleable\"><input class=\"sk-toggleable__control sk-hidden--visually\" id=\"sk-estimator-id-9\" type=\"checkbox\" ><label for=\"sk-estimator-id-9\" class=\"sk-toggleable__label sk-toggleable__label-arrow\">preprocessor: ColumnTransformer</label><div class=\"sk-toggleable__content\"><pre>ColumnTransformer(transformers=[(&#x27;numerical_preprocessor&#x27;,\n",
       "                                 Pipeline(steps=[(&#x27;imputer&#x27;, SimpleImputer()),\n",
       "                                                 (&#x27;encoder&#x27;,\n",
       "                                                  StandardScaler())]),\n",
       "                                 [&#x27;Ram&#x27;, &#x27;Weight&#x27;, &#x27;TouchScreen&#x27;, &#x27;Ips&#x27;, &#x27;Ppi&#x27;,\n",
       "                                  &#x27;HDD&#x27;, &#x27;SSD&#x27;]),\n",
       "                                (&#x27;categorical_preprocessor&#x27;,\n",
       "                                 Pipeline(steps=[(&#x27;imputer&#x27;,\n",
       "                                                  SimpleImputer(strategy=&#x27;most_frequent&#x27;)),\n",
       "                                                 (&#x27;encoder&#x27;,\n",
       "                                                  OneHotEncoder(handle_unknown=&#x27;ignore&#x27;,\n",
       "                                                                sparse=True))]),\n",
       "                                 [&#x27;Company&#x27;, &#x27;TypeName&#x27;, &#x27;Cpu_brand&#x27;,\n",
       "                                  &#x27;Gpu_brand&#x27;, &#x27;Os&#x27;])])</pre></div></div></div><div class=\"sk-parallel\"><div class=\"sk-parallel-item\"><div class=\"sk-item\"><div class=\"sk-label-container\"><div class=\"sk-label sk-toggleable\"><input class=\"sk-toggleable__control sk-hidden--visually\" id=\"sk-estimator-id-10\" type=\"checkbox\" ><label for=\"sk-estimator-id-10\" class=\"sk-toggleable__label sk-toggleable__label-arrow\">numerical_preprocessor</label><div class=\"sk-toggleable__content\"><pre>[&#x27;Ram&#x27;, &#x27;Weight&#x27;, &#x27;TouchScreen&#x27;, &#x27;Ips&#x27;, &#x27;Ppi&#x27;, &#x27;HDD&#x27;, &#x27;SSD&#x27;]</pre></div></div></div><div class=\"sk-serial\"><div class=\"sk-item\"><div class=\"sk-serial\"><div class=\"sk-item\"><div class=\"sk-estimator sk-toggleable\"><input class=\"sk-toggleable__control sk-hidden--visually\" id=\"sk-estimator-id-11\" type=\"checkbox\" ><label for=\"sk-estimator-id-11\" class=\"sk-toggleable__label sk-toggleable__label-arrow\">SimpleImputer</label><div class=\"sk-toggleable__content\"><pre>SimpleImputer()</pre></div></div></div><div class=\"sk-item\"><div class=\"sk-estimator sk-toggleable\"><input class=\"sk-toggleable__control sk-hidden--visually\" id=\"sk-estimator-id-12\" type=\"checkbox\" ><label for=\"sk-estimator-id-12\" class=\"sk-toggleable__label sk-toggleable__label-arrow\">StandardScaler</label><div class=\"sk-toggleable__content\"><pre>StandardScaler()</pre></div></div></div></div></div></div></div></div><div class=\"sk-parallel-item\"><div class=\"sk-item\"><div class=\"sk-label-container\"><div class=\"sk-label sk-toggleable\"><input class=\"sk-toggleable__control sk-hidden--visually\" id=\"sk-estimator-id-13\" type=\"checkbox\" ><label for=\"sk-estimator-id-13\" class=\"sk-toggleable__label sk-toggleable__label-arrow\">categorical_preprocessor</label><div class=\"sk-toggleable__content\"><pre>[&#x27;Company&#x27;, &#x27;TypeName&#x27;, &#x27;Cpu_brand&#x27;, &#x27;Gpu_brand&#x27;, &#x27;Os&#x27;]</pre></div></div></div><div class=\"sk-serial\"><div class=\"sk-item\"><div class=\"sk-serial\"><div class=\"sk-item\"><div class=\"sk-estimator sk-toggleable\"><input class=\"sk-toggleable__control sk-hidden--visually\" id=\"sk-estimator-id-14\" type=\"checkbox\" ><label for=\"sk-estimator-id-14\" class=\"sk-toggleable__label sk-toggleable__label-arrow\">SimpleImputer</label><div class=\"sk-toggleable__content\"><pre>SimpleImputer(strategy=&#x27;most_frequent&#x27;)</pre></div></div></div><div class=\"sk-item\"><div class=\"sk-estimator sk-toggleable\"><input class=\"sk-toggleable__control sk-hidden--visually\" id=\"sk-estimator-id-15\" type=\"checkbox\" ><label for=\"sk-estimator-id-15\" class=\"sk-toggleable__label sk-toggleable__label-arrow\">OneHotEncoder</label><div class=\"sk-toggleable__content\"><pre>OneHotEncoder(handle_unknown=&#x27;ignore&#x27;, sparse=True)</pre></div></div></div></div></div></div></div></div></div></div><div class=\"sk-item\"><div class=\"sk-estimator sk-toggleable\"><input class=\"sk-toggleable__control sk-hidden--visually\" id=\"sk-estimator-id-16\" type=\"checkbox\" ><label for=\"sk-estimator-id-16\" class=\"sk-toggleable__label sk-toggleable__label-arrow\">LinearRegression</label><div class=\"sk-toggleable__content\"><pre>LinearRegression()</pre></div></div></div></div></div></div></div>"
      ],
      "text/plain": [
       "Pipeline(steps=[('preprocessor',\n",
       "                 ColumnTransformer(transformers=[('numerical_preprocessor',\n",
       "                                                  Pipeline(steps=[('imputer',\n",
       "                                                                   SimpleImputer()),\n",
       "                                                                  ('encoder',\n",
       "                                                                   StandardScaler())]),\n",
       "                                                  ['Ram', 'Weight',\n",
       "                                                   'TouchScreen', 'Ips', 'Ppi',\n",
       "                                                   'HDD', 'SSD']),\n",
       "                                                 ('categorical_preprocessor',\n",
       "                                                  Pipeline(steps=[('imputer',\n",
       "                                                                   SimpleImputer(strategy='most_frequent')),\n",
       "                                                                  ('encoder',\n",
       "                                                                   OneHotEncoder(handle_unknown='ignore',\n",
       "                                                                                 sparse=True))]),\n",
       "                                                  ['Company', 'TypeName',\n",
       "                                                   'Cpu_brand', 'Gpu_brand',\n",
       "                                                   'Os'])])),\n",
       "                ('estimator', LinearRegression())])"
      ]
     },
     "execution_count": 25,
     "metadata": {},
     "output_type": "execute_result"
    }
   ],
   "source": [
    "complete_pipeline.fit(x_train, y_train)"
   ]
  },
  {
   "cell_type": "code",
   "execution_count": null,
   "metadata": {},
   "outputs": [],
   "source": []
  },
  {
   "cell_type": "code",
   "execution_count": 26,
   "metadata": {},
   "outputs": [
    {
     "data": {
      "text/plain": [
       "Index(['Ram', 'Weight', 'TouchScreen', 'Ips', 'Ppi', 'HDD', 'SSD', 'Company',\n",
       "       'TypeName', 'Cpu_brand', 'Gpu_brand', 'Os'],\n",
       "      dtype='object')"
      ]
     },
     "execution_count": 26,
     "metadata": {},
     "output_type": "execute_result"
    }
   ],
   "source": [
    "# Obtener los coeficientes del modelo\n",
    "coef = complete_pipeline.named_steps['estimator'].coef_\n",
    "\n",
    "coef\n",
    "\n",
    "x_train.columns"
   ]
  },
  {
   "cell_type": "code",
   "execution_count": 27,
   "metadata": {},
   "outputs": [],
   "source": [
    "df = pd.DataFrame({\"columnas\": complete_pipeline[\"preprocessor\"], \"coef\": complete_pipeline[\"estimator\"].coef_})"
   ]
  },
  {
   "cell_type": "code",
   "execution_count": 28,
   "metadata": {},
   "outputs": [
    {
     "data": {
      "text/html": [
       "<div>\n",
       "<style scoped>\n",
       "    .dataframe tbody tr th:only-of-type {\n",
       "        vertical-align: middle;\n",
       "    }\n",
       "\n",
       "    .dataframe tbody tr th {\n",
       "        vertical-align: top;\n",
       "    }\n",
       "\n",
       "    .dataframe thead th {\n",
       "        text-align: right;\n",
       "    }\n",
       "</style>\n",
       "<table border=\"1\" class=\"dataframe\">\n",
       "  <thead>\n",
       "    <tr style=\"text-align: right;\">\n",
       "      <th></th>\n",
       "      <th>columnas</th>\n",
       "      <th>coef</th>\n",
       "    </tr>\n",
       "  </thead>\n",
       "  <tbody>\n",
       "    <tr>\n",
       "      <th>0</th>\n",
       "      <td>ColumnTransformer(transformers=[('numerical_pr...</td>\n",
       "      <td>-1.763104</td>\n",
       "    </tr>\n",
       "    <tr>\n",
       "      <th>1</th>\n",
       "      <td>ColumnTransformer(transformers=[('numerical_pr...</td>\n",
       "      <td>-0.211337</td>\n",
       "    </tr>\n",
       "    <tr>\n",
       "      <th>2</th>\n",
       "      <td>ColumnTransformer(transformers=[('numerical_pr...</td>\n",
       "      <td>-1.536449</td>\n",
       "    </tr>\n",
       "    <tr>\n",
       "      <th>3</th>\n",
       "      <td>ColumnTransformer(transformers=[('numerical_pr...</td>\n",
       "      <td>0.916999</td>\n",
       "    </tr>\n",
       "    <tr>\n",
       "      <th>4</th>\n",
       "      <td>ColumnTransformer(transformers=[('numerical_pr...</td>\n",
       "      <td>0.396044</td>\n",
       "    </tr>\n",
       "    <tr>\n",
       "      <th>5</th>\n",
       "      <td>ColumnTransformer(transformers=[('numerical_pr...</td>\n",
       "      <td>0.924853</td>\n",
       "    </tr>\n",
       "    <tr>\n",
       "      <th>6</th>\n",
       "      <td>ColumnTransformer(transformers=[('numerical_pr...</td>\n",
       "      <td>3.244986</td>\n",
       "    </tr>\n",
       "    <tr>\n",
       "      <th>7</th>\n",
       "      <td>ColumnTransformer(transformers=[('numerical_pr...</td>\n",
       "      <td>0.664473</td>\n",
       "    </tr>\n",
       "    <tr>\n",
       "      <th>8</th>\n",
       "      <td>ColumnTransformer(transformers=[('numerical_pr...</td>\n",
       "      <td>-2.392956</td>\n",
       "    </tr>\n",
       "    <tr>\n",
       "      <th>9</th>\n",
       "      <td>ColumnTransformer(transformers=[('numerical_pr...</td>\n",
       "      <td>0.723510</td>\n",
       "    </tr>\n",
       "    <tr>\n",
       "      <th>10</th>\n",
       "      <td>ColumnTransformer(transformers=[('numerical_pr...</td>\n",
       "      <td>2.054062</td>\n",
       "    </tr>\n",
       "    <tr>\n",
       "      <th>11</th>\n",
       "      <td>ColumnTransformer(transformers=[('numerical_pr...</td>\n",
       "      <td>1.719964</td>\n",
       "    </tr>\n",
       "    <tr>\n",
       "      <th>12</th>\n",
       "      <td>ColumnTransformer(transformers=[('numerical_pr...</td>\n",
       "      <td>1.599559</td>\n",
       "    </tr>\n",
       "    <tr>\n",
       "      <th>13</th>\n",
       "      <td>ColumnTransformer(transformers=[('numerical_pr...</td>\n",
       "      <td>-2.108956</td>\n",
       "    </tr>\n",
       "    <tr>\n",
       "      <th>14</th>\n",
       "      <td>ColumnTransformer(transformers=[('numerical_pr...</td>\n",
       "      <td>3.813522</td>\n",
       "    </tr>\n",
       "    <tr>\n",
       "      <th>15</th>\n",
       "      <td>ColumnTransformer(transformers=[('numerical_pr...</td>\n",
       "      <td>-6.096871</td>\n",
       "    </tr>\n",
       "    <tr>\n",
       "      <th>16</th>\n",
       "      <td>ColumnTransformer(transformers=[('numerical_pr...</td>\n",
       "      <td>-2.197572</td>\n",
       "    </tr>\n",
       "    <tr>\n",
       "      <th>17</th>\n",
       "      <td>ColumnTransformer(transformers=[('numerical_pr...</td>\n",
       "      <td>2.368820</td>\n",
       "    </tr>\n",
       "    <tr>\n",
       "      <th>18</th>\n",
       "      <td>ColumnTransformer(transformers=[('numerical_pr...</td>\n",
       "      <td>2.280305</td>\n",
       "    </tr>\n",
       "    <tr>\n",
       "      <th>19</th>\n",
       "      <td>ColumnTransformer(transformers=[('numerical_pr...</td>\n",
       "      <td>1.520990</td>\n",
       "    </tr>\n",
       "    <tr>\n",
       "      <th>20</th>\n",
       "      <td>ColumnTransformer(transformers=[('numerical_pr...</td>\n",
       "      <td>0.295345</td>\n",
       "    </tr>\n",
       "    <tr>\n",
       "      <th>21</th>\n",
       "      <td>ColumnTransformer(transformers=[('numerical_pr...</td>\n",
       "      <td>-0.449386</td>\n",
       "    </tr>\n",
       "    <tr>\n",
       "      <th>22</th>\n",
       "      <td>ColumnTransformer(transformers=[('numerical_pr...</td>\n",
       "      <td>2.319322</td>\n",
       "    </tr>\n",
       "    <tr>\n",
       "      <th>23</th>\n",
       "      <td>ColumnTransformer(transformers=[('numerical_pr...</td>\n",
       "      <td>0.480644</td>\n",
       "    </tr>\n",
       "    <tr>\n",
       "      <th>24</th>\n",
       "      <td>ColumnTransformer(transformers=[('numerical_pr...</td>\n",
       "      <td>2.009353</td>\n",
       "    </tr>\n",
       "    <tr>\n",
       "      <th>25</th>\n",
       "      <td>ColumnTransformer(transformers=[('numerical_pr...</td>\n",
       "      <td>-8.604127</td>\n",
       "    </tr>\n",
       "    <tr>\n",
       "      <th>26</th>\n",
       "      <td>ColumnTransformer(transformers=[('numerical_pr...</td>\n",
       "      <td>-0.358754</td>\n",
       "    </tr>\n",
       "    <tr>\n",
       "      <th>27</th>\n",
       "      <td>ColumnTransformer(transformers=[('numerical_pr...</td>\n",
       "      <td>0.161647</td>\n",
       "    </tr>\n",
       "    <tr>\n",
       "      <th>28</th>\n",
       "      <td>ColumnTransformer(transformers=[('numerical_pr...</td>\n",
       "      <td>0.624544</td>\n",
       "    </tr>\n",
       "    <tr>\n",
       "      <th>29</th>\n",
       "      <td>ColumnTransformer(transformers=[('numerical_pr...</td>\n",
       "      <td>3.368777</td>\n",
       "    </tr>\n",
       "    <tr>\n",
       "      <th>30</th>\n",
       "      <td>ColumnTransformer(transformers=[('numerical_pr...</td>\n",
       "      <td>-0.843045</td>\n",
       "    </tr>\n",
       "    <tr>\n",
       "      <th>31</th>\n",
       "      <td>ColumnTransformer(transformers=[('numerical_pr...</td>\n",
       "      <td>-0.329390</td>\n",
       "    </tr>\n",
       "    <tr>\n",
       "      <th>32</th>\n",
       "      <td>ColumnTransformer(transformers=[('numerical_pr...</td>\n",
       "      <td>-2.586214</td>\n",
       "    </tr>\n",
       "    <tr>\n",
       "      <th>33</th>\n",
       "      <td>ColumnTransformer(transformers=[('numerical_pr...</td>\n",
       "      <td>-0.581932</td>\n",
       "    </tr>\n",
       "    <tr>\n",
       "      <th>34</th>\n",
       "      <td>ColumnTransformer(transformers=[('numerical_pr...</td>\n",
       "      <td>-1.564746</td>\n",
       "    </tr>\n",
       "    <tr>\n",
       "      <th>35</th>\n",
       "      <td>ColumnTransformer(transformers=[('numerical_pr...</td>\n",
       "      <td>4.150268</td>\n",
       "    </tr>\n",
       "    <tr>\n",
       "      <th>36</th>\n",
       "      <td>ColumnTransformer(transformers=[('numerical_pr...</td>\n",
       "      <td>-2.041154</td>\n",
       "    </tr>\n",
       "    <tr>\n",
       "      <th>37</th>\n",
       "      <td>ColumnTransformer(transformers=[('numerical_pr...</td>\n",
       "      <td>-3.520688</td>\n",
       "    </tr>\n",
       "    <tr>\n",
       "      <th>38</th>\n",
       "      <td>ColumnTransformer(transformers=[('numerical_pr...</td>\n",
       "      <td>2.245942</td>\n",
       "    </tr>\n",
       "    <tr>\n",
       "      <th>39</th>\n",
       "      <td>ColumnTransformer(transformers=[('numerical_pr...</td>\n",
       "      <td>0.683907</td>\n",
       "    </tr>\n",
       "    <tr>\n",
       "      <th>40</th>\n",
       "      <td>ColumnTransformer(transformers=[('numerical_pr...</td>\n",
       "      <td>0.332192</td>\n",
       "    </tr>\n",
       "    <tr>\n",
       "      <th>41</th>\n",
       "      <td>ColumnTransformer(transformers=[('numerical_pr...</td>\n",
       "      <td>0.258647</td>\n",
       "    </tr>\n",
       "    <tr>\n",
       "      <th>42</th>\n",
       "      <td>ColumnTransformer(transformers=[('numerical_pr...</td>\n",
       "      <td>-3.305648</td>\n",
       "    </tr>\n",
       "    <tr>\n",
       "      <th>43</th>\n",
       "      <td>ColumnTransformer(transformers=[('numerical_pr...</td>\n",
       "      <td>6.075894</td>\n",
       "    </tr>\n",
       "    <tr>\n",
       "      <th>44</th>\n",
       "      <td>ColumnTransformer(transformers=[('numerical_pr...</td>\n",
       "      <td>2.344345</td>\n",
       "    </tr>\n",
       "    <tr>\n",
       "      <th>45</th>\n",
       "      <td>ColumnTransformer(transformers=[('numerical_pr...</td>\n",
       "      <td>-0.362412</td>\n",
       "    </tr>\n",
       "    <tr>\n",
       "      <th>46</th>\n",
       "      <td>ColumnTransformer(transformers=[('numerical_pr...</td>\n",
       "      <td>-3.054913</td>\n",
       "    </tr>\n",
       "    <tr>\n",
       "      <th>47</th>\n",
       "      <td>ColumnTransformer(transformers=[('numerical_pr...</td>\n",
       "      <td>-0.255084</td>\n",
       "    </tr>\n",
       "    <tr>\n",
       "      <th>48</th>\n",
       "      <td>ColumnTransformer(transformers=[('numerical_pr...</td>\n",
       "      <td>-1.442182</td>\n",
       "    </tr>\n",
       "    <tr>\n",
       "      <th>49</th>\n",
       "      <td>ColumnTransformer(transformers=[('numerical_pr...</td>\n",
       "      <td>-2.392956</td>\n",
       "    </tr>\n",
       "    <tr>\n",
       "      <th>50</th>\n",
       "      <td>ColumnTransformer(transformers=[('numerical_pr...</td>\n",
       "      <td>2.406080</td>\n",
       "    </tr>\n",
       "    <tr>\n",
       "      <th>51</th>\n",
       "      <td>ColumnTransformer(transformers=[('numerical_pr...</td>\n",
       "      <td>-0.013124</td>\n",
       "    </tr>\n",
       "  </tbody>\n",
       "</table>\n",
       "</div>"
      ],
      "text/plain": [
       "                                             columnas      coef\n",
       "0   ColumnTransformer(transformers=[('numerical_pr... -1.763104\n",
       "1   ColumnTransformer(transformers=[('numerical_pr... -0.211337\n",
       "2   ColumnTransformer(transformers=[('numerical_pr... -1.536449\n",
       "3   ColumnTransformer(transformers=[('numerical_pr...  0.916999\n",
       "4   ColumnTransformer(transformers=[('numerical_pr...  0.396044\n",
       "5   ColumnTransformer(transformers=[('numerical_pr...  0.924853\n",
       "6   ColumnTransformer(transformers=[('numerical_pr...  3.244986\n",
       "7   ColumnTransformer(transformers=[('numerical_pr...  0.664473\n",
       "8   ColumnTransformer(transformers=[('numerical_pr... -2.392956\n",
       "9   ColumnTransformer(transformers=[('numerical_pr...  0.723510\n",
       "10  ColumnTransformer(transformers=[('numerical_pr...  2.054062\n",
       "11  ColumnTransformer(transformers=[('numerical_pr...  1.719964\n",
       "12  ColumnTransformer(transformers=[('numerical_pr...  1.599559\n",
       "13  ColumnTransformer(transformers=[('numerical_pr... -2.108956\n",
       "14  ColumnTransformer(transformers=[('numerical_pr...  3.813522\n",
       "15  ColumnTransformer(transformers=[('numerical_pr... -6.096871\n",
       "16  ColumnTransformer(transformers=[('numerical_pr... -2.197572\n",
       "17  ColumnTransformer(transformers=[('numerical_pr...  2.368820\n",
       "18  ColumnTransformer(transformers=[('numerical_pr...  2.280305\n",
       "19  ColumnTransformer(transformers=[('numerical_pr...  1.520990\n",
       "20  ColumnTransformer(transformers=[('numerical_pr...  0.295345\n",
       "21  ColumnTransformer(transformers=[('numerical_pr... -0.449386\n",
       "22  ColumnTransformer(transformers=[('numerical_pr...  2.319322\n",
       "23  ColumnTransformer(transformers=[('numerical_pr...  0.480644\n",
       "24  ColumnTransformer(transformers=[('numerical_pr...  2.009353\n",
       "25  ColumnTransformer(transformers=[('numerical_pr... -8.604127\n",
       "26  ColumnTransformer(transformers=[('numerical_pr... -0.358754\n",
       "27  ColumnTransformer(transformers=[('numerical_pr...  0.161647\n",
       "28  ColumnTransformer(transformers=[('numerical_pr...  0.624544\n",
       "29  ColumnTransformer(transformers=[('numerical_pr...  3.368777\n",
       "30  ColumnTransformer(transformers=[('numerical_pr... -0.843045\n",
       "31  ColumnTransformer(transformers=[('numerical_pr... -0.329390\n",
       "32  ColumnTransformer(transformers=[('numerical_pr... -2.586214\n",
       "33  ColumnTransformer(transformers=[('numerical_pr... -0.581932\n",
       "34  ColumnTransformer(transformers=[('numerical_pr... -1.564746\n",
       "35  ColumnTransformer(transformers=[('numerical_pr...  4.150268\n",
       "36  ColumnTransformer(transformers=[('numerical_pr... -2.041154\n",
       "37  ColumnTransformer(transformers=[('numerical_pr... -3.520688\n",
       "38  ColumnTransformer(transformers=[('numerical_pr...  2.245942\n",
       "39  ColumnTransformer(transformers=[('numerical_pr...  0.683907\n",
       "40  ColumnTransformer(transformers=[('numerical_pr...  0.332192\n",
       "41  ColumnTransformer(transformers=[('numerical_pr...  0.258647\n",
       "42  ColumnTransformer(transformers=[('numerical_pr... -3.305648\n",
       "43  ColumnTransformer(transformers=[('numerical_pr...  6.075894\n",
       "44  ColumnTransformer(transformers=[('numerical_pr...  2.344345\n",
       "45  ColumnTransformer(transformers=[('numerical_pr... -0.362412\n",
       "46  ColumnTransformer(transformers=[('numerical_pr... -3.054913\n",
       "47  ColumnTransformer(transformers=[('numerical_pr... -0.255084\n",
       "48  ColumnTransformer(transformers=[('numerical_pr... -1.442182\n",
       "49  ColumnTransformer(transformers=[('numerical_pr... -2.392956\n",
       "50  ColumnTransformer(transformers=[('numerical_pr...  2.406080\n",
       "51  ColumnTransformer(transformers=[('numerical_pr... -0.013124"
      ]
     },
     "execution_count": 28,
     "metadata": {},
     "output_type": "execute_result"
    }
   ],
   "source": [
    "df"
   ]
  },
  {
   "cell_type": "code",
   "execution_count": 29,
   "metadata": {},
   "outputs": [
    {
     "data": {
      "text/plain": [
       "9.591802911921977"
      ]
     },
     "execution_count": 29,
     "metadata": {},
     "output_type": "execute_result"
    }
   ],
   "source": [
    "complete_pipeline[\"estimator\"].intercept_"
   ]
  },
  {
   "cell_type": "code",
   "execution_count": 30,
   "metadata": {},
   "outputs": [
    {
     "data": {
      "text/plain": [
       "(12.445654374456325, 12.20395699226047)"
      ]
     },
     "execution_count": 30,
     "metadata": {},
     "output_type": "execute_result"
    }
   ],
   "source": [
    "y_train.mean(), y_test.mean()"
   ]
  },
  {
   "cell_type": "code",
   "execution_count": 31,
   "metadata": {},
   "outputs": [
    {
     "name": "stdout",
     "output_type": "stream",
     "text": [
      "MAE:\n",
      "Train: 4.417768148997094\n",
      "Test: 4.483667166478734\n",
      "\n",
      "RMSE:\n",
      "Train: 24.413079855802547\n",
      "Test: 24.425502309468104\n"
     ]
    }
   ],
   "source": [
    "print(\"MAE:\")\n",
    "print(\"Train:\", mean_absolute_error(y_train, complete_pipeline.predict(x_train)))\n",
    "print(\"Test:\", mean_absolute_error(y_test, complete_pipeline.predict(x_test)))\n",
    "print(\"\\nRMSE:\")\n",
    "print(\"Train:\", np.sqrt(mean_squared_error(y_train, complete_pipeline.predict(x_train))))\n",
    "print(\"Test:\", np.sqrt(mean_squared_error(y_test, complete_pipeline.predict(x_test))))"
   ]
  },
  {
   "cell_type": "markdown",
   "metadata": {},
   "source": [
    "# Validacion Supuestos"
   ]
  },
  {
   "cell_type": "code",
   "execution_count": 32,
   "metadata": {},
   "outputs": [
    {
     "name": "stderr",
     "output_type": "stream",
     "text": [
      "C:\\Users\\user\\AppData\\Local\\Temp\\ipykernel_14424\\2435057260.py:2: FutureWarning: The default value of numeric_only in DataFrame.corr is deprecated. In a future version, it will default to False. Select only valid columns or specify the value of numeric_only to silence this warning.\n",
      "  sns.heatmap(x_train.corr(), cmap=\"Blues\", vmin=0, vmax=1)\n"
     ]
    },
    {
     "data": {
      "text/plain": [
       "<Axes: >"
      ]
     },
     "execution_count": 32,
     "metadata": {},
     "output_type": "execute_result"
    },
    {
     "data": {
      "image/png": "[encoded data removed]",
      "text/plain": [
       "<Figure size 1200x1000 with 2 Axes>"
      ]
     },
     "metadata": {},
     "output_type": "display_data"
    }
   ],
   "source": [
    "plt.figure(figsize=(12, 10))\n",
    "sns.heatmap(x_train.corr(), cmap=\"Blues\", vmin=0, vmax=1)"
   ]
  },
  {
   "cell_type": "code",
   "execution_count": 33,
   "metadata": {},
   "outputs": [
    {
     "name": "stderr",
     "output_type": "stream",
     "text": [
      "C:\\Users\\user\\AppData\\Local\\Temp\\ipykernel_14424\\956354856.py:1: FutureWarning: The default value of numeric_only in DataFrame.corr is deprecated. In a future version, it will default to False. Select only valid columns or specify the value of numeric_only to silence this warning.\n",
      "  x_train.corr()\n"
     ]
    },
    {
     "data": {
      "text/html": [
       "<div>\n",
       "<style scoped>\n",
       "    .dataframe tbody tr th:only-of-type {\n",
       "        vertical-align: middle;\n",
       "    }\n",
       "\n",
       "    .dataframe tbody tr th {\n",
       "        vertical-align: top;\n",
       "    }\n",
       "\n",
       "    .dataframe thead th {\n",
       "        text-align: right;\n",
       "    }\n",
       "</style>\n",
       "<table border=\"1\" class=\"dataframe\">\n",
       "  <thead>\n",
       "    <tr style=\"text-align: right;\">\n",
       "      <th></th>\n",
       "      <th>Ram</th>\n",
       "      <th>Weight</th>\n",
       "      <th>TouchScreen</th>\n",
       "      <th>Ips</th>\n",
       "      <th>Ppi</th>\n",
       "      <th>HDD</th>\n",
       "      <th>SSD</th>\n",
       "    </tr>\n",
       "  </thead>\n",
       "  <tbody>\n",
       "    <tr>\n",
       "      <th>Ram</th>\n",
       "      <td>1.000000</td>\n",
       "      <td>0.077395</td>\n",
       "      <td>0.105540</td>\n",
       "      <td>0.206739</td>\n",
       "      <td>0.292942</td>\n",
       "      <td>0.083893</td>\n",
       "      <td>0.594051</td>\n",
       "    </tr>\n",
       "    <tr>\n",
       "      <th>Weight</th>\n",
       "      <td>0.077395</td>\n",
       "      <td>1.000000</td>\n",
       "      <td>-0.070687</td>\n",
       "      <td>-0.015569</td>\n",
       "      <td>-0.066348</td>\n",
       "      <td>0.079452</td>\n",
       "      <td>0.000591</td>\n",
       "    </tr>\n",
       "    <tr>\n",
       "      <th>TouchScreen</th>\n",
       "      <td>0.105540</td>\n",
       "      <td>-0.070687</td>\n",
       "      <td>1.000000</td>\n",
       "      <td>0.143098</td>\n",
       "      <td>0.430721</td>\n",
       "      <td>-0.195687</td>\n",
       "      <td>0.236664</td>\n",
       "    </tr>\n",
       "    <tr>\n",
       "      <th>Ips</th>\n",
       "      <td>0.206739</td>\n",
       "      <td>-0.015569</td>\n",
       "      <td>0.143098</td>\n",
       "      <td>1.000000</td>\n",
       "      <td>0.287095</td>\n",
       "      <td>-0.080812</td>\n",
       "      <td>0.212807</td>\n",
       "    </tr>\n",
       "    <tr>\n",
       "      <th>Ppi</th>\n",
       "      <td>0.292942</td>\n",
       "      <td>-0.066348</td>\n",
       "      <td>0.430721</td>\n",
       "      <td>0.287095</td>\n",
       "      <td>1.000000</td>\n",
       "      <td>-0.288397</td>\n",
       "      <td>0.498165</td>\n",
       "    </tr>\n",
       "    <tr>\n",
       "      <th>HDD</th>\n",
       "      <td>0.083893</td>\n",
       "      <td>0.079452</td>\n",
       "      <td>-0.195687</td>\n",
       "      <td>-0.080812</td>\n",
       "      <td>-0.288397</td>\n",
       "      <td>1.000000</td>\n",
       "      <td>-0.399654</td>\n",
       "    </tr>\n",
       "    <tr>\n",
       "      <th>SSD</th>\n",
       "      <td>0.594051</td>\n",
       "      <td>0.000591</td>\n",
       "      <td>0.236664</td>\n",
       "      <td>0.212807</td>\n",
       "      <td>0.498165</td>\n",
       "      <td>-0.399654</td>\n",
       "      <td>1.000000</td>\n",
       "    </tr>\n",
       "  </tbody>\n",
       "</table>\n",
       "</div>"
      ],
      "text/plain": [
       "                  Ram    Weight  TouchScreen       Ips       Ppi       HDD  \\\n",
       "Ram          1.000000  0.077395     0.105540  0.206739  0.292942  0.083893   \n",
       "Weight       0.077395  1.000000    -0.070687 -0.015569 -0.066348  0.079452   \n",
       "TouchScreen  0.105540 -0.070687     1.000000  0.143098  0.430721 -0.195687   \n",
       "Ips          0.206739 -0.015569     0.143098  1.000000  0.287095 -0.080812   \n",
       "Ppi          0.292942 -0.066348     0.430721  0.287095  1.000000 -0.288397   \n",
       "HDD          0.083893  0.079452    -0.195687 -0.080812 -0.288397  1.000000   \n",
       "SSD          0.594051  0.000591     0.236664  0.212807  0.498165 -0.399654   \n",
       "\n",
       "                  SSD  \n",
       "Ram          0.594051  \n",
       "Weight       0.000591  \n",
       "TouchScreen  0.236664  \n",
       "Ips          0.212807  \n",
       "Ppi          0.498165  \n",
       "HDD         -0.399654  \n",
       "SSD          1.000000  "
      ]
     },
     "execution_count": 33,
     "metadata": {},
     "output_type": "execute_result"
    }
   ],
   "source": [
    "x_train.corr()"
   ]
  },
  {
   "cell_type": "markdown",
   "metadata": {},
   "source": [
    "En este caso particular, para eliminar variables de correlacion se opta por elegir aquellas con un numero superior a 0.4%. Podemos elegir en este caso aquellas que estan causando correlacion con las variables, es decir:\n",
    "\n",
    "* SSD esta correlacionada con Ram, sin embargo, podemos darnso ceunta que RAM no esta correlacionada con ninguna otra. Por esto, elegimos a SSD para eliminar.\n",
    "\n",
    "* PPi tambien esta correlacionada con TouchScreen, al igual que en el caso anterior, TouchScreen unicamente esta correlacionada con esta, por eso, elegimos para eliminar a PPi."
   ]
  },
  {
   "cell_type": "code",
   "execution_count": 34,
   "metadata": {},
   "outputs": [],
   "source": [
    "numerical.remove(\"SSD\")\n",
    "numerical.remove(\"Ppi\")"
   ]
  },
  {
   "cell_type": "code",
   "execution_count": 35,
   "metadata": {},
   "outputs": [],
   "source": [
    "\n",
    "\n",
    "x = train[numerical + categoricas]\n",
    "y = train[\"Price\"]\n",
    "\n",
    "nx_train, nx_test, ny_train, ny_test = train_test_split(x, y, random_state=0)\n",
    "x_REAL_test = test[numerical+ categoricas]\n",
    "\n",
    "\n",
    "preprocessing_pipeline = ColumnTransformer([\n",
    "    (\"numerical_preprocessor\", numerical_pipeline, numerical),\n",
    "    (\"categorical_preprocessor\", categorical_pipeline, categoricas)\n",
    "])\n",
    "\n",
    "complete_pipeline = Pipeline([\n",
    "    (\"preprocessor\", preprocessing_pipeline),\n",
    "    (\"estimator\", ML_model)\n",
    "])\n"
   ]
  },
  {
   "cell_type": "code",
   "execution_count": 36,
   "metadata": {},
   "outputs": [
    {
     "name": "stderr",
     "output_type": "stream",
     "text": [
      "c:\\Users\\user\\AppData\\Local\\Programs\\Python\\Python310\\lib\\site-packages\\sklearn\\preprocessing\\_encoders.py:972: FutureWarning: `sparse` was renamed to `sparse_output` in version 1.2 and will be removed in 1.4. `sparse_output` is ignored unless you leave `sparse` to its default value.\n",
      "  warnings.warn(\n"
     ]
    },
    {
     "data": {
      "text/html": [
       "<style>#sk-container-id-3 {color: black;}#sk-container-id-3 pre{padding: 0;}#sk-container-id-3 div.sk-toggleable {background-color: white;}#sk-container-id-3 label.sk-toggleable__label {cursor: pointer;display: block;width: 100%;margin-bottom: 0;padding: 0.3em;box-sizing: border-box;text-align: center;}#sk-container-id-3 label.sk-toggleable__label-arrow:before {content: \"▸\";float: left;margin-right: 0.25em;color: #696969;}#sk-container-id-3 label.sk-toggleable__label-arrow:hover:before {color: black;}#sk-container-id-3 div.sk-estimator:hover label.sk-toggleable__label-arrow:before {color: black;}#sk-container-id-3 div.sk-toggleable__content {max-height: 0;max-width: 0;overflow: hidden;text-align: left;background-color: #f0f8ff;}#sk-container-id-3 div.sk-toggleable__content pre {margin: 0.2em;color: black;border-radius: 0.25em;background-color: #f0f8ff;}#sk-container-id-3 input.sk-toggleable__control:checked~div.sk-toggleable__content {max-height: 200px;max-width: 100%;overflow: auto;}#sk-container-id-3 input.sk-toggleable__control:checked~label.sk-toggleable__label-arrow:before {content: \"▾\";}#sk-container-id-3 div.sk-estimator input.sk-toggleable__control:checked~label.sk-toggleable__label {background-color: #d4ebff;}#sk-container-id-3 div.sk-label input.sk-toggleable__control:checked~label.sk-toggleable__label {background-color: #d4ebff;}#sk-container-id-3 input.sk-hidden--visually {border: 0;clip: rect(1px 1px 1px 1px);clip: rect(1px, 1px, 1px, 1px);height: 1px;margin: -1px;overflow: hidden;padding: 0;position: absolute;width: 1px;}#sk-container-id-3 div.sk-estimator {font-family: monospace;background-color: #f0f8ff;border: 1px dotted black;border-radius: 0.25em;box-sizing: border-box;margin-bottom: 0.5em;}#sk-container-id-3 div.sk-estimator:hover {background-color: #d4ebff;}#sk-container-id-3 div.sk-parallel-item::after {content: \"\";width: 100%;border-bottom: 1px solid gray;flex-grow: 1;}#sk-container-id-3 div.sk-label:hover label.sk-toggleable__label {background-color: #d4ebff;}#sk-container-id-3 div.sk-serial::before {content: \"\";position: absolute;border-left: 1px solid gray;box-sizing: border-box;top: 0;bottom: 0;left: 50%;z-index: 0;}#sk-container-id-3 div.sk-serial {display: flex;flex-direction: column;align-items: center;background-color: white;padding-right: 0.2em;padding-left: 0.2em;position: relative;}#sk-container-id-3 div.sk-item {position: relative;z-index: 1;}#sk-container-id-3 div.sk-parallel {display: flex;align-items: stretch;justify-content: center;background-color: white;position: relative;}#sk-container-id-3 div.sk-item::before, #sk-container-id-3 div.sk-parallel-item::before {content: \"\";position: absolute;border-left: 1px solid gray;box-sizing: border-box;top: 0;bottom: 0;left: 50%;z-index: -1;}#sk-container-id-3 div.sk-parallel-item {display: flex;flex-direction: column;z-index: 1;position: relative;background-color: white;}#sk-container-id-3 div.sk-parallel-item:first-child::after {align-self: flex-end;width: 50%;}#sk-container-id-3 div.sk-parallel-item:last-child::after {align-self: flex-start;width: 50%;}#sk-container-id-3 div.sk-parallel-item:only-child::after {width: 0;}#sk-container-id-3 div.sk-dashed-wrapped {border: 1px dashed gray;margin: 0 0.4em 0.5em 0.4em;box-sizing: border-box;padding-bottom: 0.4em;background-color: white;}#sk-container-id-3 div.sk-label label {font-family: monospace;font-weight: bold;display: inline-block;line-height: 1.2em;}#sk-container-id-3 div.sk-label-container {text-align: center;}#sk-container-id-3 div.sk-container {/* jupyter's `normalize.less` sets `[hidden] { display: none; }` but bootstrap.min.css set `[hidden] { display: none !important; }` so we also need the `!important` here to be able to override the default hidden behavior on the sphinx rendered scikit-learn.org. See: https://github.com/scikit-learn/scikit-learn/issues/21755 */display: inline-block !important;position: relative;}#sk-container-id-3 div.sk-text-repr-fallback {display: none;}</style><div id=\"sk-container-id-3\" class=\"sk-top-container\"><div class=\"sk-text-repr-fallback\"><pre>Pipeline(steps=[(&#x27;preprocessor&#x27;,\n",
       "                 ColumnTransformer(transformers=[(&#x27;numerical_preprocessor&#x27;,\n",
       "                                                  Pipeline(steps=[(&#x27;imputer&#x27;,\n",
       "                                                                   SimpleImputer()),\n",
       "                                                                  (&#x27;encoder&#x27;,\n",
       "                                                                   StandardScaler())]),\n",
       "                                                  [&#x27;Ram&#x27;, &#x27;Weight&#x27;,\n",
       "                                                   &#x27;TouchScreen&#x27;, &#x27;Ips&#x27;,\n",
       "                                                   &#x27;HDD&#x27;]),\n",
       "                                                 (&#x27;categorical_preprocessor&#x27;,\n",
       "                                                  Pipeline(steps=[(&#x27;imputer&#x27;,\n",
       "                                                                   SimpleImputer(strategy=&#x27;most_frequent&#x27;)),\n",
       "                                                                  (&#x27;encoder&#x27;,\n",
       "                                                                   OneHotEncoder(handle_unknown=&#x27;ignore&#x27;,\n",
       "                                                                                 sparse=True))]),\n",
       "                                                  [&#x27;Company&#x27;, &#x27;TypeName&#x27;,\n",
       "                                                   &#x27;Cpu_brand&#x27;, &#x27;Gpu_brand&#x27;,\n",
       "                                                   &#x27;Os&#x27;])])),\n",
       "                (&#x27;estimator&#x27;, LinearRegression())])</pre><b>In a Jupyter environment, please rerun this cell to show the HTML representation or trust the notebook. <br />On GitHub, the HTML representation is unable to render, please try loading this page with nbviewer.org.</b></div><div class=\"sk-container\" hidden><div class=\"sk-item sk-dashed-wrapped\"><div class=\"sk-label-container\"><div class=\"sk-label sk-toggleable\"><input class=\"sk-toggleable__control sk-hidden--visually\" id=\"sk-estimator-id-17\" type=\"checkbox\" ><label for=\"sk-estimator-id-17\" class=\"sk-toggleable__label sk-toggleable__label-arrow\">Pipeline</label><div class=\"sk-toggleable__content\"><pre>Pipeline(steps=[(&#x27;preprocessor&#x27;,\n",
       "                 ColumnTransformer(transformers=[(&#x27;numerical_preprocessor&#x27;,\n",
       "                                                  Pipeline(steps=[(&#x27;imputer&#x27;,\n",
       "                                                                   SimpleImputer()),\n",
       "                                                                  (&#x27;encoder&#x27;,\n",
       "                                                                   StandardScaler())]),\n",
       "                                                  [&#x27;Ram&#x27;, &#x27;Weight&#x27;,\n",
       "                                                   &#x27;TouchScreen&#x27;, &#x27;Ips&#x27;,\n",
       "                                                   &#x27;HDD&#x27;]),\n",
       "                                                 (&#x27;categorical_preprocessor&#x27;,\n",
       "                                                  Pipeline(steps=[(&#x27;imputer&#x27;,\n",
       "                                                                   SimpleImputer(strategy=&#x27;most_frequent&#x27;)),\n",
       "                                                                  (&#x27;encoder&#x27;,\n",
       "                                                                   OneHotEncoder(handle_unknown=&#x27;ignore&#x27;,\n",
       "                                                                                 sparse=True))]),\n",
       "                                                  [&#x27;Company&#x27;, &#x27;TypeName&#x27;,\n",
       "                                                   &#x27;Cpu_brand&#x27;, &#x27;Gpu_brand&#x27;,\n",
       "                                                   &#x27;Os&#x27;])])),\n",
       "                (&#x27;estimator&#x27;, LinearRegression())])</pre></div></div></div><div class=\"sk-serial\"><div class=\"sk-item sk-dashed-wrapped\"><div class=\"sk-label-container\"><div class=\"sk-label sk-toggleable\"><input class=\"sk-toggleable__control sk-hidden--visually\" id=\"sk-estimator-id-18\" type=\"checkbox\" ><label for=\"sk-estimator-id-18\" class=\"sk-toggleable__label sk-toggleable__label-arrow\">preprocessor: ColumnTransformer</label><div class=\"sk-toggleable__content\"><pre>ColumnTransformer(transformers=[(&#x27;numerical_preprocessor&#x27;,\n",
       "                                 Pipeline(steps=[(&#x27;imputer&#x27;, SimpleImputer()),\n",
       "                                                 (&#x27;encoder&#x27;,\n",
       "                                                  StandardScaler())]),\n",
       "                                 [&#x27;Ram&#x27;, &#x27;Weight&#x27;, &#x27;TouchScreen&#x27;, &#x27;Ips&#x27;,\n",
       "                                  &#x27;HDD&#x27;]),\n",
       "                                (&#x27;categorical_preprocessor&#x27;,\n",
       "                                 Pipeline(steps=[(&#x27;imputer&#x27;,\n",
       "                                                  SimpleImputer(strategy=&#x27;most_frequent&#x27;)),\n",
       "                                                 (&#x27;encoder&#x27;,\n",
       "                                                  OneHotEncoder(handle_unknown=&#x27;ignore&#x27;,\n",
       "                                                                sparse=True))]),\n",
       "                                 [&#x27;Company&#x27;, &#x27;TypeName&#x27;, &#x27;Cpu_brand&#x27;,\n",
       "                                  &#x27;Gpu_brand&#x27;, &#x27;Os&#x27;])])</pre></div></div></div><div class=\"sk-parallel\"><div class=\"sk-parallel-item\"><div class=\"sk-item\"><div class=\"sk-label-container\"><div class=\"sk-label sk-toggleable\"><input class=\"sk-toggleable__control sk-hidden--visually\" id=\"sk-estimator-id-19\" type=\"checkbox\" ><label for=\"sk-estimator-id-19\" class=\"sk-toggleable__label sk-toggleable__label-arrow\">numerical_preprocessor</label><div class=\"sk-toggleable__content\"><pre>[&#x27;Ram&#x27;, &#x27;Weight&#x27;, &#x27;TouchScreen&#x27;, &#x27;Ips&#x27;, &#x27;HDD&#x27;]</pre></div></div></div><div class=\"sk-serial\"><div class=\"sk-item\"><div class=\"sk-serial\"><div class=\"sk-item\"><div class=\"sk-estimator sk-toggleable\"><input class=\"sk-toggleable__control sk-hidden--visually\" id=\"sk-estimator-id-20\" type=\"checkbox\" ><label for=\"sk-estimator-id-20\" class=\"sk-toggleable__label sk-toggleable__label-arrow\">SimpleImputer</label><div class=\"sk-toggleable__content\"><pre>SimpleImputer()</pre></div></div></div><div class=\"sk-item\"><div class=\"sk-estimator sk-toggleable\"><input class=\"sk-toggleable__control sk-hidden--visually\" id=\"sk-estimator-id-21\" type=\"checkbox\" ><label for=\"sk-estimator-id-21\" class=\"sk-toggleable__label sk-toggleable__label-arrow\">StandardScaler</label><div class=\"sk-toggleable__content\"><pre>StandardScaler()</pre></div></div></div></div></div></div></div></div><div class=\"sk-parallel-item\"><div class=\"sk-item\"><div class=\"sk-label-container\"><div class=\"sk-label sk-toggleable\"><input class=\"sk-toggleable__control sk-hidden--visually\" id=\"sk-estimator-id-22\" type=\"checkbox\" ><label for=\"sk-estimator-id-22\" class=\"sk-toggleable__label sk-toggleable__label-arrow\">categorical_preprocessor</label><div class=\"sk-toggleable__content\"><pre>[&#x27;Company&#x27;, &#x27;TypeName&#x27;, &#x27;Cpu_brand&#x27;, &#x27;Gpu_brand&#x27;, &#x27;Os&#x27;]</pre></div></div></div><div class=\"sk-serial\"><div class=\"sk-item\"><div class=\"sk-serial\"><div class=\"sk-item\"><div class=\"sk-estimator sk-toggleable\"><input class=\"sk-toggleable__control sk-hidden--visually\" id=\"sk-estimator-id-23\" type=\"checkbox\" ><label for=\"sk-estimator-id-23\" class=\"sk-toggleable__label sk-toggleable__label-arrow\">SimpleImputer</label><div class=\"sk-toggleable__content\"><pre>SimpleImputer(strategy=&#x27;most_frequent&#x27;)</pre></div></div></div><div class=\"sk-item\"><div class=\"sk-estimator sk-toggleable\"><input class=\"sk-toggleable__control sk-hidden--visually\" id=\"sk-estimator-id-24\" type=\"checkbox\" ><label for=\"sk-estimator-id-24\" class=\"sk-toggleable__label sk-toggleable__label-arrow\">OneHotEncoder</label><div class=\"sk-toggleable__content\"><pre>OneHotEncoder(handle_unknown=&#x27;ignore&#x27;, sparse=True)</pre></div></div></div></div></div></div></div></div></div></div><div class=\"sk-item\"><div class=\"sk-estimator sk-toggleable\"><input class=\"sk-toggleable__control sk-hidden--visually\" id=\"sk-estimator-id-25\" type=\"checkbox\" ><label for=\"sk-estimator-id-25\" class=\"sk-toggleable__label sk-toggleable__label-arrow\">LinearRegression</label><div class=\"sk-toggleable__content\"><pre>LinearRegression()</pre></div></div></div></div></div></div></div>"
      ],
      "text/plain": [
       "Pipeline(steps=[('preprocessor',\n",
       "                 ColumnTransformer(transformers=[('numerical_preprocessor',\n",
       "                                                  Pipeline(steps=[('imputer',\n",
       "                                                                   SimpleImputer()),\n",
       "                                                                  ('encoder',\n",
       "                                                                   StandardScaler())]),\n",
       "                                                  ['Ram', 'Weight',\n",
       "                                                   'TouchScreen', 'Ips',\n",
       "                                                   'HDD']),\n",
       "                                                 ('categorical_preprocessor',\n",
       "                                                  Pipeline(steps=[('imputer',\n",
       "                                                                   SimpleImputer(strategy='most_frequent')),\n",
       "                                                                  ('encoder',\n",
       "                                                                   OneHotEncoder(handle_unknown='ignore',\n",
       "                                                                                 sparse=True))]),\n",
       "                                                  ['Company', 'TypeName',\n",
       "                                                   'Cpu_brand', 'Gpu_brand',\n",
       "                                                   'Os'])])),\n",
       "                ('estimator', LinearRegression())])"
      ]
     },
     "execution_count": 36,
     "metadata": {},
     "output_type": "execute_result"
    }
   ],
   "source": [
    "complete_pipeline.fit(nx_train, ny_train)"
   ]
  },
  {
   "cell_type": "code",
   "execution_count": 37,
   "metadata": {},
   "outputs": [
    {
     "data": {
      "text/html": [
       "<style>#sk-container-id-4 {color: black;}#sk-container-id-4 pre{padding: 0;}#sk-container-id-4 div.sk-toggleable {background-color: white;}#sk-container-id-4 label.sk-toggleable__label {cursor: pointer;display: block;width: 100%;margin-bottom: 0;padding: 0.3em;box-sizing: border-box;text-align: center;}#sk-container-id-4 label.sk-toggleable__label-arrow:before {content: \"▸\";float: left;margin-right: 0.25em;color: #696969;}#sk-container-id-4 label.sk-toggleable__label-arrow:hover:before {color: black;}#sk-container-id-4 div.sk-estimator:hover label.sk-toggleable__label-arrow:before {color: black;}#sk-container-id-4 div.sk-toggleable__content {max-height: 0;max-width: 0;overflow: hidden;text-align: left;background-color: #f0f8ff;}#sk-container-id-4 div.sk-toggleable__content pre {margin: 0.2em;color: black;border-radius: 0.25em;background-color: #f0f8ff;}#sk-container-id-4 input.sk-toggleable__control:checked~div.sk-toggleable__content {max-height: 200px;max-width: 100%;overflow: auto;}#sk-container-id-4 input.sk-toggleable__control:checked~label.sk-toggleable__label-arrow:before {content: \"▾\";}#sk-container-id-4 div.sk-estimator input.sk-toggleable__control:checked~label.sk-toggleable__label {background-color: #d4ebff;}#sk-container-id-4 div.sk-label input.sk-toggleable__control:checked~label.sk-toggleable__label {background-color: #d4ebff;}#sk-container-id-4 input.sk-hidden--visually {border: 0;clip: rect(1px 1px 1px 1px);clip: rect(1px, 1px, 1px, 1px);height: 1px;margin: -1px;overflow: hidden;padding: 0;position: absolute;width: 1px;}#sk-container-id-4 div.sk-estimator {font-family: monospace;background-color: #f0f8ff;border: 1px dotted black;border-radius: 0.25em;box-sizing: border-box;margin-bottom: 0.5em;}#sk-container-id-4 div.sk-estimator:hover {background-color: #d4ebff;}#sk-container-id-4 div.sk-parallel-item::after {content: \"\";width: 100%;border-bottom: 1px solid gray;flex-grow: 1;}#sk-container-id-4 div.sk-label:hover label.sk-toggleable__label {background-color: #d4ebff;}#sk-container-id-4 div.sk-serial::before {content: \"\";position: absolute;border-left: 1px solid gray;box-sizing: border-box;top: 0;bottom: 0;left: 50%;z-index: 0;}#sk-container-id-4 div.sk-serial {display: flex;flex-direction: column;align-items: center;background-color: white;padding-right: 0.2em;padding-left: 0.2em;position: relative;}#sk-container-id-4 div.sk-item {position: relative;z-index: 1;}#sk-container-id-4 div.sk-parallel {display: flex;align-items: stretch;justify-content: center;background-color: white;position: relative;}#sk-container-id-4 div.sk-item::before, #sk-container-id-4 div.sk-parallel-item::before {content: \"\";position: absolute;border-left: 1px solid gray;box-sizing: border-box;top: 0;bottom: 0;left: 50%;z-index: -1;}#sk-container-id-4 div.sk-parallel-item {display: flex;flex-direction: column;z-index: 1;position: relative;background-color: white;}#sk-container-id-4 div.sk-parallel-item:first-child::after {align-self: flex-end;width: 50%;}#sk-container-id-4 div.sk-parallel-item:last-child::after {align-self: flex-start;width: 50%;}#sk-container-id-4 div.sk-parallel-item:only-child::after {width: 0;}#sk-container-id-4 div.sk-dashed-wrapped {border: 1px dashed gray;margin: 0 0.4em 0.5em 0.4em;box-sizing: border-box;padding-bottom: 0.4em;background-color: white;}#sk-container-id-4 div.sk-label label {font-family: monospace;font-weight: bold;display: inline-block;line-height: 1.2em;}#sk-container-id-4 div.sk-label-container {text-align: center;}#sk-container-id-4 div.sk-container {/* jupyter's `normalize.less` sets `[hidden] { display: none; }` but bootstrap.min.css set `[hidden] { display: none !important; }` so we also need the `!important` here to be able to override the default hidden behavior on the sphinx rendered scikit-learn.org. See: https://github.com/scikit-learn/scikit-learn/issues/21755 */display: inline-block !important;position: relative;}#sk-container-id-4 div.sk-text-repr-fallback {display: none;}</style><div id=\"sk-container-id-4\" class=\"sk-top-container\"><div class=\"sk-text-repr-fallback\"><pre>LinearRegression()</pre><b>In a Jupyter environment, please rerun this cell to show the HTML representation or trust the notebook. <br />On GitHub, the HTML representation is unable to render, please try loading this page with nbviewer.org.</b></div><div class=\"sk-container\" hidden><div class=\"sk-item\"><div class=\"sk-estimator sk-toggleable\"><input class=\"sk-toggleable__control sk-hidden--visually\" id=\"sk-estimator-id-26\" type=\"checkbox\" checked><label for=\"sk-estimator-id-26\" class=\"sk-toggleable__label sk-toggleable__label-arrow\">LinearRegression</label><div class=\"sk-toggleable__content\"><pre>LinearRegression()</pre></div></div></div></div></div>"
      ],
      "text/plain": [
       "LinearRegression()"
      ]
     },
     "execution_count": 37,
     "metadata": {},
     "output_type": "execute_result"
    }
   ],
   "source": [
    "complete_pipeline[\"estimator\"]"
   ]
  },
  {
   "cell_type": "code",
   "execution_count": 38,
   "metadata": {},
   "outputs": [],
   "source": [
    "newdf = pd.DataFrame({\"columnas\": complete_pipeline[\"preprocessor\"], \"coef\": complete_pipeline[\"estimator\"].coef_})"
   ]
  },
  {
   "cell_type": "code",
   "execution_count": 39,
   "metadata": {},
   "outputs": [
    {
     "data": {
      "text/html": [
       "<div>\n",
       "<style scoped>\n",
       "    .dataframe tbody tr th:only-of-type {\n",
       "        vertical-align: middle;\n",
       "    }\n",
       "\n",
       "    .dataframe tbody tr th {\n",
       "        vertical-align: top;\n",
       "    }\n",
       "\n",
       "    .dataframe thead th {\n",
       "        text-align: right;\n",
       "    }\n",
       "</style>\n",
       "<table border=\"1\" class=\"dataframe\">\n",
       "  <thead>\n",
       "    <tr style=\"text-align: right;\">\n",
       "      <th></th>\n",
       "      <th>columnas</th>\n",
       "      <th>coef</th>\n",
       "    </tr>\n",
       "  </thead>\n",
       "  <tbody>\n",
       "    <tr>\n",
       "      <th>0</th>\n",
       "      <td>ColumnTransformer(transformers=[('numerical_pr...</td>\n",
       "      <td>-0.001070</td>\n",
       "    </tr>\n",
       "    <tr>\n",
       "      <th>1</th>\n",
       "      <td>ColumnTransformer(transformers=[('numerical_pr...</td>\n",
       "      <td>-0.216079</td>\n",
       "    </tr>\n",
       "    <tr>\n",
       "      <th>2</th>\n",
       "      <td>ColumnTransformer(transformers=[('numerical_pr...</td>\n",
       "      <td>-1.430980</td>\n",
       "    </tr>\n",
       "    <tr>\n",
       "      <th>3</th>\n",
       "      <td>ColumnTransformer(transformers=[('numerical_pr...</td>\n",
       "      <td>1.087544</td>\n",
       "    </tr>\n",
       "    <tr>\n",
       "      <th>4</th>\n",
       "      <td>ColumnTransformer(transformers=[('numerical_pr...</td>\n",
       "      <td>-0.415684</td>\n",
       "    </tr>\n",
       "    <tr>\n",
       "      <th>5</th>\n",
       "      <td>ColumnTransformer(transformers=[('numerical_pr...</td>\n",
       "      <td>0.345141</td>\n",
       "    </tr>\n",
       "    <tr>\n",
       "      <th>6</th>\n",
       "      <td>ColumnTransformer(transformers=[('numerical_pr...</td>\n",
       "      <td>-2.711767</td>\n",
       "    </tr>\n",
       "    <tr>\n",
       "      <th>7</th>\n",
       "      <td>ColumnTransformer(transformers=[('numerical_pr...</td>\n",
       "      <td>1.212551</td>\n",
       "    </tr>\n",
       "    <tr>\n",
       "      <th>8</th>\n",
       "      <td>ColumnTransformer(transformers=[('numerical_pr...</td>\n",
       "      <td>1.086353</td>\n",
       "    </tr>\n",
       "    <tr>\n",
       "      <th>9</th>\n",
       "      <td>ColumnTransformer(transformers=[('numerical_pr...</td>\n",
       "      <td>2.072659</td>\n",
       "    </tr>\n",
       "    <tr>\n",
       "      <th>10</th>\n",
       "      <td>ColumnTransformer(transformers=[('numerical_pr...</td>\n",
       "      <td>2.050798</td>\n",
       "    </tr>\n",
       "    <tr>\n",
       "      <th>11</th>\n",
       "      <td>ColumnTransformer(transformers=[('numerical_pr...</td>\n",
       "      <td>-1.599429</td>\n",
       "    </tr>\n",
       "    <tr>\n",
       "      <th>12</th>\n",
       "      <td>ColumnTransformer(transformers=[('numerical_pr...</td>\n",
       "      <td>4.246723</td>\n",
       "    </tr>\n",
       "    <tr>\n",
       "      <th>13</th>\n",
       "      <td>ColumnTransformer(transformers=[('numerical_pr...</td>\n",
       "      <td>-6.044293</td>\n",
       "    </tr>\n",
       "    <tr>\n",
       "      <th>14</th>\n",
       "      <td>ColumnTransformer(transformers=[('numerical_pr...</td>\n",
       "      <td>-2.109238</td>\n",
       "    </tr>\n",
       "    <tr>\n",
       "      <th>15</th>\n",
       "      <td>ColumnTransformer(transformers=[('numerical_pr...</td>\n",
       "      <td>2.846530</td>\n",
       "    </tr>\n",
       "    <tr>\n",
       "      <th>16</th>\n",
       "      <td>ColumnTransformer(transformers=[('numerical_pr...</td>\n",
       "      <td>3.298327</td>\n",
       "    </tr>\n",
       "    <tr>\n",
       "      <th>17</th>\n",
       "      <td>ColumnTransformer(transformers=[('numerical_pr...</td>\n",
       "      <td>0.636454</td>\n",
       "    </tr>\n",
       "    <tr>\n",
       "      <th>18</th>\n",
       "      <td>ColumnTransformer(transformers=[('numerical_pr...</td>\n",
       "      <td>0.251535</td>\n",
       "    </tr>\n",
       "    <tr>\n",
       "      <th>19</th>\n",
       "      <td>ColumnTransformer(transformers=[('numerical_pr...</td>\n",
       "      <td>2.369054</td>\n",
       "    </tr>\n",
       "    <tr>\n",
       "      <th>20</th>\n",
       "      <td>ColumnTransformer(transformers=[('numerical_pr...</td>\n",
       "      <td>-0.613298</td>\n",
       "    </tr>\n",
       "    <tr>\n",
       "      <th>21</th>\n",
       "      <td>ColumnTransformer(transformers=[('numerical_pr...</td>\n",
       "      <td>0.182222</td>\n",
       "    </tr>\n",
       "    <tr>\n",
       "      <th>22</th>\n",
       "      <td>ColumnTransformer(transformers=[('numerical_pr...</td>\n",
       "      <td>1.038038</td>\n",
       "    </tr>\n",
       "    <tr>\n",
       "      <th>23</th>\n",
       "      <td>ColumnTransformer(transformers=[('numerical_pr...</td>\n",
       "      <td>-8.558359</td>\n",
       "    </tr>\n",
       "    <tr>\n",
       "      <th>24</th>\n",
       "      <td>ColumnTransformer(transformers=[('numerical_pr...</td>\n",
       "      <td>-2.159253</td>\n",
       "    </tr>\n",
       "    <tr>\n",
       "      <th>25</th>\n",
       "      <td>ColumnTransformer(transformers=[('numerical_pr...</td>\n",
       "      <td>-0.981758</td>\n",
       "    </tr>\n",
       "    <tr>\n",
       "      <th>26</th>\n",
       "      <td>ColumnTransformer(transformers=[('numerical_pr...</td>\n",
       "      <td>1.909753</td>\n",
       "    </tr>\n",
       "    <tr>\n",
       "      <th>27</th>\n",
       "      <td>ColumnTransformer(transformers=[('numerical_pr...</td>\n",
       "      <td>3.270750</td>\n",
       "    </tr>\n",
       "    <tr>\n",
       "      <th>28</th>\n",
       "      <td>ColumnTransformer(transformers=[('numerical_pr...</td>\n",
       "      <td>-1.255720</td>\n",
       "    </tr>\n",
       "    <tr>\n",
       "      <th>29</th>\n",
       "      <td>ColumnTransformer(transformers=[('numerical_pr...</td>\n",
       "      <td>-1.045752</td>\n",
       "    </tr>\n",
       "    <tr>\n",
       "      <th>30</th>\n",
       "      <td>ColumnTransformer(transformers=[('numerical_pr...</td>\n",
       "      <td>-1.463254</td>\n",
       "    </tr>\n",
       "    <tr>\n",
       "      <th>31</th>\n",
       "      <td>ColumnTransformer(transformers=[('numerical_pr...</td>\n",
       "      <td>-0.312602</td>\n",
       "    </tr>\n",
       "    <tr>\n",
       "      <th>32</th>\n",
       "      <td>ColumnTransformer(transformers=[('numerical_pr...</td>\n",
       "      <td>-1.768459</td>\n",
       "    </tr>\n",
       "    <tr>\n",
       "      <th>33</th>\n",
       "      <td>ColumnTransformer(transformers=[('numerical_pr...</td>\n",
       "      <td>5.593599</td>\n",
       "    </tr>\n",
       "    <tr>\n",
       "      <th>34</th>\n",
       "      <td>ColumnTransformer(transformers=[('numerical_pr...</td>\n",
       "      <td>-1.787305</td>\n",
       "    </tr>\n",
       "    <tr>\n",
       "      <th>35</th>\n",
       "      <td>ColumnTransformer(transformers=[('numerical_pr...</td>\n",
       "      <td>-3.335172</td>\n",
       "    </tr>\n",
       "    <tr>\n",
       "      <th>36</th>\n",
       "      <td>ColumnTransformer(transformers=[('numerical_pr...</td>\n",
       "      <td>2.008869</td>\n",
       "    </tr>\n",
       "    <tr>\n",
       "      <th>37</th>\n",
       "      <td>ColumnTransformer(transformers=[('numerical_pr...</td>\n",
       "      <td>0.751377</td>\n",
       "    </tr>\n",
       "    <tr>\n",
       "      <th>38</th>\n",
       "      <td>ColumnTransformer(transformers=[('numerical_pr...</td>\n",
       "      <td>1.231702</td>\n",
       "    </tr>\n",
       "    <tr>\n",
       "      <th>39</th>\n",
       "      <td>ColumnTransformer(transformers=[('numerical_pr...</td>\n",
       "      <td>-0.656776</td>\n",
       "    </tr>\n",
       "    <tr>\n",
       "      <th>40</th>\n",
       "      <td>ColumnTransformer(transformers=[('numerical_pr...</td>\n",
       "      <td>-2.556703</td>\n",
       "    </tr>\n",
       "    <tr>\n",
       "      <th>41</th>\n",
       "      <td>ColumnTransformer(transformers=[('numerical_pr...</td>\n",
       "      <td>2.660331</td>\n",
       "    </tr>\n",
       "    <tr>\n",
       "      <th>42</th>\n",
       "      <td>ColumnTransformer(transformers=[('numerical_pr...</td>\n",
       "      <td>2.790063</td>\n",
       "    </tr>\n",
       "    <tr>\n",
       "      <th>43</th>\n",
       "      <td>ColumnTransformer(transformers=[('numerical_pr...</td>\n",
       "      <td>0.138314</td>\n",
       "    </tr>\n",
       "    <tr>\n",
       "      <th>44</th>\n",
       "      <td>ColumnTransformer(transformers=[('numerical_pr...</td>\n",
       "      <td>-2.938848</td>\n",
       "    </tr>\n",
       "    <tr>\n",
       "      <th>45</th>\n",
       "      <td>ColumnTransformer(transformers=[('numerical_pr...</td>\n",
       "      <td>0.435501</td>\n",
       "    </tr>\n",
       "    <tr>\n",
       "      <th>46</th>\n",
       "      <td>ColumnTransformer(transformers=[('numerical_pr...</td>\n",
       "      <td>-0.528658</td>\n",
       "    </tr>\n",
       "    <tr>\n",
       "      <th>47</th>\n",
       "      <td>ColumnTransformer(transformers=[('numerical_pr...</td>\n",
       "      <td>-2.711767</td>\n",
       "    </tr>\n",
       "    <tr>\n",
       "      <th>48</th>\n",
       "      <td>ColumnTransformer(transformers=[('numerical_pr...</td>\n",
       "      <td>2.317404</td>\n",
       "    </tr>\n",
       "    <tr>\n",
       "      <th>49</th>\n",
       "      <td>ColumnTransformer(transformers=[('numerical_pr...</td>\n",
       "      <td>0.394364</td>\n",
       "    </tr>\n",
       "  </tbody>\n",
       "</table>\n",
       "</div>"
      ],
      "text/plain": [
       "                                             columnas      coef\n",
       "0   ColumnTransformer(transformers=[('numerical_pr... -0.001070\n",
       "1   ColumnTransformer(transformers=[('numerical_pr... -0.216079\n",
       "2   ColumnTransformer(transformers=[('numerical_pr... -1.430980\n",
       "3   ColumnTransformer(transformers=[('numerical_pr...  1.087544\n",
       "4   ColumnTransformer(transformers=[('numerical_pr... -0.415684\n",
       "5   ColumnTransformer(transformers=[('numerical_pr...  0.345141\n",
       "6   ColumnTransformer(transformers=[('numerical_pr... -2.711767\n",
       "7   ColumnTransformer(transformers=[('numerical_pr...  1.212551\n",
       "8   ColumnTransformer(transformers=[('numerical_pr...  1.086353\n",
       "9   ColumnTransformer(transformers=[('numerical_pr...  2.072659\n",
       "10  ColumnTransformer(transformers=[('numerical_pr...  2.050798\n",
       "11  ColumnTransformer(transformers=[('numerical_pr... -1.599429\n",
       "12  ColumnTransformer(transformers=[('numerical_pr...  4.246723\n",
       "13  ColumnTransformer(transformers=[('numerical_pr... -6.044293\n",
       "14  ColumnTransformer(transformers=[('numerical_pr... -2.109238\n",
       "15  ColumnTransformer(transformers=[('numerical_pr...  2.846530\n",
       "16  ColumnTransformer(transformers=[('numerical_pr...  3.298327\n",
       "17  ColumnTransformer(transformers=[('numerical_pr...  0.636454\n",
       "18  ColumnTransformer(transformers=[('numerical_pr...  0.251535\n",
       "19  ColumnTransformer(transformers=[('numerical_pr...  2.369054\n",
       "20  ColumnTransformer(transformers=[('numerical_pr... -0.613298\n",
       "21  ColumnTransformer(transformers=[('numerical_pr...  0.182222\n",
       "22  ColumnTransformer(transformers=[('numerical_pr...  1.038038\n",
       "23  ColumnTransformer(transformers=[('numerical_pr... -8.558359\n",
       "24  ColumnTransformer(transformers=[('numerical_pr... -2.159253\n",
       "25  ColumnTransformer(transformers=[('numerical_pr... -0.981758\n",
       "26  ColumnTransformer(transformers=[('numerical_pr...  1.909753\n",
       "27  ColumnTransformer(transformers=[('numerical_pr...  3.270750\n",
       "28  ColumnTransformer(transformers=[('numerical_pr... -1.255720\n",
       "29  ColumnTransformer(transformers=[('numerical_pr... -1.045752\n",
       "30  ColumnTransformer(transformers=[('numerical_pr... -1.463254\n",
       "31  ColumnTransformer(transformers=[('numerical_pr... -0.312602\n",
       "32  ColumnTransformer(transformers=[('numerical_pr... -1.768459\n",
       "33  ColumnTransformer(transformers=[('numerical_pr...  5.593599\n",
       "34  ColumnTransformer(transformers=[('numerical_pr... -1.787305\n",
       "35  ColumnTransformer(transformers=[('numerical_pr... -3.335172\n",
       "36  ColumnTransformer(transformers=[('numerical_pr...  2.008869\n",
       "37  ColumnTransformer(transformers=[('numerical_pr...  0.751377\n",
       "38  ColumnTransformer(transformers=[('numerical_pr...  1.231702\n",
       "39  ColumnTransformer(transformers=[('numerical_pr... -0.656776\n",
       "40  ColumnTransformer(transformers=[('numerical_pr... -2.556703\n",
       "41  ColumnTransformer(transformers=[('numerical_pr...  2.660331\n",
       "42  ColumnTransformer(transformers=[('numerical_pr...  2.790063\n",
       "43  ColumnTransformer(transformers=[('numerical_pr...  0.138314\n",
       "44  ColumnTransformer(transformers=[('numerical_pr... -2.938848\n",
       "45  ColumnTransformer(transformers=[('numerical_pr...  0.435501\n",
       "46  ColumnTransformer(transformers=[('numerical_pr... -0.528658\n",
       "47  ColumnTransformer(transformers=[('numerical_pr... -2.711767\n",
       "48  ColumnTransformer(transformers=[('numerical_pr...  2.317404\n",
       "49  ColumnTransformer(transformers=[('numerical_pr...  0.394364"
      ]
     },
     "execution_count": 39,
     "metadata": {},
     "output_type": "execute_result"
    }
   ],
   "source": [
    "newdf"
   ]
  },
  {
   "cell_type": "code",
   "execution_count": 40,
   "metadata": {},
   "outputs": [
    {
     "data": {
      "text/plain": [
       "7.673546092789793"
      ]
     },
     "execution_count": 40,
     "metadata": {},
     "output_type": "execute_result"
    }
   ],
   "source": [
    "complete_pipeline[\"estimator\"].intercept_"
   ]
  },
  {
   "cell_type": "code",
   "execution_count": 41,
   "metadata": {},
   "outputs": [
    {
     "name": "stdout",
     "output_type": "stream",
     "text": [
      "MAE:\n",
      "Train: 3.9615781239517327\n",
      "Test: 3.85281054366192\n",
      "\n",
      "RMSE:\n",
      "Train: 24.50082615998525\n",
      "Test: 24.144894979846246\n"
     ]
    }
   ],
   "source": [
    "print(\"MAE:\")\n",
    "print(\"Train:\", mean_absolute_error(ny_train, complete_pipeline.predict(nx_train)))\n",
    "print(\"Test:\", mean_absolute_error(ny_test, complete_pipeline.predict(nx_test)))\n",
    "print(\"\\nRMSE:\")\n",
    "print(\"Train:\", np.sqrt(mean_squared_error(ny_train, complete_pipeline.predict(nx_train))))\n",
    "print(\"Test:\", np.sqrt(mean_squared_error(ny_test, complete_pipeline.predict(nx_test))))"
   ]
  },
  {
   "cell_type": "code",
   "execution_count": 42,
   "metadata": {},
   "outputs": [],
   "source": [
    "features2 = [\n",
    " 'Company',\n",
    " 'TypeName',\n",
    " 'Ram',\n",
    " 'Weight',\n",
    " 'Price',\n",
    " 'TouchScreen',\n",
    " 'Ips',\n",
    " 'Cpu_brand',\n",
    " 'HDD',\n",
    " 'Gpu_brand',\n",
    " 'Os']"
   ]
  },
  {
   "cell_type": "markdown",
   "metadata": {},
   "source": [
    "# Independencia Lineal"
   ]
  },
  {
   "cell_type": "code",
   "execution_count": 43,
   "metadata": {},
   "outputs": [
    {
     "data": {
      "text/plain": [
       "<seaborn.axisgrid.PairGrid at 0x24ddac23fd0>"
      ]
     },
     "execution_count": 43,
     "metadata": {},
     "output_type": "execute_result"
    },
    {
     "data": {
      "image/png": "[encoded data removed]",
      "text/plain": [
       "<Figure size 4400x400 with 12 Axes>"
      ]
     },
     "metadata": {},
     "output_type": "display_data"
    }
   ],
   "source": [
    "sns.pairplot(pd.concat([nx_train, ny_train], axis=1), height=4, y_vars=\"Price\", x_vars=features2, kind=\"scatter\")"
   ]
  },
  {
   "cell_type": "markdown",
   "metadata": {},
   "source": [
    "# Normalidad"
   ]
  },
  {
   "cell_type": "code",
   "execution_count": 44,
   "metadata": {},
   "outputs": [],
   "source": [
    "\n",
    "errors = (complete_pipeline.predict(nx_train)-ny_train).values"
   ]
  },
  {
   "cell_type": "code",
   "execution_count": 45,
   "metadata": {},
   "outputs": [
    {
     "data": {
      "image/png": "[encoded data removed]",
      "text/plain": [
       "<Figure size 1200x400 with 2 Axes>"
      ]
     },
     "metadata": {},
     "output_type": "display_data"
    }
   ],
   "source": [
    "fig, axes = plt.subplots(1, 2, figsize=(12, 4))\n",
    "\n",
    "# Dispersión\n",
    "sns.scatterplot(x=complete_pipeline.predict(nx_train), y=errors, alpha=0.1, ax=axes[0])\n",
    "\n",
    "# q-q plot\n",
    "_ = stats.probplot(errors, dist=\"norm\", plot=axes[1])"
   ]
  },
  {
   "cell_type": "markdown",
   "metadata": {},
   "source": [
    "# Homocedasticidad"
   ]
  },
  {
   "cell_type": "code",
   "execution_count": 46,
   "metadata": {},
   "outputs": [
    {
     "data": {
      "text/plain": [
       "<Axes: >"
      ]
     },
     "execution_count": 46,
     "metadata": {},
     "output_type": "execute_result"
    },
    {
     "data": {
      "image/png": "[encoded data removed]",
      "text/plain": [
       "<Figure size 640x480 with 1 Axes>"
      ]
     },
     "metadata": {},
     "output_type": "display_data"
    }
   ],
   "source": [
    "sns.scatterplot(x = complete_pipeline.predict(nx_train), y=errors, alpha=0.1)"
   ]
  },
  {
   "cell_type": "markdown",
   "metadata": {},
   "source": [
    "# Errores\n",
    "\n",
    "Podemos observar que tenemos errores en la Normalidad y en la Homocedasticidad, por lo tanto, debemos aplicar una transformacion lineal a los datos para que siga esta distribucion."
   ]
  },
  {
   "cell_type": "code",
   "execution_count": 47,
   "metadata": {},
   "outputs": [],
   "source": [
    "ny_train = np.log(ny_train)\n",
    "errors = (complete_pipeline.predict(nx_train)-ny_train).values"
   ]
  },
  {
   "cell_type": "markdown",
   "metadata": {},
   "source": [
    "Ahora realizamos las pruebas nuevamente"
   ]
  },
  {
   "cell_type": "code",
   "execution_count": 48,
   "metadata": {},
   "outputs": [
    {
     "data": {
      "image/png": "[encoded data removed]",
      "text/plain": [
       "<Figure size 1200x400 with 2 Axes>"
      ]
     },
     "metadata": {},
     "output_type": "display_data"
    }
   ],
   "source": [
    "fig, axes = plt.subplots(1, 2, figsize=(12, 4))\n",
    "\n",
    "# Dispersión\n",
    "sns.scatterplot(x=complete_pipeline.predict(nx_train), y=errors, alpha=0.1, ax=axes[0])\n",
    "\n",
    "# q-q plot\n",
    "_ = stats.probplot(errors, dist=\"norm\", plot=axes[1])"
   ]
  },
  {
   "cell_type": "code",
   "execution_count": 49,
   "metadata": {},
   "outputs": [
    {
     "data": {
      "text/plain": [
       "<Axes: >"
      ]
     },
     "execution_count": 49,
     "metadata": {},
     "output_type": "execute_result"
    },
    {
     "data": {
      "image/png": "[encoded data removed]",
      "text/plain": [
       "<Figure size 640x480 with 1 Axes>"
      ]
     },
     "metadata": {},
     "output_type": "display_data"
    }
   ],
   "source": [
    "sns.scatterplot(x = complete_pipeline.predict(nx_train), y=errors, alpha=0.1)"
   ]
  }
 ],
 "metadata": {
  "kernelspec": {
   "display_name": "Python 3",
   "language": "python",
   "name": "python3"
  },
  "language_info": {
   "codemirror_mode": {
    "name": "ipython",
    "version": 3
   },
   "file_extension": ".py",
   "mimetype": "text/x-python",
   "name": "python",
   "nbconvert_exporter": "python",
   "pygments_lexer": "ipython3",
   "version": "3.10.8"
  },
  "orig_nbformat": 4
 },
 "nbformat": 4,
 "nbformat_minor": 2
}
